{
 "cells": [
  {
   "cell_type": "code",
   "execution_count": null,
   "id": "2dacb017",
   "metadata": {},
   "outputs": [],
   "source": [
    "import pandas as pd\n",
    "import numpy as np\n",
    "import matplotlib.pyplot as plt\n",
    "import seaborn as sns\n",
    "\n",
    "%matplotlib inline"
   ]
  },
  {
   "cell_type": "code",
   "execution_count": null,
   "id": "f1de267c",
   "metadata": {},
   "outputs": [],
   "source": [
    "#there are some irregular lines in the data, so setting argument to get a note of which lines and skip them when reading in\n",
    "accre_gpu = pd.read_csv('../data/accre-gpu-jobs-2022-v2.csv', on_bad_lines='warn')"
   ]
  },
  {
   "cell_type": "code",
   "execution_count": null,
   "id": "174ba017",
   "metadata": {
    "scrolled": true
   },
   "outputs": [],
   "source": [
    "#per our stakeholder, no need to include jobs with state of pending or running in our analysis, so dropping those 1258 rows\n",
    "accre_gpu = accre_gpu.loc[~accre_gpu['STATE'].isin(['PENDING', 'RUNNING'])]\n",
    "\n",
    "#stripping the 'M' from USEDMEM column and converting it to a numeric data type\n",
    "accre_gpu['USEDMEM'] = accre_gpu['USEDMEM'].str.strip(to_strip='M').astype(float)\n",
    "\n",
    "#converting REQTIME and USEDTIME columns to timedelta data types\n",
    "accre_gpu['REQTIME'] = pd.to_timedelta(accre_gpu['REQTIME'].str.replace('-',' days '))\n",
    "accre_gpu['USEDTIME'] = pd.to_timedelta(accre_gpu['USEDTIME'].str.replace('-',' days '))\n",
    "\n",
    "#adding in a column that gives the difference in the time requested and time used\n",
    "accre_gpu['time_dif'] = accre_gpu['REQTIME'] - accre_gpu['USEDTIME']\n",
    "\n",
    "#adding in columns that provide versions of the other time columns but in seconds\n",
    "accre_gpu['REQTIME_s'] = accre_gpu['REQTIME'].astype('timedelta64[s]')\n",
    "accre_gpu['USEDTIME_s'] = accre_gpu['USEDTIME'].astype('timedelta64[s]')\n",
    "accre_gpu['time_dif_s'] = accre_gpu['REQTIME_s'] - accre_gpu['USEDTIME_s']\n",
    "\n",
    "accre_gpu"
   ]
  },
  {
   "cell_type": "markdown",
   "id": "d8c252c8",
   "metadata": {},
   "source": [
    "Doing a little exploration of the values in our columns"
   ]
  },
  {
   "cell_type": "code",
   "execution_count": null,
   "id": "a90c62d3",
   "metadata": {
    "scrolled": true
   },
   "outputs": [],
   "source": [
    "accre_gpu['STATE'].value_counts().sort_index(ascending=False)"
   ]
  },
  {
   "cell_type": "markdown",
   "id": "60532568",
   "metadata": {},
   "source": [
    "After dropping jobs marked as pending or running, these are the STATE column values that remain:   \n",
    "- Out of memory\n",
    "- Failed\n",
    "- Completed\n",
    "- Cancelled\n",
    "- Cancelled by [numerical code] (92 versions of this)"
   ]
  },
  {
   "cell_type": "markdown",
   "id": "4f5e477d",
   "metadata": {},
   "source": [
    "Exploring the jobs that show some version of a Cancelled state"
   ]
  },
  {
   "cell_type": "code",
   "execution_count": null,
   "id": "35ebab11",
   "metadata": {
    "scrolled": true
   },
   "outputs": [],
   "source": [
    "cancelled = accre_gpu.loc[accre_gpu['STATE'].str.contains('CANCELLED')]\n",
    "cancelled"
   ]
  },
  {
   "cell_type": "markdown",
   "id": "2811d548",
   "metadata": {},
   "source": [
    "There are 51,916 jobs that have a STATE value of some version of Cancelled. May be worth looking at how much time and memory was spent on these jobs"
   ]
  },
  {
   "cell_type": "code",
   "execution_count": null,
   "id": "e5668972",
   "metadata": {
    "scrolled": false
   },
   "outputs": [],
   "source": [
    "#taking a quick look just to see how many of the cancelled jobs ran for more than an hour\n",
    "cancelled.loc[cancelled['USEDTIME'] > '01:00:00'].describe()"
   ]
  },
  {
   "cell_type": "markdown",
   "id": "d29fcd34",
   "metadata": {},
   "source": [
    "Only 295 Cancelled jobs ran for longer than an hour but the mean and median for these is around 2 days, so, again, may be worth exploring to better understand them and see if such instances can be avoided"
   ]
  },
  {
   "cell_type": "code",
   "execution_count": null,
   "id": "5dc2a506",
   "metadata": {
    "scrolled": true
   },
   "outputs": [],
   "source": [
    "cancelled.loc[cancelled['USEDTIME'] > '01:00:00'].groupby('STATE')['EXITCODE'].value_counts()"
   ]
  },
  {
   "cell_type": "markdown",
   "id": "cdc55aae",
   "metadata": {},
   "source": [
    "Do these exit codes suggest that there tends to be an issue with the environment that is associated with the job being cancelled?"
   ]
  },
  {
   "cell_type": "markdown",
   "id": "5d129283",
   "metadata": {},
   "source": [
    "Shifting gears back to the primary dataset"
   ]
  },
  {
   "cell_type": "code",
   "execution_count": null,
   "id": "ae449bff",
   "metadata": {},
   "outputs": [],
   "source": [
    "#per our stakeholder, CANCELLED jobs can be excluded from the main analysis, so dropping them from the primary dataframe\n",
    "accre_gpu = accre_gpu.loc[~accre_gpu['STATE'].str.contains('CANCELLED')]\n",
    "accre_gpu.info()"
   ]
  },
  {
   "cell_type": "code",
   "execution_count": null,
   "id": "5938e0c9",
   "metadata": {},
   "outputs": [],
   "source": [
    "accre_gpu['EXITCODE'].value_counts()"
   ]
  },
  {
   "cell_type": "code",
   "execution_count": null,
   "id": "182eee1c",
   "metadata": {},
   "outputs": [],
   "source": [
    "#Taking a look at the exit codes associated with failed jobs\n",
    "accre_gpu.loc[accre_gpu['STATE'] == 'FAILED']['EXITCODE'].value_counts()"
   ]
  },
  {
   "cell_type": "markdown",
   "id": "1f73509e",
   "metadata": {},
   "source": [
    "Based on exit codes, the failed jobs seem to fail due to user side issues"
   ]
  },
  {
   "cell_type": "code",
   "execution_count": null,
   "id": "13636d38",
   "metadata": {},
   "outputs": [],
   "source": [
    "#looking at overall distribution of values for our numerical/time columns\n",
    "accre_gpu.describe()"
   ]
  },
  {
   "cell_type": "code",
   "execution_count": null,
   "id": "2f435a4a",
   "metadata": {},
   "outputs": [],
   "source": [
    "#interestingly, values slightly lower if only looking at completed jobs (no failed(440) or out of memory(3))\n",
    "accre_gpu.loc[accre_gpu['STATE'] == 'COMPLETED'].describe()"
   ]
  },
  {
   "cell_type": "markdown",
   "id": "3259c3b2",
   "metadata": {},
   "source": [
    "So much skew!"
   ]
  },
  {
   "cell_type": "code",
   "execution_count": null,
   "id": "b2a927fd",
   "metadata": {
    "scrolled": true
   },
   "outputs": [],
   "source": [
    "#looking at the longest running jobs\n",
    "accre_gpu.nlargest(20, 'USEDTIME')"
   ]
  },
  {
   "cell_type": "code",
   "execution_count": null,
   "id": "b325973f",
   "metadata": {
    "scrolled": true
   },
   "outputs": [],
   "source": [
    "#looking at the shortest running jobs\n",
    "accre_gpu.loc[accre_gpu['EXITCODE'] == '0:0'].nsmallest(20, 'USEDTIME')"
   ]
  },
  {
   "cell_type": "markdown",
   "id": "98b33a40",
   "metadata": {},
   "source": [
    "Interesting that the very longest failed after running for 49 days, but used no memory?   \n",
    "\n",
    "Also, for all these jobs that ran for just over 5 days, did they really complete within a few minutes of hitting that 5 day mark, or were they forced to \"complete\" because they hit the requested time amount?"
   ]
  },
  {
   "cell_type": "code",
   "execution_count": null,
   "id": "2a743e75",
   "metadata": {
    "scrolled": true
   },
   "outputs": [],
   "source": [
    "accre_gpu.loc[accre_gpu['USEDTIME'] > '24:00:00']"
   ]
  },
  {
   "cell_type": "markdown",
   "id": "d5b53202",
   "metadata": {},
   "source": [
    "Approximately 2.8% of jobs that show a status of completed, failed, or out of memory run for longer than 12 hours  \n",
    "Approximately 1.6% run longer than 24 hours"
   ]
  },
  {
   "cell_type": "code",
   "execution_count": null,
   "id": "065f00d3",
   "metadata": {
    "scrolled": true
   },
   "outputs": [],
   "source": [
    "#looking at the stats for jobs that failed or ran out of memory\n",
    "accre_gpu.loc[accre_gpu['STATE'] != 'COMPLETED'].describe()"
   ]
  },
  {
   "cell_type": "code",
   "execution_count": null,
   "id": "8c750465",
   "metadata": {},
   "outputs": [],
   "source": [
    "#total number of failed/out of memory jobs\n",
    "accre_gpu.loc[accre_gpu['STATE'] != 'COMPLETED'].groupby('PARTITION')['JOBID'].count()"
   ]
  },
  {
   "cell_type": "code",
   "execution_count": null,
   "id": "1c023eb3",
   "metadata": {
    "scrolled": true
   },
   "outputs": [],
   "source": [
    "#total amount of time spent on failed/out of memory jobs\n",
    "accre_gpu.loc[accre_gpu['STATE'] != 'COMPLETED'].groupby('PARTITION')['USEDTIME'].sum()"
   ]
  },
  {
   "cell_type": "code",
   "execution_count": null,
   "id": "4a3ea23a",
   "metadata": {
    "scrolled": true
   },
   "outputs": [],
   "source": [
    "#total amount of memory used on failed/out of memory jobs\n",
    "accre_gpu.loc[accre_gpu['STATE'] != 'COMPLETED'].groupby('PARTITION')['USEDMEM'].sum()"
   ]
  },
  {
   "cell_type": "code",
   "execution_count": null,
   "id": "5011e746",
   "metadata": {},
   "outputs": [],
   "source": [
    "#total number of GPUs used on failed/out of memory jobs\n",
    "accre_gpu.loc[accre_gpu['STATE'] != 'COMPLETED'].groupby('PARTITION')['GPUS'].sum()"
   ]
  },
  {
   "cell_type": "markdown",
   "id": "4ea9bdda",
   "metadata": {},
   "source": [
    "Looking at general stats for completed/failed/out of memory jobs for each partition"
   ]
  },
  {
   "cell_type": "code",
   "execution_count": null,
   "id": "f327778e",
   "metadata": {
    "scrolled": true
   },
   "outputs": [],
   "source": [
    "accre_gpu.loc[accre_gpu['PARTITION'] == 'maxwell']['EXITCODE'].value_counts()"
   ]
  },
  {
   "cell_type": "code",
   "execution_count": null,
   "id": "b493fa7f",
   "metadata": {
    "scrolled": false
   },
   "outputs": [],
   "source": [
    "accre_gpu.loc[(accre_gpu['PARTITION'] == 'maxwell')\n",
    "              &\n",
    "              (accre_gpu['EXITCODE'] == '0:0')].describe()"
   ]
  },
  {
   "cell_type": "code",
   "execution_count": null,
   "id": "621843bb",
   "metadata": {},
   "outputs": [],
   "source": []
  },
  {
   "cell_type": "code",
   "execution_count": null,
   "id": "001ac186",
   "metadata": {
    "scrolled": true
   },
   "outputs": [],
   "source": [
    "accre_gpu.loc[(accre_gpu['PARTITION'] == 'pascal')\n",
    "              &\n",
    "              (accre_gpu['EXITCODE'] == '0:0')].describe()"
   ]
  },
  {
   "cell_type": "code",
   "execution_count": null,
   "id": "f044c61d",
   "metadata": {},
   "outputs": [],
   "source": []
  },
  {
   "cell_type": "code",
   "execution_count": null,
   "id": "efae8888",
   "metadata": {
    "scrolled": false
   },
   "outputs": [],
   "source": [
    "accre_gpu.loc[(accre_gpu['PARTITION'] == 'turing')\n",
    "              &\n",
    "              (accre_gpu['EXITCODE'] == '0:0')].describe()"
   ]
  },
  {
   "cell_type": "code",
   "execution_count": null,
   "id": "4e36466c",
   "metadata": {
    "scrolled": true
   },
   "outputs": [],
   "source": [
    "#plotting USEDTIME(in minutes) against USEDMEM (dropping that 1 outlier that failed after 49 days)\n",
    "sns.set(rc={\"figure.figsize\":(12, 8)})\n",
    "g = sns.FacetGrid(accre_gpu.loc[accre_gpu['USEDTIME']<'49days'], col='PARTITION', hue='PARTITION')\n",
    "g.map_dataframe(sns.scatterplot, \n",
    "      x='USEDTIME_s', \n",
    "      y=\"USEDMEM\");"
   ]
  },
  {
   "cell_type": "code",
   "execution_count": null,
   "id": "3c42053c",
   "metadata": {
    "scrolled": true
   },
   "outputs": [],
   "source": [
    "#plotting GPUs against USEDMEM (dropping that 1 outlier that failed after 49 days)\n",
    "sns.set(rc={\"figure.figsize\":(12, 8)})\n",
    "g = sns.FacetGrid(accre_gpu.loc[accre_gpu['USEDTIME']<'49days'], col='PARTITION', hue='PARTITION')\n",
    "g.map_dataframe(sns.scatterplot, \n",
    "      x='GPUS', \n",
    "      y=\"USEDMEM\");"
   ]
  },
  {
   "cell_type": "code",
   "execution_count": null,
   "id": "7694a284",
   "metadata": {
    "scrolled": true
   },
   "outputs": [],
   "source": [
    "#plotting GPUs against USEDTIME(in minutes) (dropping that 1 outlier that failed after 49 days)\n",
    "sns.set(rc={\"figure.figsize\":(12, 8)})\n",
    "g = sns.FacetGrid(accre_gpu.loc[accre_gpu['USEDTIME']<'49days'], col='PARTITION', hue='PARTITION')\n",
    "g.map_dataframe(sns.scatterplot, \n",
    "      x='GPUS', \n",
    "      y=\"USEDTIME_s\");"
   ]
  },
  {
   "cell_type": "markdown",
   "id": "bf86a26e",
   "metadata": {},
   "source": [
    "Curious about jobs that ran as long or longer than requested time"
   ]
  },
  {
   "cell_type": "code",
   "execution_count": null,
   "id": "ee649a91",
   "metadata": {
    "scrolled": true
   },
   "outputs": [],
   "source": [
    "accre_gpu[accre_gpu['USEDTIME'] >= accre_gpu['REQTIME']]"
   ]
  },
  {
   "cell_type": "code",
   "execution_count": null,
   "id": "c1b63e02",
   "metadata": {
    "scrolled": true
   },
   "outputs": [],
   "source": [
    "accre_gpu[accre_gpu['USEDTIME'] >= accre_gpu['REQTIME']].describe()"
   ]
  },
  {
   "cell_type": "markdown",
   "id": "3034c358",
   "metadata": {},
   "source": [
    "#### 4. What is the distribution of different groups and users accessing each partition? In each partition, who are the top users, and do they represent a majority of the runtime-weighted jobs on the partition?"
   ]
  },
  {
   "cell_type": "code",
   "execution_count": null,
   "id": "e0bd5189",
   "metadata": {
    "scrolled": false
   },
   "outputs": [],
   "source": [
    "#number of accounts accessing each partition\n",
    "(\n",
    "    accre_gpu\n",
    "    .groupby('PARTITION')['ACCOUNT']\n",
    "    .nunique()\n",
    "    .to_frame()\n",
    "    .reset_index()\n",
    ")"
   ]
  },
  {
   "cell_type": "code",
   "execution_count": null,
   "id": "634f8700",
   "metadata": {},
   "outputs": [],
   "source": [
    "#looking to see if users are associated with more than one account\n",
    "#waiting to hear back if these actually are the same individuals, or if every account/user combo is unique\n",
    "accre_gpu.groupby('USER')['ACCOUNT'].nunique().sort_values(ascending=False).head(25)"
   ]
  },
  {
   "cell_type": "code",
   "execution_count": null,
   "id": "fc8d7aec",
   "metadata": {},
   "outputs": [],
   "source": [
    "#number of users accessing each partition (assuming here each username is unique regardless of account)\n",
    "(\n",
    "    accre_gpu\n",
    "    .groupby('PARTITION')['USER']\n",
    "    .nunique()\n",
    "    .to_frame()\n",
    "    .reset_index()\n",
    ")"
   ]
  },
  {
   "cell_type": "code",
   "execution_count": null,
   "id": "d887db63",
   "metadata": {
    "scrolled": true
   },
   "outputs": [],
   "source": [
    "#number of jobs by partition and STATE\n",
    "(\n",
    "    accre_gpu\n",
    "    .groupby(['PARTITION', 'STATE'])['JOBID']\n",
    "    .nunique()\n",
    "    .to_frame()\n",
    "    .reset_index()\n",
    ")"
   ]
  },
  {
   "cell_type": "code",
   "execution_count": null,
   "id": "8a21f8e4",
   "metadata": {},
   "outputs": [],
   "source": [
    "#total usage time by partition\n",
    "(\n",
    "    accre_gpu\n",
    "    .groupby('PARTITION')['USEDTIME']\n",
    "    .sum()\n",
    "    .to_frame()\n",
    "    .reset_index()\n",
    ")"
   ]
  },
  {
   "cell_type": "code",
   "execution_count": null,
   "id": "bec9f0cf",
   "metadata": {},
   "outputs": [],
   "source": [
    "#total memory use by partition\n",
    "(\n",
    "    accre_gpu\n",
    "    .groupby('PARTITION')['USEDMEM']\n",
    "    .sum()\n",
    "    .to_frame()\n",
    "    .reset_index()\n",
    ")"
   ]
  },
  {
   "cell_type": "code",
   "execution_count": null,
   "id": "9f60c182",
   "metadata": {
    "scrolled": true
   },
   "outputs": [],
   "source": [
    "#plotting number of users by partition and account\n",
    "sns.set(rc={\"figure.figsize\":(6, 8)})\n",
    "sns.barplot(\n",
    "             x='USER',\n",
    "             y='ACCOUNT',\n",
    "             hue='PARTITION',\n",
    "             data=(accre_gpu\n",
    "                    .groupby(['PARTITION', 'ACCOUNT'])['USER']\n",
    "                    .nunique()\n",
    "                    .to_frame()\n",
    "                    .reset_index()\n",
    "                    .sort_values('ACCOUNT'))\n",
    "            );"
   ]
  },
  {
   "cell_type": "code",
   "execution_count": null,
   "id": "b0a40021",
   "metadata": {},
   "outputs": [],
   "source": [
    "#plotting number of jobs by partition and account\n",
    "sns.set(rc={\"figure.figsize\":(10, 8)})\n",
    "sns.barplot(\n",
    "             x='JOBID',\n",
    "             y='ACCOUNT',\n",
    "             hue='PARTITION',\n",
    "             data=(accre_gpu\n",
    "                    .groupby(['PARTITION', 'ACCOUNT'])['JOBID']\n",
    "                    .nunique()\n",
    "                    .to_frame()\n",
    "                    .reset_index()\n",
    "                    .sort_values('ACCOUNT'))\n",
    "            );"
   ]
  },
  {
   "cell_type": "code",
   "execution_count": null,
   "id": "24d000e9",
   "metadata": {
    "scrolled": false
   },
   "outputs": [],
   "source": [
    "#plotting total memory usage by partition and account\n",
    "sns.set(rc={\"figure.figsize\":(10, 8)})\n",
    "sns.barplot(\n",
    "             x='USEDMEM',\n",
    "             y='ACCOUNT',\n",
    "             hue='PARTITION',\n",
    "             data=(accre_gpu\n",
    "                    .groupby(['PARTITION', 'ACCOUNT'])['USEDMEM']\n",
    "                    .sum()\n",
    "                    .to_frame()\n",
    "                    .reset_index()\n",
    "                    .sort_values('ACCOUNT'))\n",
    "            );"
   ]
  },
  {
   "cell_type": "code",
   "execution_count": null,
   "id": "10f21f5c",
   "metadata": {
    "scrolled": false
   },
   "outputs": [],
   "source": [
    "#plotting total time used in minutes by partition and account\n",
    "sns.set(rc={\"figure.figsize\":(10, 8)})\n",
    "sns.barplot(\n",
    "             x='USEDTIME_s',\n",
    "             y='ACCOUNT',\n",
    "             hue='PARTITION',\n",
    "             data=(accre_gpu\n",
    "                    .groupby(['PARTITION', 'ACCOUNT'])['USEDTIME_s']\n",
    "                    .sum()\n",
    "                    .to_frame()\n",
    "                    .reset_index()\n",
    "                    .sort_values('ACCOUNT'))\n",
    "            );"
   ]
  },
  {
   "cell_type": "code",
   "execution_count": null,
   "id": "488ef596",
   "metadata": {},
   "outputs": [],
   "source": [
    "#plotting total time difference in m by partition and account\n",
    "sns.set(rc={\"figure.figsize\":(10, 8)})\n",
    "sns.barplot(\n",
    "             x='time_dif_s',\n",
    "             y='ACCOUNT',\n",
    "             hue='PARTITION',\n",
    "             data=(accre_gpu\n",
    "                    .groupby(['PARTITION', 'ACCOUNT'])['time_dif_s']\n",
    "                    .sum()\n",
    "                    .to_frame()\n",
    "                    .reset_index()\n",
    "                    .sort_values('ACCOUNT'))\n",
    "            );"
   ]
  },
  {
   "cell_type": "code",
   "execution_count": null,
   "id": "dcab5dcf",
   "metadata": {
    "scrolled": true
   },
   "outputs": [],
   "source": [
    "#number of jobs either completed, failed, or ran out of memory for each user\n",
    "user_counts = (\n",
    "    accre_gpu\n",
    "    .groupby(['PARTITION','ACCOUNT','USER'])['JOBID']\n",
    "    .count()\n",
    "    .to_frame()\n",
    "    .reset_index()\n",
    "    .sort_values('JOBID', ascending=False)\n",
    "    .rename(columns={'JOBID':'job_count'})\n",
    ")\n",
    "user_counts"
   ]
  },
  {
   "cell_type": "markdown",
   "id": "9478b9f2",
   "metadata": {},
   "source": [
    "Almost half of all jobs in this data set came frome one user in one partition"
   ]
  },
  {
   "cell_type": "code",
   "execution_count": null,
   "id": "152de086",
   "metadata": {},
   "outputs": [],
   "source": [
    "#total amount of time used for all jobs either completed, failed, or ran out of memory for each user\n",
    "user_time = (\n",
    "    accre_gpu\n",
    "    .groupby(['PARTITION', 'ACCOUNT', 'USER'])['USEDTIME']\n",
    "    .sum()\n",
    "    .to_frame()\n",
    "    .reset_index()\n",
    ")\n",
    "user_time"
   ]
  },
  {
   "cell_type": "code",
   "execution_count": null,
   "id": "51cc50d7",
   "metadata": {
    "scrolled": true
   },
   "outputs": [],
   "source": [
    "#total amount of memory used for all jobs either completed, failed, or ran out of memory for each user\n",
    "user_memory = (\n",
    "    accre_gpu\n",
    "    .groupby(['PARTITION', 'ACCOUNT', 'USER'])['USEDMEM']\n",
    "    .sum()\n",
    "    .to_frame()\n",
    "    .reset_index()\n",
    ")\n",
    "user_memory"
   ]
  },
  {
   "cell_type": "code",
   "execution_count": null,
   "id": "b3312119",
   "metadata": {},
   "outputs": [],
   "source": [
    "#total difference between requested and used time for each user\n",
    "user_dif = (\n",
    "    accre_gpu\n",
    "    .groupby(['PARTITION', 'ACCOUNT', 'USER'])['time_dif']\n",
    "    .sum()\n",
    "    .to_frame()\n",
    "    .reset_index()\n",
    ")\n",
    "user_dif"
   ]
  },
  {
   "cell_type": "code",
   "execution_count": null,
   "id": "3b145959",
   "metadata": {},
   "outputs": [],
   "source": [
    "#putting all these user details into a single df\n",
    "from functools import reduce\n",
    "\n",
    "dfs=[user_counts, user_memory, user_time, user_dif]\n",
    "\n",
    "user_details = reduce(lambda left, right: pd.merge(left, right), dfs)\n",
    "\n",
    "user_details['time_dif_h'] = user_details['time_dif'].astype('timedelta64[h]')\n",
    "\n",
    "user_details['time_dif_h_per_job'] = user_details['time_dif'].astype('timedelta64[h]')/user_details['job_count']\n",
    "user_details['mem_per_job'] = user_details['USEDMEM']/user_details['job_count']\n",
    "user_details['time_per_job'] = user_details['USEDTIME']/user_details['job_count']\n",
    "\n",
    "user_details['time_weighted_jobs'] = (user_details['USEDTIME'].dt.total_seconds()/86400) * (user_details['job_count'])\n",
    "\n",
    "user_details"
   ]
  },
  {
   "cell_type": "code",
   "execution_count": null,
   "id": "9f943e0f",
   "metadata": {},
   "outputs": [],
   "source": [
    "user_details.describe()"
   ]
  },
  {
   "cell_type": "markdown",
   "id": "591fc2e7",
   "metadata": {},
   "source": [
    "#### 5. Currently there is a 5 day limit on runtime for GPU jobs, although some users have been asking for extensions. What is the distribution of requested runtime and actual runtime on jobs on each partition? Do users really need more time, or are they simply always requesting the maximum?"
   ]
  },
  {
   "cell_type": "code",
   "execution_count": null,
   "id": "4651adbf",
   "metadata": {
    "scrolled": true
   },
   "outputs": [],
   "source": [
    "#how many times did accounts make request for 5 or more days\n",
    "accre_gpu.loc[accre_gpu['REQTIME'] >= '5 days']['ACCOUNT'].value_counts()"
   ]
  },
  {
   "cell_type": "code",
   "execution_count": null,
   "id": "9275eae7",
   "metadata": {},
   "outputs": [],
   "source": [
    "#how many times did accounts have time differences between requested/used time of at least 1 day (for any amount of time requested)\n",
    "accre_gpu.loc[accre_gpu['time_dif'] >= '1 day']['ACCOUNT'].value_counts()"
   ]
  },
  {
   "cell_type": "code",
   "execution_count": null,
   "id": "c6c31380",
   "metadata": {
    "scrolled": false
   },
   "outputs": [],
   "source": [
    "#looking at a plot of the count of different time differences (in hours) with each bin being 3 hours wide\n",
    "sns.set(rc={\"figure.figsize\":(14, 10)})\n",
    "sns.histplot(\n",
    "    data = accre_gpu.loc[accre_gpu['time_dif_s'] >= 0], \n",
    "    x = (accre_gpu['time_dif'].astype('timedelta64[h]')),\n",
    "    binwidth=3,\n",
    "    hue = 'PARTITION'\n",
    ");"
   ]
  },
  {
   "cell_type": "code",
   "execution_count": null,
   "id": "1889f0f8",
   "metadata": {},
   "outputs": [],
   "source": [
    "#looking more specifically at requests that are for 5 or more days, bins here are percentage of jobs rather than counts\n",
    "print(\"Number of 5+ day requests: \")\n",
    "print(len(accre_gpu.loc[accre_gpu['REQTIME'] >= '5 days']))\n",
    "sns.set(rc={\"figure.figsize\":(14, 10)})\n",
    "sns.histplot(\n",
    "    data = accre_gpu.loc[accre_gpu['REQTIME'] >= '5 days'], \n",
    "    x = (accre_gpu['time_dif'].astype('timedelta64[h]')),\n",
    "    stat='percent',\n",
    "    binwidth=3,\n",
    "    hue = 'PARTITION'\n",
    ");"
   ]
  },
  {
   "cell_type": "code",
   "execution_count": null,
   "id": "8900b3b9",
   "metadata": {},
   "outputs": [],
   "source": [
    "#looking at the sum of all time differences by partition and account\n",
    "sns.set(rc={\"figure.figsize\":(10, 8)})\n",
    "sns.barplot(\n",
    "             x='time_dif_h',\n",
    "             y='ACCOUNT',\n",
    "             hue='PARTITION',\n",
    "             data=(user_details\n",
    "                    .groupby(['PARTITION', 'ACCOUNT'])['time_dif_h']\n",
    "                    .sum()\n",
    "                    .to_frame()\n",
    "                    .reset_index()\n",
    "                    .sort_values('ACCOUNT'))\n",
    "            );"
   ]
  },
  {
   "cell_type": "code",
   "execution_count": null,
   "id": "07888f30",
   "metadata": {},
   "outputs": [],
   "source": [
    "#looking at sum of time differences for those users who have instances of differences of at least 4 days\n",
    "sns.set(rc={\"figure.figsize\":(10, 8)})\n",
    "sns.barplot( x='time_dif_h',\n",
    "             y='USER',\n",
    "             hue='PARTITION',\n",
    "             data=(user_details\n",
    "                    .loc[user_details['USER']\n",
    "                         .isin(accre_gpu.loc[accre_gpu['time_dif'] >= '4 days']['USER'])]\n",
    "                    .groupby(['PARTITION', 'USER'])['time_dif_h']\n",
    "                    .sum()\n",
    "                    .to_frame()\n",
    "                    .reset_index()\n",
    "                    .sort_values('USER'))\n",
    "            );"
   ]
  },
  {
   "cell_type": "code",
   "execution_count": null,
   "id": "f8cf7c81",
   "metadata": {},
   "outputs": [],
   "source": []
  },
  {
   "cell_type": "code",
   "execution_count": null,
   "id": "51ae38c3",
   "metadata": {},
   "outputs": [],
   "source": []
  }
 ],
 "metadata": {
  "kernelspec": {
   "display_name": "Python 3 (ipykernel)",
   "language": "python",
   "name": "python3"
  },
  "language_info": {
   "codemirror_mode": {
    "name": "ipython",
    "version": 3
   },
   "file_extension": ".py",
   "mimetype": "text/x-python",
   "name": "python",
   "nbconvert_exporter": "python",
   "pygments_lexer": "ipython3",
   "version": "3.9.12"
  }
 },
 "nbformat": 4,
 "nbformat_minor": 5
}
