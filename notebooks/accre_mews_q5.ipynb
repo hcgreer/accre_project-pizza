{
 "cells": [
  {
   "cell_type": "code",
   "execution_count": null,
   "id": "2dacb017",
   "metadata": {},
   "outputs": [],
   "source": [
    "import pandas as pd\n",
    "import numpy as np\n",
    "import matplotlib.pyplot as plt\n",
    "import seaborn as sns\n",
    "\n",
    "%matplotlib inline"
   ]
  },
  {
   "cell_type": "code",
   "execution_count": null,
   "id": "f1de267c",
   "metadata": {},
   "outputs": [],
   "source": [
    "#there are some irregular lines in the data, so setting argument to get a note of which lines and skip them when reading in\n",
    "accre_gpu = pd.read_csv('../data/accre-gpu-jobs-2022-v2.csv', on_bad_lines='warn')"
   ]
  },
  {
   "cell_type": "code",
   "execution_count": null,
   "id": "174ba017",
   "metadata": {
    "scrolled": false
   },
   "outputs": [],
   "source": [
    "#per our stakeholder, no need to include jobs with state of cancelled, pending, or running in our analysis, so dropping those 1258 rows\n",
    "accre_gpu = accre_gpu.loc[(~accre_gpu['STATE'].isin(['PENDING', 'RUNNING'])) \n",
    "                          & \n",
    "                          (~accre_gpu['STATE'].str.contains('CANCELLED'))]\n",
    "\n",
    "#stripping the 'M' from USEDMEM column and converting it to a numeric data type\n",
    "accre_gpu['USEDMEM'] = accre_gpu['USEDMEM'].str.strip(to_strip='M').astype(float)\n",
    "\n",
    "#converting REQTIME and USEDTIME columns to timedelta data types\n",
    "accre_gpu['REQTIME'] = pd.to_timedelta(accre_gpu['REQTIME'].str.replace('-',' days '))\n",
    "accre_gpu['USEDTIME'] = pd.to_timedelta(accre_gpu['USEDTIME'].str.replace('-',' days '))\n",
    "\n",
    "#adding in a column that gives the difference in the time requested and time used\n",
    "accre_gpu['time_dif'] = accre_gpu['REQTIME'] - accre_gpu['USEDTIME']\n",
    "\n",
    "#adding in columns that provide versions of the other time columns but in minutes\n",
    "accre_gpu['REQTIME_s'] = accre_gpu['REQTIME'].astype('timedelta64[s]')\n",
    "accre_gpu['USEDTIME_s'] = accre_gpu['USEDTIME'].astype('timedelta64[s]')\n",
    "accre_gpu['time_dif_s'] = accre_gpu['REQTIME_s'] - accre_gpu['USEDTIME_s']\n",
    "\n",
    "#creating the RUNTIME weighted GPU value\n",
    "accre_gpu['GPUS_RUNTIME'] = accre_gpu['GPUS'] * accre_gpu['USEDTIME_s']\n",
    "\n",
    "#under the assumption that we want to analyze each user within the context of a specific account, creating a combined\n",
    "#account_user column\n",
    "accre_gpu['ACCOUNT_USER'] = accre_gpu['ACCOUNT'] + '_' + accre_gpu['USER']\n",
    "\n",
    "accre_gpu = accre_gpu.reset_index(drop=True)\n",
    "\n",
    "accre_gpu"
   ]
  },
  {
   "cell_type": "markdown",
   "id": "591fc2e7",
   "metadata": {},
   "source": [
    "#### 5. Currently there is a 5 day limit on runtime for GPU jobs, although some users have been asking for extensions. What is the distribution of requested runtime and actual runtime on jobs on each partition? Do users really need more time, or are they simply always requesting the maximum?"
   ]
  },
  {
   "cell_type": "code",
   "execution_count": null,
   "id": "287e094e",
   "metadata": {},
   "outputs": [],
   "source": [
    "#creating a dataframe of aggregated values for each user\n",
    "user_details = (\n",
    "    accre_gpu\n",
    "    .groupby(['PARTITION', 'ACCOUNT', 'ACCOUNT_USER'])\n",
    "    .agg(\n",
    "        sum_GPUS = ('GPUS','sum'),\n",
    "        sum_MEM = ('USEDMEM','sum'),\n",
    "        sum_UTIME = ('USEDTIME', 'sum'),\n",
    "        sum_RTIME = ('REQTIME', 'sum'),\n",
    "        sum_time_dif = ('time_dif', 'sum'),\n",
    "        sum_GPUS_RUNTIME = ('GPUS_RUNTIME', 'sum')\n",
    "    )\n",
    "    .reset_index()\n",
    ")\n",
    "user_details"
   ]
  },
  {
   "cell_type": "code",
   "execution_count": null,
   "id": "488ef596",
   "metadata": {},
   "outputs": [],
   "source": [
    "#plotting total time difference in m by partition and account\n",
    "sns.set(rc={\"figure.figsize\":(10, 8)})\n",
    "sns.barplot(\n",
    "             x='time_dif_s',\n",
    "             y='ACCOUNT',\n",
    "             hue='PARTITION',\n",
    "             data=(accre_gpu\n",
    "                    .groupby(['PARTITION', 'ACCOUNT'])['time_dif_s']\n",
    "                    .sum()\n",
    "                    .to_frame()\n",
    "                    .reset_index()\n",
    "                    .sort_values('ACCOUNT'))\n",
    "            );"
   ]
  },
  {
   "cell_type": "code",
   "execution_count": null,
   "id": "4651adbf",
   "metadata": {
    "scrolled": false
   },
   "outputs": [],
   "source": [
    "#how many times did accounts make request for 5 or more days\n",
    "accre_gpu.loc[accre_gpu['REQTIME'] >= '5 days']['ACCOUNT'].value_counts()"
   ]
  },
  {
   "cell_type": "code",
   "execution_count": null,
   "id": "aa2ce170",
   "metadata": {},
   "outputs": [],
   "source": [
    "#how many times did accounts make request for 2 or more days\n",
    "accre_gpu.loc[accre_gpu['REQTIME'] >= '2 days']['ACCOUNT'].value_counts().sort_index()"
   ]
  },
  {
   "cell_type": "code",
   "execution_count": null,
   "id": "c4422bd8",
   "metadata": {},
   "outputs": [],
   "source": [
    "#how many times did accounts make request for more than 2 days and actually use at least 1 day\n",
    "accre_gpu.loc[(accre_gpu['REQTIME'] >= '2 days')\n",
    "             &\n",
    "              (accre_gpu['USEDTIME'] >= '4 hours')]['ACCOUNT'].value_counts().sort_index()"
   ]
  },
  {
   "cell_type": "code",
   "execution_count": null,
   "id": "9275eae7",
   "metadata": {
    "scrolled": true
   },
   "outputs": [],
   "source": [
    "#how many times did accounts have time differences between requested/used time of at least 2 days (for any amount of time requested)\n",
    "accre_gpu.loc[accre_gpu['time_dif'] >= '2 days']['ACCOUNT'].value_counts()"
   ]
  },
  {
   "cell_type": "code",
   "execution_count": null,
   "id": "c6c31380",
   "metadata": {
    "scrolled": false
   },
   "outputs": [],
   "source": [
    "#looking at a plot of the count of different time differences (in hours) with each bin being 3 hours wide\n",
    "sns.set(rc={\"figure.figsize\":(14, 10)})\n",
    "sns.histplot(\n",
    "    data = accre_gpu.loc[accre_gpu['time_dif_s'] >= 0], \n",
    "    x = (accre_gpu['time_dif'].astype('timedelta64[h]')),\n",
    "    binwidth=3,\n",
    "    hue = 'PARTITION'\n",
    ");"
   ]
  },
  {
   "cell_type": "code",
   "execution_count": null,
   "id": "1889f0f8",
   "metadata": {
    "scrolled": false
   },
   "outputs": [],
   "source": [
    "#looking more specifically at requests that are for 5 or more days, bins here are percentage of jobs rather than counts\n",
    "print(\"Number of 5+ day requests: \")\n",
    "print(len(accre_gpu.loc[accre_gpu['REQTIME'] >= '5 days']))\n",
    "sns.set(rc={\"figure.figsize\":(14, 10)})\n",
    "sns.histplot(\n",
    "    data = accre_gpu.loc[accre_gpu['REQTIME'] >= '5 days'], \n",
    "    x = (accre_gpu['time_dif'].astype('timedelta64[h]')),\n",
    "    stat='percent',\n",
    "    binwidth=3,\n",
    "    hue = 'PARTITION'\n",
    ");"
   ]
  },
  {
   "cell_type": "code",
   "execution_count": null,
   "id": "42d3ccc5",
   "metadata": {},
   "outputs": [],
   "source": [
    "(\n",
    "    accre_gpu\n",
    "    .loc[(accre_gpu['REQTIME'] >= '5 days') \n",
    "         #& \n",
    "         #(accre_gpu['time_dif'] <= '1 hour')\n",
    "        ]\n",
    "    .sort_values('USEDTIME')\n",
    ")"
   ]
  },
  {
   "cell_type": "code",
   "execution_count": null,
   "id": "8900b3b9",
   "metadata": {},
   "outputs": [],
   "source": [
    "#looking at the sum of all time differences by partition and account\n",
    "sns.set(rc={\"figure.figsize\":(10, 8)})\n",
    "sns.barplot(\n",
    "             x='time_dif_h',\n",
    "             y='ACCOUNT',\n",
    "             hue='PARTITION',\n",
    "             data=(user_details\n",
    "                    .groupby(['PARTITION', 'ACCOUNT'])['time_dif_h']\n",
    "                    .sum()\n",
    "                    .to_frame()\n",
    "                    .reset_index()\n",
    "                    .sort_values('ACCOUNT'))\n",
    "            );"
   ]
  },
  {
   "cell_type": "code",
   "execution_count": null,
   "id": "07888f30",
   "metadata": {},
   "outputs": [],
   "source": [
    "#looking at sum of time differences for those users who have instances of differences of at least 4 days\n",
    "sns.set(rc={\"figure.figsize\":(10, 8)})\n",
    "sns.barplot( x='time_dif_h',\n",
    "             y='USER',\n",
    "             hue='PARTITION',\n",
    "             data=(user_details\n",
    "                    .loc[user_details['USER']\n",
    "                         .isin(accre_gpu.loc[accre_gpu['time_dif'] >= '4 days']['USER'])]\n",
    "                    .groupby(['PARTITION', 'USER'])['time_dif_h']\n",
    "                    .sum()\n",
    "                    .to_frame()\n",
    "                    .reset_index()\n",
    "                    .sort_values('USER'))\n",
    "            );"
   ]
  },
  {
   "cell_type": "code",
   "execution_count": null,
   "id": "f8cf7c81",
   "metadata": {},
   "outputs": [],
   "source": []
  },
  {
   "cell_type": "code",
   "execution_count": null,
   "id": "51ae38c3",
   "metadata": {},
   "outputs": [],
   "source": []
  }
 ],
 "metadata": {
  "kernelspec": {
   "display_name": "Python 3 (ipykernel)",
   "language": "python",
   "name": "python3"
  },
  "language_info": {
   "codemirror_mode": {
    "name": "ipython",
    "version": 3
   },
   "file_extension": ".py",
   "mimetype": "text/x-python",
   "name": "python",
   "nbconvert_exporter": "python",
   "pygments_lexer": "ipython3",
   "version": "3.9.12"
  }
 },
 "nbformat": 4,
 "nbformat_minor": 5
}
