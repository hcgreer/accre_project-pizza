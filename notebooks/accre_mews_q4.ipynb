{
 "cells": [
  {
   "cell_type": "code",
   "execution_count": null,
   "id": "2dacb017",
   "metadata": {},
   "outputs": [],
   "source": [
    "import pandas as pd\n",
    "import numpy as np\n",
    "import matplotlib.pyplot as plt\n",
    "import seaborn as sns\n",
    "\n",
    "%matplotlib inline"
   ]
  },
  {
   "cell_type": "code",
   "execution_count": null,
   "id": "f1de267c",
   "metadata": {},
   "outputs": [],
   "source": [
    "#there are some irregular lines in the data, so setting argument to get a note of which lines and skip them when reading in\n",
    "accre_gpu = pd.read_csv('../data/accre-gpu-jobs-2022-v2.csv', on_bad_lines='warn')"
   ]
  },
  {
   "cell_type": "code",
   "execution_count": null,
   "id": "174ba017",
   "metadata": {
    "scrolled": false
   },
   "outputs": [],
   "source": [
    "#per our stakeholder, no need to include jobs with state of cancelled, pending, or running in our analysis, so dropping those 1258 rows\n",
    "accre_gpu = accre_gpu.loc[(~accre_gpu['STATE'].isin(['PENDING', 'RUNNING'])) \n",
    "                          & \n",
    "                          (~accre_gpu['STATE'].str.contains('CANCELLED'))]\n",
    "\n",
    "#stripping the 'M' from USEDMEM column and converting it to a numeric data type\n",
    "accre_gpu['USEDMEM'] = accre_gpu['USEDMEM'].str.strip(to_strip='M').astype(float)\n",
    "\n",
    "#converting REQTIME and USEDTIME columns to timedelta data types\n",
    "accre_gpu['REQTIME'] = pd.to_timedelta(accre_gpu['REQTIME'].str.replace('-',' days '))\n",
    "accre_gpu['USEDTIME'] = pd.to_timedelta(accre_gpu['USEDTIME'].str.replace('-',' days '))\n",
    "\n",
    "#adding in a column that gives the difference in the time requested and time used\n",
    "accre_gpu['time_dif'] = accre_gpu['REQTIME'] - accre_gpu['USEDTIME']\n",
    "\n",
    "#adding in columns that provide versions of the other time columns but in minutes\n",
    "accre_gpu['REQTIME_s'] = accre_gpu['REQTIME'].astype('timedelta64[s]')\n",
    "accre_gpu['USEDTIME_s'] = accre_gpu['USEDTIME'].astype('timedelta64[s]')\n",
    "accre_gpu['time_dif_s'] = accre_gpu['REQTIME_s'] - accre_gpu['USEDTIME_s']\n",
    "\n",
    "accre_gpu = accre_gpu.reset_index(drop=True)\n",
    "\n",
    "accre_gpu"
   ]
  },
  {
   "cell_type": "markdown",
   "id": "3034c358",
   "metadata": {},
   "source": [
    "#### 4. What is the distribution of different groups and users accessing each partition? In each partition, who are the top users, and do they represent a majority of the runtime-weighted jobs on the partition?   \n",
    "From the stakeholder: For determining top users, I think the calculation would be the sum of nGPUs * usedtime over all their jobs in the partition. It would also be interesting to see what users/groups seem to be using more memory."
   ]
  },
  {
   "cell_type": "code",
   "execution_count": null,
   "id": "634f8700",
   "metadata": {
    "scrolled": true
   },
   "outputs": [],
   "source": [
    "#looking to see if users are associated with more than one account\n",
    "#waiting to hear back if these actually are the same individuals, or if every account/user combo is unique\n",
    "accre_gpu.groupby('USER')['ACCOUNT'].nunique().sort_values(ascending=False).head(25)"
   ]
  },
  {
   "cell_type": "code",
   "execution_count": null,
   "id": "e0bd5189",
   "metadata": {
    "scrolled": true
   },
   "outputs": [],
   "source": [
    "#creating the RUNTIME weighted GPU value\n",
    "accre_gpu['GPUS_RUNTIME'] = accre_gpu['GPUS'] * accre_gpu['USEDTIME_s']\n",
    "\n",
    "#under the assumption that we want to analyze each user within the context of a specific account, creating a combined\n",
    "#account_user column\n",
    "accre_gpu['ACCOUNT_USER'] = accre_gpu['ACCOUNT'] + '_' + accre_gpu['USER']\n",
    "\n",
    "accre_gpu"
   ]
  },
  {
   "cell_type": "code",
   "execution_count": null,
   "id": "dcab5dcf",
   "metadata": {
    "scrolled": true
   },
   "outputs": [],
   "source": [
    "#number of jobs either completed, failed, or ran out of memory for each user\n",
    "user_counts = (\n",
    "    accre_gpu\n",
    "    .groupby(['PARTITION','ACCOUNT','USER'])['JOBID']\n",
    "    .count()\n",
    "    .to_frame()\n",
    "    .reset_index()\n",
    "    .sort_values('JOBID', ascending=False)\n",
    "    .rename(columns={'JOBID':'job_count'})\n",
    ")\n",
    "user_counts"
   ]
  },
  {
   "cell_type": "markdown",
   "id": "9478b9f2",
   "metadata": {},
   "source": [
    "Almost 40% of all jobs in this data set came frome one user in one partition"
   ]
  },
  {
   "cell_type": "code",
   "execution_count": null,
   "id": "fa7209db",
   "metadata": {},
   "outputs": [],
   "source": [
    "#distribution of users by total runtime weighted GPUs\n",
    "sns.set(rc={\"figure.figsize\":(14, 10)})\n",
    "sns.histplot(\n",
    "    data=(accre_gpu\n",
    "                    .groupby(['PARTITION', 'ACCOUNT_USER'])['GPUS_RUNTIME']\n",
    "                    .sum()\n",
    "                    .to_frame()\n",
    "                    .reset_index()\n",
    "                    .sort_values('GPUS_RUNTIME', ascending=False)),         \n",
    "    x='GPUS_RUNTIME',\n",
    "    hue='PARTITION',\n",
    "    bins=27\n",
    ");"
   ]
  },
  {
   "cell_type": "code",
   "execution_count": null,
   "id": "463e0888",
   "metadata": {},
   "outputs": [],
   "source": [
    "#distribution of users by total memory\n",
    "sns.set(rc={\"figure.figsize\":(14, 10)})\n",
    "sns.histplot(\n",
    "    data=(accre_gpu\n",
    "                    .groupby(['PARTITION', 'ACCOUNT_USER'])['USEDMEM']\n",
    "                    .sum()\n",
    "                    .to_frame()\n",
    "                    .reset_index()\n",
    "                    .sort_values('USEDMEM', ascending=False)),         \n",
    "    x='USEDMEM',\n",
    "    hue='PARTITION',\n",
    "    bins=41\n",
    ");"
   ]
  },
  {
   "cell_type": "code",
   "execution_count": null,
   "id": "10f21f5c",
   "metadata": {
    "scrolled": false
   },
   "outputs": [],
   "source": [
    "#plotting the runtime weighted GPUs by partition and account\n",
    "sns.set(rc={\"figure.figsize\":(10, 8)})\n",
    "sns.barplot(\n",
    "             x='GPUS_RUNTIME',\n",
    "             y='ACCOUNT',\n",
    "             hue='PARTITION',\n",
    "             data=(accre_gpu\n",
    "                    .groupby(['PARTITION', 'ACCOUNT'])['GPUS_RUNTIME']\n",
    "                    .sum()\n",
    "                    .to_frame()\n",
    "                    .reset_index()\n",
    "                    .sort_values('GPUS_RUNTIME', ascending=False))\n",
    "            );"
   ]
  },
  {
   "cell_type": "code",
   "execution_count": null,
   "id": "98bd531d",
   "metadata": {},
   "outputs": [],
   "source": [
    "#plotting runtime weighted GPUS by partition and user\n",
    "#not yet sure if users can be under multiple accounts\n",
    "sns.set(rc={\"figure.figsize\":(10,20)})\n",
    "sns.barplot(\n",
    "             x='GPUS_RUNTIME',\n",
    "             y='ACCOUNT_USER',\n",
    "             hue='PARTITION',\n",
    "             data=(accre_gpu\n",
    "                    .groupby(['PARTITION',\n",
    "                              'ACCOUNT_USER'])['GPUS_RUNTIME']\n",
    "                    .sum()\n",
    "                    .to_frame()\n",
    "                    .reset_index()\n",
    "                    .sort_values('GPUS_RUNTIME', ascending=False)\n",
    "                    .head(60)\n",
    "                  )\n",
    ");"
   ]
  },
  {
   "cell_type": "code",
   "execution_count": null,
   "id": "24d000e9",
   "metadata": {
    "scrolled": false
   },
   "outputs": [],
   "source": [
    "#plotting total memory usage by partition and account\n",
    "sns.set(rc={\"figure.figsize\":(10, 8)})\n",
    "sns.barplot(\n",
    "             x='USEDMEM',\n",
    "             y='ACCOUNT',\n",
    "             hue='PARTITION',\n",
    "             data=(accre_gpu\n",
    "                    .groupby(['PARTITION', 'ACCOUNT'])['USEDMEM']\n",
    "                    .sum()\n",
    "                    .to_frame()\n",
    "                    .reset_index()\n",
    "                    .sort_values('USEDMEM', ascending=False))\n",
    "            );"
   ]
  },
  {
   "cell_type": "code",
   "execution_count": null,
   "id": "51cc50d7",
   "metadata": {
    "scrolled": false
   },
   "outputs": [],
   "source": [
    "#plotting total memory usage by partition and account_user\n",
    "sns.set(rc={\"figure.figsize\":(10, 16)})\n",
    "sns.barplot(\n",
    "             x='USEDMEM',\n",
    "             y='ACCOUNT_USER',\n",
    "             hue='PARTITION',\n",
    "             data=(accre_gpu\n",
    "                    .groupby(['PARTITION', 'ACCOUNT_USER'])['USEDMEM']\n",
    "                    .sum()\n",
    "                    .to_frame()\n",
    "                    .reset_index()\n",
    "                    .sort_values('USEDMEM', ascending=False)\n",
    "                    .head(60))\n",
    "            );"
   ]
  },
  {
   "cell_type": "code",
   "execution_count": null,
   "id": "f8cf7c81",
   "metadata": {},
   "outputs": [],
   "source": [
    "import plotly.express as px\n",
    "from ipywidgets import interact, interactive, fixed, interact_manual\n",
    "import ipywidgets as widgets"
   ]
  },
  {
   "cell_type": "code",
   "execution_count": null,
   "id": "e0b9b8d9",
   "metadata": {
    "scrolled": true
   },
   "outputs": [],
   "source": [
    "#creating a dataframe of aggregated values for each user\n",
    "user_details = (\n",
    "    accre_gpu\n",
    "    .groupby(['PARTITION', 'ACCOUNT', 'ACCOUNT_USER'])\n",
    "    .agg(\n",
    "        sum_GPUS = ('GPUS','sum'),\n",
    "        sum_MEM = ('USEDMEM','sum'),\n",
    "        sum_UTIME = ('USEDTIME', 'sum'),\n",
    "        sum_RTIME = ('REQTIME', 'sum'),\n",
    "        sum_time_dif = ('time_dif', 'sum'),\n",
    "        sum_GPUS_RUNTIME = ('GPUS_RUNTIME', 'sum'),\n",
    "        job_count = ('JOBID', 'count')\n",
    "    )\n",
    "    .reset_index()\n",
    ")\n",
    "user_details"
   ]
  },
  {
   "cell_type": "code",
   "execution_count": null,
   "id": "591451e9",
   "metadata": {},
   "outputs": [],
   "source": [
    "(\n",
    "    accre_gpu\n",
    "    .loc[accre_gpu['EXITCODE'] == '0:0']\n",
    "    .groupby('PARTITION')['USEDTIME']\n",
    "    .describe()\n",
    ")"
   ]
  },
  {
   "cell_type": "code",
   "execution_count": null,
   "id": "23651bff",
   "metadata": {},
   "outputs": [],
   "source": [
    "accre_gpu.loc[accre_gpu['JOBID'].str.contains('_')]"
   ]
  },
  {
   "cell_type": "code",
   "execution_count": null,
   "id": "746acc88",
   "metadata": {},
   "outputs": [],
   "source": [
    "accre_gpu['job_id'] = accre_gpu['JOBID'].str.split(\"_\", n = 1, expand = True)[0]\n",
    "accre_gpu['array_id'] = accre_gpu['JOBID'].str.split(\"_\", n = 1, expand = True)[1]\n",
    "accre_gpu.loc[accre_gpu['JOBID'].str.contains('_')].sort_values('JOBID').head(60)"
   ]
  },
  {
   "cell_type": "code",
   "execution_count": null,
   "id": "8d96e62a",
   "metadata": {},
   "outputs": [],
   "source": [
    "accre_gpu['total_job_time'] = accre_gpu.groupby(['job_id'])['USEDTIME'].transform('sum')\n",
    "accre_gpu['total_array_parts'] = accre_gpu.groupby(['job_id'])['array_id'].transform('count')\n",
    "accre_gpu['total_job_mem'] = accre_gpu.groupby(['job_id'])['USEDMEM'].transform('sum')\n",
    "accre_gpu.loc[accre_gpu['JOBID'].str.contains('_')].sort_values('JOBID').head(60)"
   ]
  },
  {
   "cell_type": "code",
   "execution_count": null,
   "id": "adda648d",
   "metadata": {
    "scrolled": true
   },
   "outputs": [],
   "source": [
    "accre_gpu['job_id'].value_counts().head(60)"
   ]
  },
  {
   "cell_type": "code",
   "execution_count": null,
   "id": "afb78862",
   "metadata": {
    "scrolled": true
   },
   "outputs": [],
   "source": [
    "accre_by_job = accre_gpu.drop_duplicates(subset=['job_id']).drop(columns = ['time_dif',\n",
    "                                                                            'USEDMEM',\n",
    "                                                                            'USEDTIME',\n",
    "                                                                            'USEDTIME_s',\n",
    "                                                                            'time_dif_s', \n",
    "                                                                            'GPUS_RUNTIME'])"
   ]
  },
  {
   "cell_type": "code",
   "execution_count": null,
   "id": "1a2ac78e",
   "metadata": {},
   "outputs": [],
   "source": [
    "#adding in a column that gives the difference in the time requested and time used\n",
    "accre_by_job['job_time_dif'] = accre_by_job['REQTIME'] - accre_by_job['total_job_time']\n",
    "\n",
    "#adding in columns that provide versions of the other time columns but in seconds\n",
    "accre_by_job['total_job_time_s'] = accre_by_job['total_job_time'].astype('timedelta64[s]')\n",
    "accre_by_job['time_dif_s'] = accre_by_job['REQTIME_s'] - accre_by_job['total_job_time_s']\n",
    "\n",
    "#adding stakeholder requested gpu runtime\n",
    "accre_by_job['GPUS_RUNTIME'] = accre_by_job['GPUS'] * accre_by_job['total_job_time_s']\n",
    "\n",
    "accre_by_job"
   ]
  },
  {
   "cell_type": "code",
   "execution_count": null,
   "id": "8e4270e0",
   "metadata": {
    "scrolled": true
   },
   "outputs": [],
   "source": [
    "accre_by_job.loc[(accre_gpu['PARTITION'] == 'maxwell')\n",
    "              &\n",
    "              (accre_gpu['EXITCODE'] == '0:0')].describe()"
   ]
  },
  {
   "cell_type": "code",
   "execution_count": null,
   "id": "a62bdc91",
   "metadata": {
    "scrolled": true
   },
   "outputs": [],
   "source": [
    "accre_by_job.loc[(accre_gpu['PARTITION'] == 'maxwell')\n",
    "                 &\n",
    "                 (accre_gpu['ACCOUNT'] != 'glasshouse')\n",
    "                 &\n",
    "                 (accre_gpu['EXITCODE'] == '0:0')].describe()"
   ]
  },
  {
   "cell_type": "code",
   "execution_count": null,
   "id": "4599899d",
   "metadata": {},
   "outputs": [],
   "source": [
    "accre_by_job.loc[(accre_gpu['PARTITION'] == 'maxwell')\n",
    "                 &\n",
    "                 (accre_gpu['ACCOUNT'] == 'glasshouse')\n",
    "                 &\n",
    "                 (accre_gpu['EXITCODE'] == '0:0')].describe()"
   ]
  },
  {
   "cell_type": "code",
   "execution_count": null,
   "id": "d8551d3a",
   "metadata": {
    "scrolled": true
   },
   "outputs": [],
   "source": [
    "accre_by_job.loc[(accre_gpu['PARTITION'] == 'pascal')\n",
    "              &\n",
    "              (accre_gpu['EXITCODE'] == '0:0')].describe()"
   ]
  },
  {
   "cell_type": "code",
   "execution_count": null,
   "id": "aa6aab79",
   "metadata": {},
   "outputs": [],
   "source": [
    "accre_by_job.loc[(accre_gpu['PARTITION'] == 'pascal')\n",
    "                 &\n",
    "                 (accre_gpu['ACCOUNT'] != 'glasshouse')\n",
    "                 &\n",
    "                 (accre_gpu['EXITCODE'] == '0:0')].describe()"
   ]
  },
  {
   "cell_type": "code",
   "execution_count": null,
   "id": "c0394aa3",
   "metadata": {
    "scrolled": true
   },
   "outputs": [],
   "source": [
    "accre_by_job.loc[(accre_gpu['PARTITION'] == 'turing')\n",
    "              &\n",
    "              (accre_gpu['EXITCODE'] == '0:0')].describe()"
   ]
  },
  {
   "cell_type": "code",
   "execution_count": null,
   "id": "0bbb203d",
   "metadata": {},
   "outputs": [],
   "source": [
    "accre_by_job.loc[(accre_gpu['PARTITION'] == 'turing')\n",
    "                 &\n",
    "                 (accre_gpu['ACCOUNT'] != 'glasshouse')\n",
    "                 &\n",
    "                 (accre_gpu['EXITCODE'] == '0:0')].describe()"
   ]
  },
  {
   "cell_type": "code",
   "execution_count": null,
   "id": "5c69f9f1",
   "metadata": {},
   "outputs": [],
   "source": [
    "user_det_by_job = (\n",
    "    accre_by_job\n",
    "    .groupby(['PARTITION', 'ACCOUNT', 'ACCOUNT_USER'])\n",
    "    .agg(\n",
    "        total_GPUS = ('GPUS','sum'),\n",
    "        total_MEM = ('total_job_mem','sum'),\n",
    "        total_UTIME = ('total_job_time', 'sum'),\n",
    "        total_usedtime_s = ('total_job_time_s', 'sum'),\n",
    "        total_RTIME = ('REQTIME', 'sum'),\n",
    "        total_reqtime_s = ('REQTIME_s', 'sum'),\n",
    "        total_time_dif = ('job_time_dif', 'sum'),\n",
    "        total_GPUS_RUNTIME = ('GPUS_RUNTIME', 'sum'),\n",
    "        total_jobs = ('job_id', 'count')\n",
    "    )\n",
    "    .reset_index()\n",
    ")\n",
    "user_det_by_job['total_usedtime_m'] = (user_det_by_job['total_usedtime_s']/60).round(2)\n",
    "user_det_by_job['total_reqtime_m'] = (user_det_by_job['total_reqtime_s']/60).round(2)\n",
    "user_det_by_job"
   ]
  },
  {
   "cell_type": "code",
   "execution_count": null,
   "id": "51ae38c3",
   "metadata": {
    "scrolled": true
   },
   "outputs": [],
   "source": [
    "fig = px.scatter(user_details,\n",
    "                 x=\"sum_GPUS_RUNTIME\", \n",
    "                 y=\"sum_MEM\", \n",
    "                 color=\"PARTITION\",\n",
    "                 size=\"job_count\",\n",
    "                 marginal_y=\"histogram\",\n",
    "                 marginal_x=\"histogram\", \n",
    "                 template=\"simple_white\",\n",
    "                 height=700,\n",
    "                 hover_data=[\"ACCOUNT\", \"ACCOUNT_USER\", \"sum_GPUS\", \"sum_UTIME\", \"job_count\"])\n",
    "\n",
    "fig.show()"
   ]
  },
  {
   "cell_type": "code",
   "execution_count": null,
   "id": "16ab0b42",
   "metadata": {
    "scrolled": false
   },
   "outputs": [],
   "source": [
    "fig =  px.histogram(\n",
    "    user_details, \n",
    "    x=\"sum_MEM\",\n",
    "    color=\"PARTITION\",\n",
    "    labels={\n",
    "                      \"sum_GPUS_RUNTIME\" : \"Total Runtime Weighted GPUs\",\n",
    "                      \"sum_MEM\" : \"Total Memory Used (MB)\",\n",
    "                      \"PARTITION\" : \"Partition\"},\n",
    "    height=750\n",
    ")\n",
    "    \n",
    "fig.show()"
   ]
  },
  {
   "cell_type": "code",
   "execution_count": null,
   "id": "9524e5fc",
   "metadata": {
    "scrolled": true
   },
   "outputs": [],
   "source": [
    "fig =  px.histogram(\n",
    "    user_det_by_job, \n",
    "    x=\"sum_MEM\",\n",
    "    color=\"PARTITION\",\n",
    "    labels={\n",
    "                      \"sum_GPUS_RUNTIME\" : \"Total Runtime Weighted GPUs\",\n",
    "                      \"sum_MEM\" : \"Total Memory Used (MB)\",\n",
    "                      \"PARTITION\" : \"Partition\"},\n",
    "    height=750\n",
    ")\n",
    "    \n",
    "fig.show()"
   ]
  },
  {
   "cell_type": "code",
   "execution_count": null,
   "id": "4293bf2e",
   "metadata": {
    "scrolled": true
   },
   "outputs": [],
   "source": [
    "fig =  px.histogram(\n",
    "    user_details, \n",
    "    x=\"sum_GPUS_RUNTIME\",\n",
    "    color=\"PARTITION\",\n",
    "    labels={\n",
    "                      \"sum_GPUS_RUNTIME\" : \"Total Runtime Weighted GPUs\",\n",
    "                      \"sum_GPUS\" : \"Total GPUs Requested\",\n",
    "                      \"PARTITION\" : \"Partition\"\n",
    "    },\n",
    "    height=750\n",
    ")\n",
    "    \n",
    "fig.show()"
   ]
  },
  {
   "cell_type": "code",
   "execution_count": null,
   "id": "4fb09520",
   "metadata": {
    "scrolled": true
   },
   "outputs": [],
   "source": [
    "fig =  px.histogram(\n",
    "    user_det_by_job, \n",
    "    x=\"sum_GPUS_RUNTIME\",\n",
    "    color=\"PARTITION\",\n",
    "    labels={\n",
    "                      \"sum_GPUS_RUNTIME\" : \"Total Runtime Weighted GPUs\",\n",
    "                      \"sum_GPUS\" : \"Total GPUs Requested\",\n",
    "                      \"PARTITION\" : \"Partition\"\n",
    "    },\n",
    "    height=750\n",
    ")\n",
    "    \n",
    "fig.show()"
   ]
  },
  {
   "cell_type": "code",
   "execution_count": null,
   "id": "bd95227d",
   "metadata": {
    "scrolled": true
   },
   "outputs": [],
   "source": [
    "#@interact(partition = user_details['PARTITION'].unique())\n",
    "#def interactive_plot(partition):\n",
    "\n",
    "df = user_details\n",
    "\n",
    "fig =  px.scatter(df, \n",
    "                  x=\"sum_GPUS_RUNTIME\", \n",
    "                  y=\"sum_MEM\",\n",
    "                  color=\"PARTITION\",\n",
    "                  size=\"job_count\",\n",
    "                  symbol='ACCOUNT',\n",
    "                  height=800,\n",
    "                  width=800,\n",
    "                  labels={\n",
    "                      \"sum_GPUS_RUNTIME\" : \"Total Runtime Weighted GPUs\",\n",
    "                      \"sum_MEM\" : \"Total Memory Used (MB)\",\n",
    "                      \"job_count\" : \"Total Jobs\",\n",
    "                      \"sum_UTIME\" : \"Total Time Used\",\n",
    "                      \"sum_GPUS\" : \"Total GPUs Requested\",\n",
    "                      \"PARTITION\" : \"Partition\"\n",
    "                  },\n",
    "                  hover_name=\"ACCOUNT_USER\",\n",
    "                 )\n",
    "\n",
    "fig.update_layout(title_text=\"Title\",\n",
    "                  title_xanchor=\"auto\",\n",
    "                  title_font_size=14\n",
    "                 #title_xref=\"paper\"\n",
    "                 )\n",
    "\n",
    "fig.update_xaxes(title_font_size=12)\n",
    "\n",
    "fig.update_yaxes(title_font_size=12)\n",
    "\n",
    "fig.show()"
   ]
  },
  {
   "cell_type": "code",
   "execution_count": null,
   "id": "248fbfe0",
   "metadata": {
    "scrolled": false
   },
   "outputs": [],
   "source": [
    "#dropping 27 users based on the following parameters:\n",
    "df = (user_det_by_job.loc[~((user_det_by_job['total_jobs'] < 6) \n",
    "                    & \n",
    "                    (user_det_by_job['total_UTIME'] < '00:30:00')\n",
    "                    &\n",
    "                    (user_det_by_job['total_MEM'] < 1000)\n",
    "                    &\n",
    "                    ((user_det_by_job['total_GPUS'])/(user_det_by_job['total_jobs']) < 5))])\n",
    "\n",
    "fig1 =  px.scatter(df, \n",
    "                  x=\"total_GPUS_RUNTIME\", \n",
    "                  y=\"total_MEM\",\n",
    "                  color= 'ACCOUNT',\n",
    "                  size='total_jobs',\n",
    "                  #symbol='ACCOUNT',\n",
    "                  facet_row = \"PARTITION\",\n",
    "                  color_discrete_sequence=px.colors.qualitative.Dark24,\n",
    "                  height=1200,\n",
    "                  width=800,\n",
    "                  labels={\n",
    "                      \"total_GPUS_RUNTIME\" : \"Total Runtime Weighted GPUs\",\n",
    "                      \"total_MEM\" : \"Total Memory Used (MB)\",\n",
    "                      \"total_jobs\" : \"Total Jobs\",\n",
    "                      \"total_UTIME\" : \"Total Time Used\",\n",
    "                      \"total_GPUS\" : \"Total GPUs Requested\",\n",
    "                      \"PARTITION\" : \"Partition\"\n",
    "                  },\n",
    "                  hover_name=\"ACCOUNT_USER\",\n",
    "                 )\n",
    "\n",
    "fig1.update_layout(title_text=\"Title\",\n",
    "                  title_xanchor=\"auto\",\n",
    "                  title_font_size=14\n",
    "                 #title_xref=\"paper\"\n",
    "                 )\n",
    "\n",
    "fig1.update_xaxes(title_font_size=12)\n",
    "\n",
    "fig1.update_yaxes(title_font_size=12)\n",
    "\n",
    "fig1.show()\n"
   ]
  },
  {
   "cell_type": "code",
   "execution_count": null,
   "id": "38d4094a",
   "metadata": {},
   "outputs": [],
   "source": [
    "fig1.write_html(\"mem_rtgpu.html\")"
   ]
  },
  {
   "cell_type": "code",
   "execution_count": null,
   "id": "2bc8ce94",
   "metadata": {},
   "outputs": [],
   "source": []
  }
 ],
 "metadata": {
  "kernelspec": {
   "display_name": "Python 3 (ipykernel)",
   "language": "python",
   "name": "python3"
  },
  "language_info": {
   "codemirror_mode": {
    "name": "ipython",
    "version": 3
   },
   "file_extension": ".py",
   "mimetype": "text/x-python",
   "name": "python",
   "nbconvert_exporter": "python",
   "pygments_lexer": "ipython3",
   "version": "3.9.12"
  }
 },
 "nbformat": 4,
 "nbformat_minor": 5
}
