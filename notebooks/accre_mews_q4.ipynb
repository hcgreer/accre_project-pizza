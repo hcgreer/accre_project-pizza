{
 "cells": [
  {
   "cell_type": "code",
   "execution_count": null,
   "id": "2dacb017",
   "metadata": {},
   "outputs": [],
   "source": [
    "import pandas as pd\n",
    "import numpy as np\n",
    "import matplotlib.pyplot as plt\n",
    "import seaborn as sns\n",
    "\n",
    "%matplotlib inline"
   ]
  },
  {
   "cell_type": "code",
   "execution_count": null,
   "id": "f1de267c",
   "metadata": {},
   "outputs": [],
   "source": [
    "#there are some irregular lines in the data, so setting argument to get a note of which lines and skip them when reading in\n",
    "accre_gpu = pd.read_csv('../data/accre-gpu-jobs-2022-v2.csv', on_bad_lines='warn')"
   ]
  },
  {
   "cell_type": "code",
   "execution_count": null,
   "id": "174ba017",
   "metadata": {
    "scrolled": false
   },
   "outputs": [],
   "source": [
    "#per our stakeholder, no need to include jobs with state of cancelled, pending, or running in our analysis, so dropping those 1258 rows\n",
    "accre_gpu = accre_gpu.loc[(~accre_gpu['STATE'].isin(['PENDING', 'RUNNING'])) \n",
    "                          & \n",
    "                          (~accre_gpu['STATE'].str.contains('CANCELLED'))]\n",
    "\n",
    "#stripping the 'M' from USEDMEM column and converting it to a numeric data type\n",
    "accre_gpu['USEDMEM'] = accre_gpu['USEDMEM'].str.strip(to_strip='M').astype(float)\n",
    "\n",
    "#converting REQTIME and USEDTIME columns to timedelta data types\n",
    "accre_gpu['REQTIME'] = pd.to_timedelta(accre_gpu['REQTIME'].str.replace('-',' days '))\n",
    "accre_gpu['USEDTIME'] = pd.to_timedelta(accre_gpu['USEDTIME'].str.replace('-',' days '))\n",
    "\n",
    "#adding in a column that gives the difference in the time requested and time used\n",
    "accre_gpu['time_dif'] = accre_gpu['REQTIME'] - accre_gpu['USEDTIME']\n",
    "\n",
    "#adding in columns that provide versions of the other time columns but in minutes\n",
    "accre_gpu['REQTIME_s'] = accre_gpu['REQTIME'].astype('timedelta64[s]')\n",
    "accre_gpu['USEDTIME_s'] = accre_gpu['USEDTIME'].astype('timedelta64[s]')\n",
    "accre_gpu['time_dif_s'] = accre_gpu['REQTIME_s'] - accre_gpu['USEDTIME_s']\n",
    "\n",
    "accre_gpu = accre_gpu.reset_index(drop=True)\n",
    "\n",
    "accre_gpu"
   ]
  },
  {
   "cell_type": "markdown",
   "id": "3034c358",
   "metadata": {},
   "source": [
    "#### 4. What is the distribution of different groups and users accessing each partition? In each partition, who are the top users, and do they represent a majority of the runtime-weighted jobs on the partition?   \n",
    "From the stakeholder: For determining top users, I think the calculation would be the sum of nGPUs * usedtime over all their jobs in the partition. It would also be interesting to see what users/groups seem to be using more memory."
   ]
  },
  {
   "cell_type": "code",
   "execution_count": null,
   "id": "634f8700",
   "metadata": {
    "scrolled": true
   },
   "outputs": [],
   "source": [
    "#looking to see if users are associated with more than one account\n",
    "#waiting to hear back if these actually are the same individuals, or if every account/user combo is unique\n",
    "accre_gpu.groupby('USER')['ACCOUNT'].nunique().sort_values(ascending=False).head(25)"
   ]
  },
  {
   "cell_type": "code",
   "execution_count": null,
   "id": "e0bd5189",
   "metadata": {
    "scrolled": true
   },
   "outputs": [],
   "source": [
    "#creating the RUNTIME weighted GPU value\n",
    "accre_gpu['GPUS_RUNTIME'] = accre_gpu['GPUS'] * accre_gpu['USEDTIME_s']\n",
    "\n",
    "#under the assumption that we want to analyze each user within the context of a specific account, creating a combined\n",
    "#account_user column\n",
    "accre_gpu['ACCOUNT_USER'] = accre_gpu['ACCOUNT'] + '_' + accre_gpu['USER']\n",
    "\n",
    "accre_gpu"
   ]
  },
  {
   "cell_type": "code",
   "execution_count": null,
   "id": "dcab5dcf",
   "metadata": {
    "scrolled": true
   },
   "outputs": [],
   "source": [
    "#number of jobs either completed, failed, or ran out of memory for each user\n",
    "user_counts = (\n",
    "    accre_gpu\n",
    "    .groupby(['PARTITION','ACCOUNT','USER'])['JOBID']\n",
    "    .count()\n",
    "    .to_frame()\n",
    "    .reset_index()\n",
    "    .sort_values('JOBID', ascending=False)\n",
    "    .rename(columns={'JOBID':'job_count'})\n",
    ")\n",
    "user_counts"
   ]
  },
  {
   "cell_type": "markdown",
   "id": "9478b9f2",
   "metadata": {},
   "source": [
    "Almost half of all jobs in this data set came frome one user in one partition"
   ]
  },
  {
   "cell_type": "code",
   "execution_count": null,
   "id": "fa7209db",
   "metadata": {},
   "outputs": [],
   "source": [
    "#distribution of users by total runtime weighted GPUs\n",
    "sns.set(rc={\"figure.figsize\":(14, 10)})\n",
    "sns.histplot(\n",
    "    data=(accre_gpu\n",
    "                    .groupby(['PARTITION', 'ACCOUNT_USER'])['GPUS_RUNTIME']\n",
    "                    .sum()\n",
    "                    .to_frame()\n",
    "                    .reset_index()\n",
    "                    .sort_values('GPUS_RUNTIME', ascending=False)),         \n",
    "    x='GPUS_RUNTIME',\n",
    "    hue='PARTITION',\n",
    "    bins=27\n",
    ");"
   ]
  },
  {
   "cell_type": "code",
   "execution_count": null,
   "id": "463e0888",
   "metadata": {},
   "outputs": [],
   "source": [
    "#distribution of users by total memory\n",
    "sns.set(rc={\"figure.figsize\":(14, 10)})\n",
    "sns.histplot(\n",
    "    data=(accre_gpu\n",
    "                    .groupby(['PARTITION', 'ACCOUNT_USER'])['USEDMEM']\n",
    "                    .sum()\n",
    "                    .to_frame()\n",
    "                    .reset_index()\n",
    "                    .sort_values('USEDMEM', ascending=False)),         \n",
    "    x='USEDMEM',\n",
    "    hue='PARTITION',\n",
    "    bins=41\n",
    ");"
   ]
  },
  {
   "cell_type": "code",
   "execution_count": null,
   "id": "10f21f5c",
   "metadata": {
    "scrolled": false
   },
   "outputs": [],
   "source": [
    "#plotting the runtime weighted GPUs by partition and account\n",
    "sns.set(rc={\"figure.figsize\":(10, 8)})\n",
    "sns.barplot(\n",
    "             x='GPUS_RUNTIME',\n",
    "             y='ACCOUNT',\n",
    "             hue='PARTITION',\n",
    "             data=(accre_gpu\n",
    "                    .groupby(['PARTITION', 'ACCOUNT'])['GPUS_RUNTIME']\n",
    "                    .sum()\n",
    "                    .to_frame()\n",
    "                    .reset_index()\n",
    "                    .sort_values('GPUS_RUNTIME', ascending=False))\n",
    "            );"
   ]
  },
  {
   "cell_type": "code",
   "execution_count": null,
   "id": "98bd531d",
   "metadata": {},
   "outputs": [],
   "source": [
    "#plotting runtime weighted GPUS by partition and user\n",
    "#not yet sure if users can be under multiple accounts\n",
    "sns.set(rc={\"figure.figsize\":(10,20)})\n",
    "sns.barplot(\n",
    "             x='GPUS_RUNTIME',\n",
    "             y='ACCOUNT_USER',\n",
    "             hue='PARTITION',\n",
    "             data=(accre_gpu\n",
    "                    .groupby(['PARTITION',\n",
    "                              'ACCOUNT_USER'])['GPUS_RUNTIME']\n",
    "                    .sum()\n",
    "                    .to_frame()\n",
    "                    .reset_index()\n",
    "                    .sort_values('GPUS_RUNTIME', ascending=False)\n",
    "                    .head(60)\n",
    "                  )\n",
    ");"
   ]
  },
  {
   "cell_type": "code",
   "execution_count": null,
   "id": "24d000e9",
   "metadata": {
    "scrolled": false
   },
   "outputs": [],
   "source": [
    "#plotting total memory usage by partition and account\n",
    "sns.set(rc={\"figure.figsize\":(10, 8)})\n",
    "sns.barplot(\n",
    "             x='USEDMEM',\n",
    "             y='ACCOUNT',\n",
    "             hue='PARTITION',\n",
    "             data=(accre_gpu\n",
    "                    .groupby(['PARTITION', 'ACCOUNT'])['USEDMEM']\n",
    "                    .sum()\n",
    "                    .to_frame()\n",
    "                    .reset_index()\n",
    "                    .sort_values('USEDMEM', ascending=False))\n",
    "            );"
   ]
  },
  {
   "cell_type": "code",
   "execution_count": null,
   "id": "51cc50d7",
   "metadata": {
    "scrolled": false
   },
   "outputs": [],
   "source": [
    "#plotting total memory usage by partition and account_user\n",
    "sns.set(rc={\"figure.figsize\":(10, 16)})\n",
    "sns.barplot(\n",
    "             x='USEDMEM',\n",
    "             y='ACCOUNT_USER',\n",
    "             hue='PARTITION',\n",
    "             data=(accre_gpu\n",
    "                    .groupby(['PARTITION', 'ACCOUNT_USER'])['USEDMEM']\n",
    "                    .sum()\n",
    "                    .to_frame()\n",
    "                    .reset_index()\n",
    "                    .sort_values('USEDMEM', ascending=False)\n",
    "                    .head(60))\n",
    "            );"
   ]
  },
  {
   "cell_type": "code",
   "execution_count": null,
   "id": "f8cf7c81",
   "metadata": {},
   "outputs": [],
   "source": [
    "import plotly.express as px\n",
    "from ipywidgets import interact, interactive, fixed, interact_manual\n",
    "import ipywidgets as widgets"
   ]
  },
  {
   "cell_type": "code",
   "execution_count": null,
   "id": "e0b9b8d9",
   "metadata": {},
   "outputs": [],
   "source": [
    "#creating a dataframe of aggregated values for each user\n",
    "user_details = (\n",
    "    accre_gpu\n",
    "    .groupby(['PARTITION', 'ACCOUNT', 'ACCOUNT_USER'])\n",
    "    .agg(\n",
    "        sum_GPUS = ('GPUS','sum'),\n",
    "        sum_MEM = ('USEDMEM','sum'),\n",
    "        sum_UTIME = ('USEDTIME', 'sum'),\n",
    "        sum_RTIME = ('REQTIME', 'sum'),\n",
    "        sum_time_dif = ('time_dif', 'sum'),\n",
    "        sum_GPUS_RUNTIME = ('GPUS_RUNTIME', 'sum'),\n",
    "        job_count = ('JOBID', 'count')\n",
    "    )\n",
    "    .reset_index()\n",
    ")\n",
    "user_details"
   ]
  },
  {
   "cell_type": "code",
   "execution_count": null,
   "id": "51ae38c3",
   "metadata": {},
   "outputs": [],
   "source": [
    "fig = px.scatter(user_details,\n",
    "                 x=\"sum_GPUS_RUNTIME\", \n",
    "                 y=\"sum_MEM\", \n",
    "                 color=\"PARTITION\",\n",
    "                 size=\"job_count\",\n",
    "                 marginal_y=\"histogram\",\n",
    "                 marginal_x=\"histogram\", \n",
    "                 template=\"simple_white\",\n",
    "                 height=700,\n",
    "                 hover_data=[\"ACCOUNT\", \"ACCOUNT_USER\", \"sum_GPUS\", \"sum_UTIME\", \"job_count\"])\n",
    "\n",
    "fig.show()"
   ]
  },
  {
   "cell_type": "code",
   "execution_count": null,
   "id": "4293bf2e",
   "metadata": {},
   "outputs": [],
   "source": [
    "fig =  px.histogram(\n",
    "    user_details, \n",
    "    x=\"sum_GPUS_RUNTIME\",\n",
    "    color=\"PARTITION\",\n",
    "    facet_row='PARTITION',\n",
    "    height=750\n",
    ")\n",
    "    \n",
    "fig.show()"
   ]
  },
  {
   "cell_type": "code",
   "execution_count": null,
   "id": "bd95227d",
   "metadata": {},
   "outputs": [],
   "source": [
    "#@interact(partition = user_details['PARTITION'].unique())\n",
    "#def interactive_plot(partition):\n",
    "\n",
    "df = user_details\n",
    "\n",
    "fig =  px.scatter(df, \n",
    "                  x=\"sum_GPUS_RUNTIME\", \n",
    "                  y=\"sum_MEM\",\n",
    "                  color=(df[\"sum_time_dif\"].astype('timedelta64[h]')),\n",
    "                  size=\"job_count\",\n",
    "                  facet_row=\"PARTITION\",\n",
    "                  height=900,\n",
    "                  width=600,\n",
    "                  labels={\n",
    "                      \"sum_GPUS_RUNTIME\" : \"Total Runtime Weighted GPUs\",\n",
    "                      \"sum_Mem\" : \"Total Memory Used (GB)\",\n",
    "                      \"job_count\" : \"Total Jobs\",\n",
    "                      \"sum_UTIME\" : \"Total Time Used\",\n",
    "                      \"sum_GPUS\" : \"Total GPUs Requested\"\n",
    "                  },\n",
    "                  #category_orders={\"Year\" : [2005, 2006, 2007, 2008, 2009, 2010, 2011, 2012, 2013, 2014]},\n",
    "                  hover_name=\"ACCOUNT_USER\",\n",
    "                  #hover_data={\"Maternal_Death_Rate\":True,\n",
    "                  #            \"Primary_ed_completion_percent\":\":.2f\",\n",
    "                  #            \"GDP_Per_Capita\":\":$.2f\", \n",
    "                  #            \"Life_Expectancy\":\":.2f\",\n",
    "                  #            \"Continent\":True, \n",
    "                  #            \"Year\":False,\n",
    "                  #            \"Sex\":False}\n",
    "                 )\n",
    "\n",
    "fig.update_layout(title_text=\"Title\",\n",
    "                  title_xanchor=\"auto\",\n",
    "                  title_font_size=14\n",
    "                 #title_xref=\"paper\"\n",
    "                 )\n",
    "\n",
    "fig.update_xaxes(title_font_size=12)\n",
    "\n",
    "fig.update_yaxes(title_font_size=12)\n",
    "\n",
    "fig.update_coloraxes(colorbar_len=1, \n",
    "                     colorbar_title_font_size=12,\n",
    "                     colorbar=dict(orientation=\"h\"),\n",
    "                     colorbar_y=-.025,\n",
    "                     colorbar_yanchor=\"top\")\n",
    "\n",
    "fig.show()"
   ]
  },
  {
   "cell_type": "code",
   "execution_count": null,
   "id": "bd76cd21",
   "metadata": {},
   "outputs": [],
   "source": []
  }
 ],
 "metadata": {
  "kernelspec": {
   "display_name": "Python 3 (ipykernel)",
   "language": "python",
   "name": "python3"
  },
  "language_info": {
   "codemirror_mode": {
    "name": "ipython",
    "version": 3
   },
   "file_extension": ".py",
   "mimetype": "text/x-python",
   "name": "python",
   "nbconvert_exporter": "python",
   "pygments_lexer": "ipython3",
   "version": "3.9.12"
  }
 },
 "nbformat": 4,
 "nbformat_minor": 5
}
