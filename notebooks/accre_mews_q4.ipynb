{
 "cells": [
  {
   "cell_type": "code",
   "execution_count": null,
   "id": "2dacb017",
   "metadata": {},
   "outputs": [],
   "source": [
    "import pandas as pd\n",
    "import numpy as np\n",
    "import matplotlib.pyplot as plt\n",
    "import seaborn as sns\n",
    "\n",
    "%matplotlib inline"
   ]
  },
  {
   "cell_type": "code",
   "execution_count": null,
   "id": "f1de267c",
   "metadata": {},
   "outputs": [],
   "source": [
    "#there are some irregular lines in the data, so setting argument to get a note of which lines and skip them when reading in\n",
    "accre_gpu = pd.read_csv('../data/accre-gpu-jobs-2022-v2.csv', on_bad_lines='warn')"
   ]
  },
  {
   "cell_type": "code",
   "execution_count": null,
   "id": "174ba017",
   "metadata": {
    "scrolled": false
   },
   "outputs": [],
   "source": [
    "#per our stakeholder, no need to include jobs with state of cancelled, pending, or running in our analysis, so dropping those 1258 rows\n",
    "accre_gpu = accre_gpu.loc[(~accre_gpu['STATE'].isin(['PENDING', 'RUNNING'])) \n",
    "                          & \n",
    "                          (~accre_gpu['STATE'].str.contains('CANCELLED'))]\n",
    "\n",
    "#stripping the 'M' from USEDMEM column and converting it to a numeric data type\n",
    "accre_gpu['USEDMEM'] = accre_gpu['USEDMEM'].str.strip(to_strip='M').astype(float)\n",
    "\n",
    "#converting REQTIME and USEDTIME columns to timedelta data types\n",
    "accre_gpu['REQTIME'] = pd.to_timedelta(accre_gpu['REQTIME'].str.replace('-',' days '))\n",
    "accre_gpu['USEDTIME'] = pd.to_timedelta(accre_gpu['USEDTIME'].str.replace('-',' days '))\n",
    "\n",
    "#adding in a column that gives the difference in the time requested and time used\n",
    "accre_gpu['time_dif'] = accre_gpu['REQTIME'] - accre_gpu['USEDTIME']\n",
    "\n",
    "#adding in columns that provide versions of the other time columns but in minutes\n",
    "accre_gpu['REQTIME_s'] = accre_gpu['REQTIME'].astype('timedelta64[s]')\n",
    "accre_gpu['USEDTIME_s'] = accre_gpu['USEDTIME'].astype('timedelta64[s]')\n",
    "accre_gpu['time_dif_s'] = accre_gpu['REQTIME_s'] - accre_gpu['USEDTIME_s']\n",
    "\n",
    "accre_gpu = accre_gpu.reset_index(drop=True)\n",
    "\n",
    "accre_gpu"
   ]
  },
  {
   "cell_type": "markdown",
   "id": "3034c358",
   "metadata": {},
   "source": [
    "#### 4. What is the distribution of different groups and users accessing each partition? In each partition, who are the top users, and do they represent a majority of the runtime-weighted jobs on the partition?   \n",
    "From the stakeholder: For determining top users, I think the calculation would be the sum of nGPUs * usedtime over all their jobs in the partition. It would also be interesting to see what users/groups seem to be using more memory."
   ]
  },
  {
   "cell_type": "code",
   "execution_count": null,
   "id": "e0bd5189",
   "metadata": {
    "scrolled": true
   },
   "outputs": [],
   "source": [
    "#creating the RUNTIME weighted GPU value\n",
    "accre_gpu['GPUS_RUNTIME_h'] = accre_gpu['GPUS'] * accre_gpu['USEDTIME_s'] / 3600\n",
    "\n",
    "# we want to analyze each user within the context of a specific account, creating a combined account_user column\n",
    "accre_gpu['ACCOUNT_USER'] = accre_gpu['ACCOUNT'] + '_' + accre_gpu['USER']\n",
    "\n",
    "accre_gpu"
   ]
  },
  {
   "cell_type": "code",
   "execution_count": null,
   "id": "dcab5dcf",
   "metadata": {
    "scrolled": true
   },
   "outputs": [],
   "source": [
    "#number of jobs either completed, failed, or ran out of memory for each user\n",
    "(\n",
    "    accre_gpu\n",
    "    .groupby(['PARTITION','ACCOUNT_USER'])['JOBID']\n",
    "    .count()\n",
    "    .to_frame()\n",
    "    .reset_index()\n",
    "    .sort_values('JOBID', ascending=False)\n",
    "    .rename(columns={'JOBID':'job_count'})\n",
    ")"
   ]
  },
  {
   "cell_type": "markdown",
   "id": "9478b9f2",
   "metadata": {},
   "source": [
    "Almost 40% of all jobs in this data set came frome one user in one partition"
   ]
  },
  {
   "cell_type": "code",
   "execution_count": null,
   "id": "10f21f5c",
   "metadata": {
    "scrolled": false
   },
   "outputs": [],
   "source": [
    "#plotting the runtime weighted GPUs by partition and account\n",
    "sns.set(rc={\"figure.figsize\":(10, 8)})\n",
    "sns.barplot(\n",
    "             x='GPUS_RUNTIME_h',\n",
    "             y='ACCOUNT',\n",
    "             hue='PARTITION',\n",
    "             data=(accre_gpu\n",
    "                    .groupby(['PARTITION', 'ACCOUNT'])['GPUS_RUNTIME_h']\n",
    "                    .sum()\n",
    "                    .to_frame()\n",
    "                    .reset_index()\n",
    "                    .sort_values('GPUS_RUNTIME_h', ascending=False))\n",
    "            );"
   ]
  },
  {
   "cell_type": "code",
   "execution_count": null,
   "id": "24d000e9",
   "metadata": {
    "scrolled": false
   },
   "outputs": [],
   "source": [
    "#plotting total memory usage by partition and account\n",
    "sns.set(rc={\"figure.figsize\":(10, 8)})\n",
    "sns.barplot(\n",
    "             x='USEDMEM',\n",
    "             y='ACCOUNT',\n",
    "             hue='PARTITION',\n",
    "             data=(accre_gpu\n",
    "                    .groupby(['PARTITION', 'ACCOUNT'])['USEDMEM']\n",
    "                    .sum()\n",
    "                    .to_frame()\n",
    "                    .reset_index()\n",
    "                    .sort_values('USEDMEM', ascending=False))\n",
    "            );"
   ]
  },
  {
   "cell_type": "code",
   "execution_count": null,
   "id": "e0b9b8d9",
   "metadata": {
    "scrolled": false
   },
   "outputs": [],
   "source": [
    "#creating a dataframe of aggregated values for each user\n",
    "user_details = (\n",
    "    accre_gpu\n",
    "    .groupby(['PARTITION', 'ACCOUNT', 'USER', 'ACCOUNT_USER'])\n",
    "    .agg(\n",
    "        sum_MEM = ('USEDMEM','sum'),\n",
    "        sum_UTIME = ('USEDTIME', 'sum'),\n",
    "        sum_RTIME = ('REQTIME', 'sum'),\n",
    "        sum_time_dif = ('time_dif', 'sum'),\n",
    "        sum_GPUS_RUNTIME_h = ('GPUS_RUNTIME_h', 'sum'),\n",
    "        job_count = ('JOBID', 'count')\n",
    "    )\n",
    "    .reset_index()\n",
    ")\n",
    "user_details['time_per_job_m'] = (user_details['sum_UTIME'].astype('timedelta64[s]')/60)/user_details['job_count']\n",
    "user_details['time_dif_per_job_m'] = (user_details['sum_time_dif'].astype('timedelta64[s]')/60)/user_details['job_count']\n",
    "\n",
    "user_details"
   ]
  },
  {
   "cell_type": "markdown",
   "id": "62aff48b",
   "metadata": {},
   "source": [
    "#### Looking at top 5 users  for Maxwell and top 10 for other two by different measures"
   ]
  },
  {
   "cell_type": "code",
   "execution_count": null,
   "id": "6b1cb330",
   "metadata": {
    "scrolled": false
   },
   "outputs": [],
   "source": [
    "#total number of users for each partition\n",
    "print(len(user_details.loc[user_details['PARTITION'] == 'maxwell']))\n",
    "print(len(user_details.loc[user_details['PARTITION'] == 'pascal']))\n",
    "print(len(user_details.loc[user_details['PARTITION'] == 'turing']))"
   ]
  },
  {
   "cell_type": "code",
   "execution_count": null,
   "id": "2bc8ce94",
   "metadata": {},
   "outputs": [],
   "source": [
    "m_m = user_details.loc[user_details['PARTITION'] == 'maxwell'].nlargest(5, 'sum_MEM').reset_index(drop=True)"
   ]
  },
  {
   "cell_type": "code",
   "execution_count": null,
   "id": "804314ff",
   "metadata": {
    "scrolled": false
   },
   "outputs": [],
   "source": [
    "m_gr = user_details.loc[user_details['PARTITION'] == 'maxwell'].nlargest(5, 'sum_GPUS_RUNTIME_h').reset_index(drop=True)"
   ]
  },
  {
   "cell_type": "code",
   "execution_count": null,
   "id": "2c56b9df",
   "metadata": {
    "scrolled": true
   },
   "outputs": [],
   "source": [
    "m_jc = user_details.loc[user_details['PARTITION'] == 'maxwell'].nlargest(5, 'job_count').reset_index(drop=True)"
   ]
  },
  {
   "cell_type": "code",
   "execution_count": null,
   "id": "95326604",
   "metadata": {},
   "outputs": [],
   "source": [
    "p_m = user_details.loc[user_details['PARTITION'] == 'pascal'].nlargest(10, 'sum_MEM').reset_index(drop=True)"
   ]
  },
  {
   "cell_type": "code",
   "execution_count": null,
   "id": "f5d32bc1",
   "metadata": {},
   "outputs": [],
   "source": [
    "t_m = user_details.loc[user_details['PARTITION'] == 'turing'].nlargest(10, 'sum_MEM').reset_index(drop=True)"
   ]
  },
  {
   "cell_type": "code",
   "execution_count": null,
   "id": "dd81c260",
   "metadata": {},
   "outputs": [],
   "source": [
    "p_gr = user_details.loc[user_details['PARTITION'] == 'pascal'].nlargest(10, 'sum_GPUS_RUNTIME_h').reset_index(drop=True)"
   ]
  },
  {
   "cell_type": "code",
   "execution_count": null,
   "id": "adfde165",
   "metadata": {},
   "outputs": [],
   "source": [
    "t_gr = user_details.loc[user_details['PARTITION'] == 'turing'].nlargest(10, 'sum_GPUS_RUNTIME_h').reset_index(drop=True)"
   ]
  },
  {
   "cell_type": "code",
   "execution_count": null,
   "id": "425a08ce",
   "metadata": {},
   "outputs": [],
   "source": [
    "p_jc = user_details.loc[user_details['PARTITION'] == 'pascal'].nlargest(10, 'job_count').reset_index(drop=True)"
   ]
  },
  {
   "cell_type": "code",
   "execution_count": null,
   "id": "cff9bf85",
   "metadata": {},
   "outputs": [],
   "source": [
    "t_jc = user_details.loc[user_details['PARTITION'] == 'turing'].nlargest(10, 'job_count').reset_index(drop=True)"
   ]
  },
  {
   "cell_type": "code",
   "execution_count": null,
   "id": "25e264dd",
   "metadata": {
    "scrolled": true
   },
   "outputs": [],
   "source": [
    "#putting together all these nlargest dfs, dropping duplicates\n",
    "dfs = [m_m, p_m, t_m]\n",
    "tops_m = pd.concat(dfs).drop_duplicates().reset_index(drop=True)\n",
    "tops_m"
   ]
  },
  {
   "cell_type": "code",
   "execution_count": null,
   "id": "a86edecd",
   "metadata": {
    "scrolled": true
   },
   "outputs": [],
   "source": [
    "dfs = [m_gr, p_gr, t_gr]\n",
    "tops_gr = pd.concat(dfs).drop_duplicates().reset_index(drop=True)\n",
    "tops_gr"
   ]
  },
  {
   "cell_type": "markdown",
   "id": "ef54c7d1",
   "metadata": {},
   "source": [
    "#### Portion of the variable of interest accounted for by the top users in that portion"
   ]
  },
  {
   "cell_type": "code",
   "execution_count": null,
   "id": "22d04fdd",
   "metadata": {
    "scrolled": true
   },
   "outputs": [],
   "source": [
    "m_gr['sum_GPUS_RUNTIME_h'].sum()/accre_gpu.loc[accre_gpu['PARTITION'] == 'maxwell']['GPUS_RUNTIME_h'].sum()"
   ]
  },
  {
   "cell_type": "code",
   "execution_count": null,
   "id": "0af223f5",
   "metadata": {
    "scrolled": false
   },
   "outputs": [],
   "source": [
    "p_gr['sum_GPUS_RUNTIME_h'].sum()/accre_gpu.loc[accre_gpu['PARTITION'] == 'pascal']['GPUS_RUNTIME_h'].sum()"
   ]
  },
  {
   "cell_type": "code",
   "execution_count": null,
   "id": "7507b680",
   "metadata": {},
   "outputs": [],
   "source": [
    "t_gr['sum_GPUS_RUNTIME_h'].sum()/accre_gpu.loc[accre_gpu['PARTITION'] == 'turing']['GPUS_RUNTIME_h'].sum()"
   ]
  },
  {
   "cell_type": "code",
   "execution_count": null,
   "id": "1f151f74",
   "metadata": {
    "scrolled": true
   },
   "outputs": [],
   "source": [
    "m_m['sum_MEM'].sum()/accre_gpu.loc[accre_gpu['PARTITION'] == 'maxwell']['USEDMEM'].sum()"
   ]
  },
  {
   "cell_type": "code",
   "execution_count": null,
   "id": "9b3cba75",
   "metadata": {},
   "outputs": [],
   "source": [
    "p_m['sum_MEM'].sum()/accre_gpu.loc[accre_gpu['PARTITION'] == 'pascal']['USEDMEM'].sum()"
   ]
  },
  {
   "cell_type": "code",
   "execution_count": null,
   "id": "1ce04ccc",
   "metadata": {},
   "outputs": [],
   "source": [
    "t_m['sum_MEM'].sum()/accre_gpu.loc[accre_gpu['PARTITION'] == 'turing']['USEDMEM'].sum()"
   ]
  },
  {
   "cell_type": "markdown",
   "id": "1fc79f2d",
   "metadata": {},
   "source": [
    "Looking at distribution over several variables by partition"
   ]
  },
  {
   "cell_type": "code",
   "execution_count": null,
   "id": "591451e9",
   "metadata": {
    "scrolled": true
   },
   "outputs": [],
   "source": [
    "(\n",
    "    accre_gpu\n",
    "    .loc[accre_gpu['EXITCODE'] == '0:0']\n",
    "    .groupby('PARTITION')['USEDTIME']\n",
    "    .describe(percentiles=[.01, .05, .1, .25, .5, .75, .9, .95, .99])\n",
    "    .drop(columns=['std', 'min'])\n",
    ")"
   ]
  },
  {
   "cell_type": "code",
   "execution_count": null,
   "id": "34116b1a",
   "metadata": {},
   "outputs": [],
   "source": [
    "(\n",
    "    accre_gpu\n",
    "    .loc[accre_gpu['EXITCODE'] == '0:0']\n",
    "    .groupby('PARTITION')['USEDMEM']\n",
    "    .describe(percentiles=[.01, .05, .1, .25, .5, .75, .9, .95, .99])\n",
    ")"
   ]
  },
  {
   "cell_type": "code",
   "execution_count": null,
   "id": "0783030b",
   "metadata": {},
   "outputs": [],
   "source": [
    "(\n",
    "    accre_gpu\n",
    "    .loc[accre_gpu['EXITCODE'] == '0:0']\n",
    "    .groupby('PARTITION')['GPUS']\n",
    "    .describe(percentiles=[.01, .05, .1, .25, .5, .75, .9, .95, .99])\n",
    ")"
   ]
  },
  {
   "cell_type": "code",
   "execution_count": null,
   "id": "89a34ac6",
   "metadata": {
    "scrolled": true
   },
   "outputs": [],
   "source": [
    "(\n",
    "    accre_gpu\n",
    "    .loc[accre_gpu['EXITCODE'] == '0:0']\n",
    "    .groupby('PARTITION')['time_dif']\n",
    "    .describe(percentiles=[.01, .05, .1, .25, .5, .75, .9, .95, .99])\n",
    ")"
   ]
  },
  {
   "cell_type": "code",
   "execution_count": null,
   "id": "f8cf7c81",
   "metadata": {},
   "outputs": [],
   "source": [
    "import plotly.express as px\n",
    "from ipywidgets import interact, interactive, fixed, interact_manual\n",
    "import ipywidgets as widgets"
   ]
  },
  {
   "cell_type": "code",
   "execution_count": null,
   "id": "5af775bc",
   "metadata": {
    "scrolled": false
   },
   "outputs": [],
   "source": [
    "df= tops_m.sort_values(by=['ACCOUNT'], ascending=False)\n",
    "figtm = px.bar(df, \n",
    "             x='sum_MEM', \n",
    "             y='USER', \n",
    "             color='PARTITION',\n",
    "             pattern_shape=\"ACCOUNT\",\n",
    "             pattern_shape_map={\n",
    "                 \"virginia\": \"x\", \"harovin\": \"/\", \"glasshouse\": \".\",\n",
    "                 \"prince\": \"\\\\\", \"grisette\":\"x\", \"antares\":\"\", \n",
    "                 \"plumcot\":\"+\", \"orange\": \"/\"\n",
    "             },\n",
    "             color_discrete_sequence=px.colors.qualitative.Dark24,\n",
    "             height=800,\n",
    "             labels={\n",
    "                 \"sum_GPUS_RUNTIME_h\" : \"Total Runtime over all GPUs(h)\",\n",
    "                 \"sum_MEM\" : \"Total Memory Used (MB)\",\n",
    "                 \"job_count\" : \"Total Jobs\",\n",
    "                 \"sum_UTIME\" : \"Total Time Used\",\n",
    "                 \"PARTITION\" : \"Partition\",\n",
    "                 \"USER\" : \"User name\", \n",
    "                 \"ACCOUNT\" : \"Account\",\n",
    "                 \"time_per_job\" : \"Average job time\"\n",
    "             },\n",
    "              hover_data={\n",
    "                  \"sum_GPUS_RUNTIME_h\":True,\n",
    "                  #\"time_per_job\":True,\n",
    "                  \"job_count\":True,\n",
    "                  \"sum_GPUS_RUNTIME_h\":\":.6s\",\n",
    "                  \"sum_MEM\":\":,.2f\"\n",
    "              },\n",
    "              color_discrete_map={\n",
    "                  \"maxwell\":\"#1CA71C\",\n",
    "                  \"pascal\":\"#E15F99\",\n",
    "                  \"turing\":\"#2E91E5\"\n",
    "              })\n",
    "figtm.update_layout(title_text=\"Top Users by Total Memory Usage\",\n",
    "                  title_xanchor=\"auto\",\n",
    "                  title_font_size=18,\n",
    "                    yaxis={'categoryorder':'category descending'}\n",
    "                 )\n",
    "\n",
    "\n",
    "\n",
    "\n",
    "figtm.show()"
   ]
  },
  {
   "cell_type": "code",
   "execution_count": null,
   "id": "856c14f9",
   "metadata": {},
   "outputs": [],
   "source": [
    "#figtm.write_html(\"top_mem.html\")"
   ]
  },
  {
   "cell_type": "code",
   "execution_count": null,
   "id": "b6204a83",
   "metadata": {},
   "outputs": [],
   "source": [
    "df= tops_gr.sort_values(by=['ACCOUNT'], ascending=False)\n",
    "figtgr = px.bar(df, \n",
    "             x='sum_GPUS_RUNTIME_h', \n",
    "             y='USER', \n",
    "             color='PARTITION',\n",
    "             pattern_shape=\"ACCOUNT\",\n",
    "             pattern_shape_map={\n",
    "                 \"virginia\": \"x\", \"harovin\": \"/\", \"glasshouse\": \".\",\n",
    "                 \"prince\": \"\\\\\", \"grisette\":\"x\", \"antares\":\"\", \n",
    "                 \"plumcot\":\"+\", \"orange\": \"/\"\n",
    "             },\n",
    "             color_discrete_sequence=px.colors.qualitative.Dark24,\n",
    "             height=800,\n",
    "             labels={\n",
    "                 \"sum_GPUS_RUNTIME_h\" : \"Total Runtime over all GPUs(h)\",\n",
    "                 \"sum_MEM\" : \"Total Memory Used (MB)\",\n",
    "                 \"job_count\" : \"Total Jobs\",\n",
    "                 \"sum_UTIME\" : \"Total Time Used\",\n",
    "                 \"PARTITION\" : \"Partition\",\n",
    "                 \"USER\" : \"User name\", \n",
    "                 \"ACCOUNT\" : \"Account\",\n",
    "                 \"time_per_job\" : \"Average job time\"\n",
    "                  },\n",
    "              hover_data={\n",
    "                  #\"sum_UTIME\":True,\n",
    "                  #\"time_per_job\":True,\n",
    "                  \"job_count\":True,\n",
    "                  \"sum_MEM\":True,\n",
    "                  \"sum_MEM\":\":,.2f\"\n",
    "                  \n",
    "              },\n",
    "              color_discrete_map={\n",
    "                  \"maxwell\":\"#1CA71C\",\n",
    "                  \"pascal\":\"#E15F99\",\n",
    "                  \"turing\":\"#2E91E5\"\n",
    "              })\n",
    "figtgr.update_layout(title_text=\"Top Users by Total Runtime over all GPUs\",\n",
    "                  title_xanchor=\"auto\",\n",
    "                  title_font_size=18,\n",
    "                    yaxis={'categoryorder':'category descending'}\n",
    "                 )\n",
    "\n",
    "\n",
    "\n",
    "\n",
    "figtgr.show()"
   ]
  },
  {
   "cell_type": "code",
   "execution_count": null,
   "id": "b5eca352",
   "metadata": {},
   "outputs": [],
   "source": [
    "#figtgr.write_html(\"top_gpuruntime.html\")"
   ]
  },
  {
   "cell_type": "code",
   "execution_count": null,
   "id": "bd95227d",
   "metadata": {
    "scrolled": true
   },
   "outputs": [],
   "source": [
    "#@interact(partition = user_details['PARTITION'].unique())\n",
    "#def interactive_plot(partition):\n",
    "\n",
    "df = user_details\n",
    "\n",
    "fig =  px.scatter(df, \n",
    "                  x=\"sum_GPUS_RUNTIME_h\", \n",
    "                  y=\"sum_MEM\",\n",
    "                  color=\"PARTITION\",\n",
    "                  size=\"job_count\",\n",
    "                  symbol='ACCOUNT',\n",
    "                  height=800,\n",
    "                  width=800,\n",
    "                  labels={\n",
    "                      \"sum_GPUS_RUNTIME_h\" : \"Total Runtime over all GPUs(h)\",\n",
    "                      \"sum_MEM\" : \"Total Memory Used (MB)\",\n",
    "                      \"job_count\" : \"Total Jobs\",\n",
    "                      \"sum_UTIME\" : \"Total Time Used\",\n",
    "                      \"sum_GPUS\" : \"Total GPUs Requested\",\n",
    "                      \"PARTITION\" : \"Partition\",\n",
    "                      \"USER\" : \"User name\", \n",
    "                      \"ACCOUNT\" : \"Account\"\n",
    "                  },\n",
    "                  hover_name=\"ACCOUNT_USER\",\n",
    "                  hover_data={\n",
    "                  #\"sum_UTIME\":True,\n",
    "                  #\"time_per_job\":True,\n",
    "                  \"job_count\":True,\n",
    "                  \"sum_MEM\":True,\n",
    "                  \"sum_MEM\":\":,.2f\"\n",
    "                  \n",
    "              },\n",
    "                 )\n",
    "\n",
    "fig.update_layout(title_text=\"Title\",\n",
    "                  title_xanchor=\"auto\",\n",
    "                  title_font_size=14\n",
    "                 #title_xref=\"paper\"\n",
    "                 )\n",
    "\n",
    "fig.update_xaxes(title_font_size=12)\n",
    "\n",
    "fig.update_yaxes(title_font_size=12)\n",
    "\n",
    "fig.show()"
   ]
  },
  {
   "cell_type": "code",
   "execution_count": null,
   "id": "248fbfe0",
   "metadata": {
    "scrolled": false
   },
   "outputs": [],
   "source": [
    "#dropping 28 users based on the following parameters:\n",
    "df = user_details.loc[~((user_details['job_count'] < 6) \n",
    "                    & \n",
    "                    (user_details['sum_UTIME'] < '00:30:00')\n",
    "                    &\n",
    "                    (user_details['sum_MEM'] < 1000)\n",
    "                        )]\n",
    "                       \n",
    "\n",
    "fig1 =  px.scatter(df, \n",
    "                  x=\"sum_GPUS_RUNTIME_h\", \n",
    "                  y=\"sum_MEM\",\n",
    "                  color= 'ACCOUNT',\n",
    "                  size='job_count',\n",
    "                  #symbol='ACCOUNT',\n",
    "                  facet_row = \"PARTITION\",\n",
    "                  color_discrete_sequence=px.colors.qualitative.Dark24,\n",
    "                  size_max=50,\n",
    "                  height=1200,\n",
    "                  width=800,\n",
    "                  labels={\n",
    "                      \"sum_GPUS_RUNTIME_h\" : \"Total Runtime over all GPUs(h)\",\n",
    "                      \"sum_MEM\" : \"Total Memory Used (MB)\",\n",
    "                      \"job_count\" : \"Total Jobs\",\n",
    "                      \"sum_UTIME\" : \"Total Time Used\",\n",
    "                      \"PARTITION\" : \"Partition\",\n",
    "                      \"ACCOUNT\" : \"Account\",\n",
    "                      \"time_per_job_m\" : \"Average time per job (minutes)\"\n",
    "                  },\n",
    "                  hover_name=\"USER\",\n",
    "                   hover_data={\n",
    "                       \"sum_GPUS_RUNTIME_h\":True,\n",
    "                       \"sum_GPUS_RUNTIME_h\":\":.4s\",\n",
    "                       \"sum_MEM\":\":,.1f\",\n",
    "                       \"time_per_job_m\":True,\n",
    "                       \"time_per_job_m\":\":.1f\"\n",
    "                  \n",
    "              },\n",
    "                 )\n",
    "\n",
    "fig1.update_layout(title_text=\"User Activity Across Partitions\",\n",
    "                  title_xanchor=\"auto\",\n",
    "                  title_font_size=18\n",
    "                 )\n",
    "\n",
    "fig1.update_xaxes(title_font_size=12)\n",
    "\n",
    "fig1.update_yaxes(title_font_size=12)\n",
    "\n",
    "fig1.show()\n"
   ]
  },
  {
   "cell_type": "code",
   "execution_count": null,
   "id": "38d4094a",
   "metadata": {},
   "outputs": [],
   "source": [
    "#fig1.write_html(\"mem_rtgpu.html\")"
   ]
  },
  {
   "cell_type": "markdown",
   "id": "103acef8",
   "metadata": {},
   "source": [
    "#### Looking at worst offenders for short run time"
   ]
  },
  {
   "cell_type": "code",
   "execution_count": null,
   "id": "ae98f482",
   "metadata": {
    "scrolled": true
   },
   "outputs": [],
   "source": [
    "user_details.loc[(user_details['time_per_job_m'] < 3)\n",
    "                 &\n",
    "                 (user_details['job_count'] > 1)]\n",
    "#21 users who have submitted more than one job who have an average time per job under 3 minutes"
   ]
  },
  {
   "cell_type": "code",
   "execution_count": null,
   "id": "59b8e0c6",
   "metadata": {},
   "outputs": [],
   "source": [
    "user_details.loc[(user_details['time_per_job_m'] < 3)\n",
    "                 &\n",
    "                 (user_details['job_count'] > 1)]['job_count'].sum()\n",
    "#These users account for 114657 jobs, the massive proportion of which are from glasshouse marnie"
   ]
  },
  {
   "cell_type": "markdown",
   "id": "799d285d",
   "metadata": {},
   "source": [
    "#### Looking at worst offenders for overestimating time needed"
   ]
  },
  {
   "cell_type": "code",
   "execution_count": null,
   "id": "83b89f91",
   "metadata": {},
   "outputs": [],
   "source": [
    "user_details.loc[user_details['job_count'] > 1].nlargest(10, 'time_dif_per_job_m')\n",
    "#the top 10 worst offenders are all overestimating by over 4 days on average"
   ]
  },
  {
   "cell_type": "code",
   "execution_count": null,
   "id": "b2c4819d",
   "metadata": {},
   "outputs": [],
   "source": []
  }
 ],
 "metadata": {
  "kernelspec": {
   "display_name": "Python 3 (ipykernel)",
   "language": "python",
   "name": "python3"
  },
  "language_info": {
   "codemirror_mode": {
    "name": "ipython",
    "version": 3
   },
   "file_extension": ".py",
   "mimetype": "text/x-python",
   "name": "python",
   "nbconvert_exporter": "python",
   "pygments_lexer": "ipython3",
   "version": "3.9.12"
  }
 },
 "nbformat": 4,
 "nbformat_minor": 5
}
