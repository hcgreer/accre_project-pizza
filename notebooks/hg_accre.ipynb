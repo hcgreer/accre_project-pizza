{
 "cells": [
  {
   "cell_type": "code",
   "execution_count": null,
   "id": "eb6b1d46",
   "metadata": {},
   "outputs": [],
   "source": [
    "import pandas as pd\n",
    "import numpy as np\n",
    "import seaborn as sns\n",
    "import itertools"
   ]
  },
  {
   "cell_type": "code",
   "execution_count": null,
   "id": "6add35c6",
   "metadata": {},
   "outputs": [],
   "source": [
    "raw_df = pd.read_csv('../data/accre-gpu-jobs-2022-v2.csv', on_bad_lines='skip')"
   ]
  },
  {
   "cell_type": "code",
   "execution_count": null,
   "id": "e027d44e",
   "metadata": {},
   "outputs": [],
   "source": [
    "raw_df.columns = raw_df.columns.str.lower()\n",
    "\n",
    "gpu_jobs_df = (raw_df\n",
    "               .loc[raw_df['state'] == 'COMPLETED']\n",
    "               .copy()\n",
    "              )\n",
    "\n",
    "gpu_jobs_df['reqtime'] = pd.to_timedelta(\n",
    "    gpu_jobs_df['reqtime'].str.replace('-',' days ')\n",
    ")\n",
    "\n",
    "gpu_jobs_df['usedtime'] = pd.to_timedelta(\n",
    "    gpu_jobs_df['usedtime'].str.replace('-',' days ')\n",
    ")"
   ]
  },
  {
   "cell_type": "code",
   "execution_count": null,
   "id": "73ffebcb",
   "metadata": {},
   "outputs": [],
   "source": [
    "sns.boxplot(\n",
    "    x = gpu_jobs_df['reqtime'] / np.timedelta64(1,'D')\n",
    ");"
   ]
  },
  {
   "cell_type": "code",
   "execution_count": null,
   "id": "e63f8af1",
   "metadata": {},
   "outputs": [],
   "source": [
    "sns.boxplot(\n",
    "    x = gpu_jobs_df['usedtime'] / np.timedelta64(1,'D')\n",
    ");"
   ]
  },
  {
   "cell_type": "code",
   "execution_count": null,
   "id": "ca3d1f25",
   "metadata": {},
   "outputs": [],
   "source": [
    "sns.histplot(\n",
    "    x = gpu_jobs_df['reqtime'] / np.timedelta64(1,'D'),\n",
    "    hue = gpu_jobs_df['partition'],\n",
    "    bins = 10\n",
    ");"
   ]
  },
  {
   "cell_type": "code",
   "execution_count": null,
   "id": "f99a2f00",
   "metadata": {},
   "outputs": [],
   "source": [
    "sns.histplot(\n",
    "    x = gpu_jobs_df['usedtime'] / np.timedelta64(1,'D'),\n",
    "    hue = gpu_jobs_df['partition'],\n",
    "    bins = 10\n",
    ");"
   ]
  },
  {
   "cell_type": "code",
   "execution_count": null,
   "id": "722ab4b0",
   "metadata": {},
   "outputs": [],
   "source": [
    "def all_used_percent(percent):\n",
    "    values = []\n",
    "    for x in percent:\n",
    "        used = gpu_jobs_df.loc[\n",
    "            gpu_jobs_df['usedtime'] >= gpu_jobs_df['reqtime'] * x\n",
    "        ]['jobid'].count()\n",
    "    \n",
    "        per = (used / gpu_jobs_df['jobid'].count() * 100).round(2)\n",
    "    \n",
    "        values.append(per)\n",
    "    return values"
   ]
  },
  {
   "cell_type": "code",
   "execution_count": null,
   "id": "bbac8a10",
   "metadata": {
    "scrolled": true
   },
   "outputs": [],
   "source": [
    "percentages = [.1, .2]\n",
    "days = ['less than', 1, 2, 3, 4, 5, 'more than']"
   ]
  },
  {
   "cell_type": "code",
   "execution_count": null,
   "id": "21e88566",
   "metadata": {},
   "outputs": [],
   "source": [
    "def less_than_day(percent):\n",
    "    values = []\n",
    "    for x in percent:\n",
    "        used = gpu_jobs_df.loc[\n",
    "                    ((gpu_jobs_df['reqtime'] < np.timedelta64(1,'D')) &\n",
    "                    (gpu_jobs_df['usedtime'] >= gpu_jobs_df['reqtime'] * x)\n",
    "                    )\n",
    "                ]['jobid'].count()\n",
    "            \n",
    "        per = (\n",
    "            (used / gpu_jobs_df.loc[\n",
    "                    gpu_jobs_df['reqtime'] < np.timedelta64(1,'D')\n",
    "            ]['jobid'].count() * 100\n",
    "            )\n",
    "        ).round(2)\n",
    "        values.append(per)\n",
    "    return values"
   ]
  },
  {
   "cell_type": "code",
   "execution_count": null,
   "id": "855b5560",
   "metadata": {},
   "outputs": [],
   "source": [
    "def per_day(day, percent):\n",
    "    values = []\n",
    "    for x in percent:\n",
    "        used = gpu_jobs_df.loc[\n",
    "                    ((gpu_jobs_df['reqtime'] >= np.timedelta64(day,'D')) &\n",
    "                     (gpu_jobs_df['reqtime'] < np.timedelta64(day + 1,'D')) &\n",
    "                    (gpu_jobs_df['usedtime'] >= gpu_jobs_df['reqtime'] * x)\n",
    "                    )\n",
    "                ]['jobid'].count()\n",
    "        per = (\n",
    "                (used / gpu_jobs_df.loc[\n",
    "                    ((gpu_jobs_df['reqtime'] >= np.timedelta64(day,'D')) &\n",
    "                     (gpu_jobs_df['reqtime'] < np.timedelta64(day + 1,'D'))\n",
    "                    )\n",
    "                ]['jobid'].count() * 100)\n",
    "            ).round(2)\n",
    "        values.append(per)\n",
    "    return values"
   ]
  },
  {
   "cell_type": "code",
   "execution_count": null,
   "id": "52400160",
   "metadata": {},
   "outputs": [],
   "source": [
    "def more_than_five(percent):\n",
    "    values = []\n",
    "    for x in percent:\n",
    "        used = gpu_jobs_df.loc[\n",
    "                ((gpu_jobs_df['reqtime'] > np.timedelta64(5,'D')) &\n",
    "                (gpu_jobs_df['usedtime'] >= gpu_jobs_df['reqtime'] * x)\n",
    "                )\n",
    "            ]['jobid'].count()\n",
    "        per = (\n",
    "            (used / gpu_jobs_df.loc[\n",
    "                gpu_jobs_df['reqtime'] > np.timedelta64(5,'D')\n",
    "            ]['jobid'].count() * 100\n",
    "            )\n",
    "        ).round(2)\n",
    "        values.append(per)\n",
    "    return values"
   ]
  },
  {
   "cell_type": "code",
   "execution_count": null,
   "id": "0a1164bd",
   "metadata": {},
   "outputs": [],
   "source": [
    "percent_df = pd.DataFrame()\n",
    "\n",
    "percent_df['percentages'] = percentages\n",
    "percent_df['percentages'] = percent_df['percentages'] * 100\n",
    "\n",
    "percent_df['all_entries'] = all_used_percent(percentages)\n",
    "\n",
    "percent_df['less_than_day'] = less_than_day(percentages)\n",
    "\n",
    "percent_df['one_day'] = per_day(1, percentages)\n",
    "percent_df['two_days'] = per_day(2, percentages)\n",
    "percent_df['three_days'] = per_day(3, percentages)\n",
    "percent_df['four_days'] = per_day(4, percentages)\n",
    "percent_df['five_days'] = per_day(5, percentages)\n",
    "\n",
    "percent_df['more_than_five'] = more_than_five(percentages)\n",
    "\n",
    "percent_df = percent_df.transpose().reset_index()\n",
    "percent_df.columns = percent_df.iloc[0]\n",
    "percent_df = (percent_df\n",
    "              .drop(percent_df.index[0])\n",
    "              .rename(columns = {'percentages' : 'req_days'})\n",
    "             )"
   ]
  },
  {
   "cell_type": "code",
   "execution_count": null,
   "id": "06528e8a",
   "metadata": {},
   "outputs": [],
   "source": [
    "percent_df"
   ]
  },
  {
   "cell_type": "code",
   "execution_count": null,
   "id": "d49b4e8a",
   "metadata": {},
   "outputs": [],
   "source": [
    "req_2_more_df = gpu_jobs_df.loc[\n",
    "    gpu_jobs_df['reqtime'] >= np.timedelta64(2,'D')\n",
    "]"
   ]
  },
  {
   "cell_type": "code",
   "execution_count": null,
   "id": "9c6f6301",
   "metadata": {},
   "outputs": [],
   "source": [
    "def used_percent(data, percent):\n",
    "    used = data.loc[\n",
    "        data['usedtime'] >= data['reqtime'] * percent\n",
    "    ]['jobid'].count()\n",
    "    \n",
    "    per = (used / data['jobid'].count() * 100).round(2)\n",
    "    \n",
    "    return per"
   ]
  },
  {
   "cell_type": "code",
   "execution_count": null,
   "id": "0891474d",
   "metadata": {},
   "outputs": [],
   "source": [
    "used_percent(req_2_more_df, .1)"
   ]
  },
  {
   "cell_type": "code",
   "execution_count": null,
   "id": "23a1a650",
   "metadata": {},
   "outputs": [],
   "source": [
    "used_percent(req_2_more_df, .2)"
   ]
  },
  {
   "cell_type": "code",
   "execution_count": null,
   "id": "ee7ad97c",
   "metadata": {},
   "outputs": [],
   "source": [
    "all_entries = (req_2_more_df.loc[\n",
    "    req_2_more_df['usedtime'] <= np.timedelta64(1,'h')\n",
    "]['jobid'].count() / req_2_more_df['jobid'].count() * 100).round(2)"
   ]
  },
  {
   "cell_type": "code",
   "execution_count": null,
   "id": "655fade7",
   "metadata": {},
   "outputs": [],
   "source": [
    "maxwell = (req_2_more_df.loc[\n",
    "    (req_2_more_df['usedtime'] <= np.timedelta64(1,'h')) & (req_2_more_df['partition'] == 'maxwell')\n",
    "]['jobid'].count() / req_2_more_df.loc[req_2_more_df['partition'] == 'maxwell']['jobid'].count() * 100).round(2)"
   ]
  },
  {
   "cell_type": "code",
   "execution_count": null,
   "id": "d44beff2",
   "metadata": {},
   "outputs": [],
   "source": [
    "pascal = (req_2_more_df.loc[\n",
    "    (req_2_more_df['usedtime'] <= np.timedelta64(1,'h')) & (req_2_more_df['partition'] == 'pascal')\n",
    "]['jobid'].count() / req_2_more_df.loc[req_2_more_df['partition'] == 'pascal']['jobid'].count() * 100).round(2)"
   ]
  },
  {
   "cell_type": "code",
   "execution_count": null,
   "id": "b0075b8c",
   "metadata": {},
   "outputs": [],
   "source": [
    "turing = (req_2_more_df.loc[\n",
    "    (req_2_more_df['usedtime'] <= np.timedelta64(1,'h')) & (req_2_more_df['partition'] == 'turing')\n",
    "]['jobid'].count() / req_2_more_df.loc[req_2_more_df['partition'] == 'turing']['jobid'].count() * 100).round(2)"
   ]
  },
  {
   "cell_type": "code",
   "execution_count": null,
   "id": "e05b4759",
   "metadata": {},
   "outputs": [],
   "source": [
    "under_hour_df =  pd.DataFrame()\n",
    "\n",
    "under_hour_df['partition'] = ['all_entries', 'maxwell', 'pascal', 'turing']\n",
    "\n",
    "under_hour_df['total'] = [\n",
    "    req_2_more_df['jobid'].count(),\n",
    "    req_2_more_df.loc[req_2_more_df['partition'] == 'maxwell']['jobid'].count(),\n",
    "    req_2_more_df.loc[req_2_more_df['partition'] == 'pascal']['jobid'].count(),\n",
    "    req_2_more_df.loc[req_2_more_df['partition'] == 'turing']['jobid'].count()\n",
    "]\n",
    "\n",
    "under_hour_df['under_hour'] = [\n",
    "    req_2_more_df.loc[req_2_more_df['usedtime'] <= np.timedelta64(1,'h')]['jobid'].count(),\n",
    "    (req_2_more_df.loc[\n",
    "        (req_2_more_df['usedtime'] <= np.timedelta64(1,'h')) & (req_2_more_df['partition'] == 'maxwell')\n",
    "    ]['jobid'].count()),\n",
    "    (req_2_more_df.loc[\n",
    "        (req_2_more_df['usedtime'] <= np.timedelta64(1,'h')) & (req_2_more_df['partition'] == 'pascal')\n",
    "    ]['jobid'].count()),\n",
    "    (req_2_more_df.loc[\n",
    "        (req_2_more_df['usedtime'] <= np.timedelta64(1,'h')) & (req_2_more_df['partition'] == 'turing')\n",
    "    ]['jobid'].count())\n",
    "]\n",
    "\n",
    "under_hour_df['percent'] = [all_entries, maxwell, pascal, turing]"
   ]
  },
  {
   "cell_type": "code",
   "execution_count": null,
   "id": "dd72be99",
   "metadata": {},
   "outputs": [],
   "source": [
    "under_hour_df"
   ]
  },
  {
   "cell_type": "code",
   "execution_count": null,
   "id": "2d569688",
   "metadata": {},
   "outputs": [],
   "source": [
    "sns.barplot(\n",
    "    data = under_hour_df,\n",
    "    x = 'partition',\n",
    "    y = 'total'\n",
    ");"
   ]
  },
  {
   "cell_type": "code",
   "execution_count": null,
   "id": "f561b8e2",
   "metadata": {},
   "outputs": [],
   "source": [
    "top_ten_per_df = req_2_more_df.loc[req_2_more_df['usedtime'] >= req_2_more_df['reqtime'] * .1].copy()"
   ]
  },
  {
   "cell_type": "code",
   "execution_count": null,
   "id": "aab49617",
   "metadata": {},
   "outputs": [],
   "source": [
    "top_ten_per_df.loc[top_ten_per_df['partition'] == 'pascal']['jobid'].count() / top_ten_per_df['jobid'].count()"
   ]
  },
  {
   "cell_type": "code",
   "execution_count": null,
   "id": "27b0be3b",
   "metadata": {},
   "outputs": [],
   "source": [
    "top_ten_per_df.loc[top_ten_per_df['partition'] == 'maxwell']['jobid'].count() / top_ten_per_df['jobid'].count()"
   ]
  },
  {
   "cell_type": "code",
   "execution_count": null,
   "id": "601e379c",
   "metadata": {},
   "outputs": [],
   "source": [
    "top_ten_per_df.loc[top_ten_per_df['partition'] == 'turing']['jobid'].count() / top_ten_per_df['jobid'].count()"
   ]
  },
  {
   "cell_type": "code",
   "execution_count": null,
   "id": "005b83d8",
   "metadata": {},
   "outputs": [],
   "source": [
    "top_ten_per_df['used_per_day'] = top_ten_per_df['usedtime'] / np.timedelta64(1,'D')\n",
    "top_ten_per_df['req_per_day'] = top_ten_per_df['reqtime'] / np.timedelta64(1,'D')\n",
    "\n",
    "top_ten_per_df['time_difference'] = top_ten_per_df['req_per_day'] - top_ten_per_df['used_per_day']"
   ]
  },
  {
   "cell_type": "code",
   "execution_count": null,
   "id": "2835c8b1",
   "metadata": {},
   "outputs": [],
   "source": [
    "five_day_run_out_df = top_ten_per_df.loc[\n",
    "    (top_ten_per_df['reqtime'] == np.timedelta64(5, 'D')) & (top_ten_per_df['time_difference'] <= 0.0417)\n",
    "]"
   ]
  },
  {
   "cell_type": "code",
   "execution_count": null,
   "id": "b023431a",
   "metadata": {},
   "outputs": [],
   "source": [
    "five_day_run_out_df.groupby(['account', 'user'])['jobid'].count().sort_values(ascending = False)"
   ]
  },
  {
   "cell_type": "code",
   "execution_count": null,
   "id": "43418746",
   "metadata": {},
   "outputs": [],
   "source": [
    "five_day_run_out_df.groupby(['account', 'user','partition'])['jobid'].count().sort_values(ascending = False)"
   ]
  },
  {
   "cell_type": "code",
   "execution_count": null,
   "id": "952a9bc3",
   "metadata": {},
   "outputs": [],
   "source": [
    "five_day_run_out_df['jobid'].count()"
   ]
  },
  {
   "cell_type": "code",
   "execution_count": null,
   "id": "1c9d9f4f",
   "metadata": {},
   "outputs": [],
   "source": [
    "def total(account, user):\n",
    "    count = gpu_jobs_df.loc[\n",
    "        ((gpu_jobs_df['account'] == account) & \n",
    "         (gpu_jobs_df['user'] == user) )\n",
    "    ]['jobid'].count()\n",
    "    \n",
    "    return count"
   ]
  },
  {
   "cell_type": "code",
   "execution_count": null,
   "id": "2da6ef52",
   "metadata": {},
   "outputs": [],
   "source": [
    "def five_hour_req(account, user):\n",
    "    count = gpu_jobs_df.loc[\n",
    "        ((gpu_jobs_df['account'] == account) & \n",
    "         (gpu_jobs_df['user'] == user) & \n",
    "         (gpu_jobs_df['reqtime'] == np.timedelta64(5,'D')))\n",
    "    ]['jobid'].count()\n",
    "    \n",
    "    return count"
   ]
  },
  {
   "cell_type": "code",
   "execution_count": null,
   "id": "0ab71a8d",
   "metadata": {},
   "outputs": [],
   "source": [
    "def under_hour(account, user):\n",
    "    count = gpu_jobs_df.loc[\n",
    "        ((gpu_jobs_df['account'] == account) & \n",
    "         (gpu_jobs_df['user'] == user) & \n",
    "         (gpu_jobs_df['reqtime'] == np.timedelta64(5,'D')) &\n",
    "         ((gpu_jobs_df['usedtime'] <= np.timedelta64(1,'h'))))\n",
    "    ]['jobid'].count()\n",
    "    \n",
    "    return count"
   ]
  },
  {
   "cell_type": "code",
   "execution_count": null,
   "id": "8bc0ec4b",
   "metadata": {},
   "outputs": [],
   "source": [
    "def percentiles(account, user):\n",
    "    count = (gpu_jobs_df.loc[\n",
    "        ((gpu_jobs_df['account'] == account) & \n",
    "         (gpu_jobs_df['user'] == user) &\n",
    "         (gpu_jobs_df['reqtime'] == np.timedelta64(5,'D'))\n",
    "        )\n",
    "    ]['usedtime']\n",
    "             .describe(percentiles=[.01, .05, .1, .25, .5, .75, .9, .95, .99])\n",
    "            )[4:13].to_frame().reset_index().transpose()\n",
    "    count.columns = count.iloc[0]\n",
    "    count = count.drop(count.index[0]).reset_index().drop(columns = ['index'])\n",
    "    return count"
   ]
  },
  {
   "cell_type": "code",
   "execution_count": null,
   "id": "84cd0dc4",
   "metadata": {},
   "outputs": [],
   "source": [
    "percentiles('harovin', 'porsha')"
   ]
  },
  {
   "cell_type": "code",
   "execution_count": null,
   "id": "1244b086",
   "metadata": {},
   "outputs": [],
   "source": [
    "har_total = total('harovin', 'porsha')\n",
    "\n",
    "har_five = five_hour_req('harovin', 'porsha')\n",
    "\n",
    "har_under_hour = under_hour('harovin', 'porsha')"
   ]
  },
  {
   "cell_type": "code",
   "execution_count": null,
   "id": "2100680a",
   "metadata": {},
   "outputs": [],
   "source": [
    "gla_total = total('glasshouse', 'jolette')\n",
    "\n",
    "gla_five = five_hour_req('glasshouse', 'jolette')\n",
    "\n",
    "gla_under_hour = under_hour('glasshouse', 'jolette')"
   ]
  },
  {
   "cell_type": "code",
   "execution_count": null,
   "id": "128fe13a",
   "metadata": {},
   "outputs": [],
   "source": [
    "val_total = total('harovin', 'valentina')\n",
    "\n",
    "val_five = five_hour_req('harovin', 'valentina')\n",
    "\n",
    "val_under_hour = under_hour('harovin', 'valentina')"
   ]
  },
  {
   "cell_type": "code",
   "execution_count": null,
   "id": "74f790b4",
   "metadata": {},
   "outputs": [],
   "source": [
    "eri_total = total('glasshouse', 'erick')\n",
    "\n",
    "eri_five = five_hour_req('glasshouse', 'erick')\n",
    "\n",
    "eri_under_hour = under_hour('glasshouse', 'erick')"
   ]
  },
  {
   "cell_type": "code",
   "execution_count": null,
   "id": "01596163",
   "metadata": {},
   "outputs": [],
   "source": [
    "two_run_out_df = pd.DataFrame()\n",
    "\n",
    "two_run_out_df['account'] = ['harovin', 'glasshouse', 'harovin']\n",
    "\n",
    "two_run_out_df['user'] = ['porsha', 'jolette', 'valentina']\n",
    "\n",
    "two_run_out_df['total_jobs'] = [har_total, gla_total, val_total]\n",
    "\n",
    "two_run_out_df['five_day_total'] = [har_five, gla_five, val_five]\n",
    "\n",
    "two_run_out_df['finish_under_hour'] = [\n",
    "    (har_under_hour/har_five * 100).round(2), \n",
    "    (gla_under_hour/gla_five * 100).round(2), \n",
    "    (val_under_hour/val_five * 100).round(2)\n",
    "]\n",
    "\n",
    "#two_run_out_df['1%'] = [\n",
    "    #percentiles('harovin', 'porsha')['1%'][0], \n",
    "    #percentiles('glasshouse', 'jolette')['1%'][0], \n",
    "    #percentiles('harovin', 'valentina')['1%'][0]\n",
    "#]\n",
    "\n",
    "two_run_out_df['5%'] = [\n",
    "    percentiles('harovin', 'porsha')['5%'][0], \n",
    "    percentiles('glasshouse', 'jolette')['5%'][0], \n",
    "    percentiles('harovin', 'valentina')['5%'][0]\n",
    "]\n",
    "\n",
    "#two_run_out_df['10%'] = [\n",
    "    #percentiles('harovin', 'porsha')['10%'][0], \n",
    "    #percentiles('glasshouse', 'jolette')['10%'][0], \n",
    "    #percentiles('harovin', 'valentina')['10%'][0]\n",
    "#]\n",
    "\n",
    "two_run_out_df['25%'] = [\n",
    "    percentiles('harovin', 'porsha')['25%'][0], \n",
    "    percentiles('glasshouse', 'jolette')['25%'][0], \n",
    "    percentiles('harovin', 'valentina')['25%'][0]\n",
    "]\n",
    "\n",
    "two_run_out_df['50%'] = [\n",
    "    percentiles('harovin', 'porsha')['50%'][0], \n",
    "    percentiles('glasshouse', 'jolette')['50%'][0], \n",
    "    percentiles('harovin', 'valentina')['50%'][0]\n",
    "]\n",
    "\n",
    "two_run_out_df['75%'] = [\n",
    "    percentiles('harovin', 'porsha')['75%'][0], \n",
    "    percentiles('glasshouse', 'jolette')['75%'][0], \n",
    "    percentiles('harovin', 'valentina')['75%'][0]\n",
    "]\n",
    "\n",
    "#two_run_out_df['90%'] = [\n",
    "    #percentiles('harovin', 'porsha')['90%'][0], \n",
    "    #percentiles('glasshouse', 'jolette')['90%'][0], \n",
    "    #percentiles('harovin', 'valentina')['90%'][0]\n",
    "#]\n",
    "\n",
    "two_run_out_df['95%'] = [\n",
    "    percentiles('harovin', 'porsha')['95%'][0], \n",
    "    percentiles('glasshouse', 'jolette')['95%'][0], \n",
    "    percentiles('harovin', 'valentina')['95%'][0]\n",
    "]\n",
    "\n",
    "#two_run_out_df['99%'] = [\n",
    "    #percentiles('harovin', 'porsha')['99%'][0], \n",
    "    #percentiles('glasshouse', 'jolette')['99%'][0], \n",
    "    #percentiles('harovin', 'valentina')['99%'][0]\n",
    "#]\n",
    "\n",
    "two_run_out_df['five_day_timeout'] = [\n",
    "    (273 / har_five * 100).round(2), \n",
    "    (213 / gla_five * 100).round(2), \n",
    "    (50 / val_five * 100).round(2)\n",
    "]"
   ]
  },
  {
   "cell_type": "code",
   "execution_count": null,
   "id": "ced981a8",
   "metadata": {},
   "outputs": [],
   "source": [
    "two_run_out_df"
   ]
  },
  {
   "cell_type": "code",
   "execution_count": null,
   "id": "fff6a8b8",
   "metadata": {},
   "outputs": [],
   "source": [
    "two_run_out_df.to_excel(\"../data/close_calls.xlsx\")"
   ]
  },
  {
   "cell_type": "code",
   "execution_count": null,
   "id": "4e18371e",
   "metadata": {},
   "outputs": [],
   "source": []
  }
 ],
 "metadata": {
  "kernelspec": {
   "display_name": "Python 3 (ipykernel)",
   "language": "python",
   "name": "python3"
  },
  "language_info": {
   "codemirror_mode": {
    "name": "ipython",
    "version": 3
   },
   "file_extension": ".py",
   "mimetype": "text/x-python",
   "name": "python",
   "nbconvert_exporter": "python",
   "pygments_lexer": "ipython3",
   "version": "3.9.12"
  }
 },
 "nbformat": 4,
 "nbformat_minor": 5
}
