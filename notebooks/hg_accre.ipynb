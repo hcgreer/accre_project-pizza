{
 "cells": [
  {
   "cell_type": "code",
   "execution_count": 10,
   "id": "eb6b1d46",
   "metadata": {},
   "outputs": [],
   "source": [
    "import pandas as pd\n",
    "import numpy as np\n",
    "import seaborn as sns\n",
    "import itertools"
   ]
  },
  {
   "cell_type": "code",
   "execution_count": 2,
   "id": "6add35c6",
   "metadata": {},
   "outputs": [],
   "source": [
    "raw_df = pd.read_csv('../data/accre-gpu-jobs-2022-v2.csv', on_bad_lines='skip')"
   ]
  },
  {
   "cell_type": "code",
   "execution_count": 3,
   "id": "e027d44e",
   "metadata": {},
   "outputs": [],
   "source": [
    "raw_df.columns = raw_df.columns.str.lower()\n",
    "\n",
    "gpu_jobs_df = (raw_df\n",
    "               .loc[raw_df['state'] == 'COMPLETED']\n",
    "               .copy()\n",
    "              )\n",
    "\n",
    "gpu_jobs_df['reqtime'] = pd.to_timedelta(\n",
    "    gpu_jobs_df['reqtime'].str.replace('-',' days ')\n",
    ")\n",
    "\n",
    "gpu_jobs_df['usedtime'] = pd.to_timedelta(\n",
    "    gpu_jobs_df['usedtime'].str.replace('-',' days ')\n",
    ")"
   ]
  },
  {
   "cell_type": "code",
   "execution_count": 123,
   "id": "73ffebcb",
   "metadata": {},
   "outputs": [
    {
     "data": {
      "image/png": "[encoded data removed]",
      "text/plain": [
       "<Figure size 432x288 with 1 Axes>"
      ]
     },
     "metadata": {
      "needs_background": "light"
     },
     "output_type": "display_data"
    }
   ],
   "source": [
    "sns.boxplot(\n",
    "    x = gpu_jobs_df['reqtime'] / np.timedelta64(1,'D')\n",
    ");"
   ]
  },
  {
   "cell_type": "code",
   "execution_count": 122,
   "id": "e63f8af1",
   "metadata": {},
   "outputs": [
    {
     "data": {
      "image/png": "[encoded data removed]",
      "text/plain": [
       "<Figure size 432x288 with 1 Axes>"
      ]
     },
     "metadata": {
      "needs_background": "light"
     },
     "output_type": "display_data"
    }
   ],
   "source": [
    "sns.boxplot(\n",
    "    x = gpu_jobs_df['usedtime'] / np.timedelta64(1,'D')\n",
    ");"
   ]
  },
  {
   "cell_type": "code",
   "execution_count": 124,
   "id": "ca3d1f25",
   "metadata": {},
   "outputs": [
    {
     "data": {
      "image/png": "[encoded data removed]",
      "text/plain": [
       "<Figure size 432x288 with 1 Axes>"
      ]
     },
     "metadata": {
      "needs_background": "light"
     },
     "output_type": "display_data"
    }
   ],
   "source": [
    "sns.histplot(\n",
    "    x = gpu_jobs_df['reqtime'] / np.timedelta64(1,'D'),\n",
    "    hue = gpu_jobs_df['partition'],\n",
    "    bins = 10\n",
    ");"
   ]
  },
  {
   "cell_type": "code",
   "execution_count": 125,
   "id": "f99a2f00",
   "metadata": {},
   "outputs": [
    {
     "data": {
      "image/png": "[encoded data removed]",
      "text/plain": [
       "<Figure size 432x288 with 1 Axes>"
      ]
     },
     "metadata": {
      "needs_background": "light"
     },
     "output_type": "display_data"
    }
   ],
   "source": [
    "sns.histplot(\n",
    "    x = gpu_jobs_df['usedtime'] / np.timedelta64(1,'D'),\n",
    "    hue = gpu_jobs_df['partition'],\n",
    "    bins = 10\n",
    ");"
   ]
  },
  {
   "cell_type": "code",
   "execution_count": 6,
   "id": "722ab4b0",
   "metadata": {},
   "outputs": [],
   "source": [
    "def all_used_percent(percent):\n",
    "    values = []\n",
    "    for x in percent:\n",
    "        used = gpu_jobs_df.loc[\n",
    "            gpu_jobs_df['usedtime'] >= gpu_jobs_df['reqtime'] * x\n",
    "        ]['jobid'].count()\n",
    "    \n",
    "        per = (used / gpu_jobs_df['jobid'].count() * 100).round(2)\n",
    "    \n",
    "        values.append(per)\n",
    "    return values"
   ]
  },
  {
   "cell_type": "code",
   "execution_count": 24,
   "id": "bbac8a10",
   "metadata": {
    "scrolled": true
   },
   "outputs": [
    {
     "data": {
      "text/plain": [
       "[1.27, 1.5, 1.75, 2.05, 27.8, 77.96, 98.26]"
      ]
     },
     "execution_count": 24,
     "metadata": {},
     "output_type": "execute_result"
    }
   ],
   "source": [
    "percentages = [.9, .8, .7, .6, .01, .001, .0001]\n",
    "days = ['less than', 1, 2, 3, 4, 5, 'more than']"
   ]
  },
  {
   "cell_type": "code",
   "execution_count": 8,
   "id": "21e88566",
   "metadata": {},
   "outputs": [],
   "source": [
    "def less_than_day(percent):\n",
    "    values = []\n",
    "    for x in percent:\n",
    "        used = gpu_jobs_df.loc[\n",
    "                    ((gpu_jobs_df['reqtime'] < np.timedelta64(1,'D')) &\n",
    "                    (gpu_jobs_df['usedtime'] >= gpu_jobs_df['reqtime'] * x)\n",
    "                    )\n",
    "                ]['jobid'].count()\n",
    "            \n",
    "        per = (\n",
    "            (used / gpu_jobs_df.loc[\n",
    "                    gpu_jobs_df['reqtime'] < np.timedelta64(1,'D')\n",
    "            ]['jobid'].count() * 100\n",
    "            )\n",
    "        ).round(2)\n",
    "        values.append(per)\n",
    "    return values"
   ]
  },
  {
   "cell_type": "code",
   "execution_count": 14,
   "id": "855b5560",
   "metadata": {},
   "outputs": [],
   "source": [
    "def per_day(day, percent):\n",
    "    values = []\n",
    "    for x in percent:\n",
    "        used = gpu_jobs_df.loc[\n",
    "                    ((gpu_jobs_df['reqtime'] >= np.timedelta64(day,'D')) &\n",
    "                     (gpu_jobs_df['reqtime'] < np.timedelta64(day + 1,'D')) &\n",
    "                    (gpu_jobs_df['usedtime'] >= gpu_jobs_df['reqtime'] * x)\n",
    "                    )\n",
    "                ]['jobid'].count()\n",
    "        per = (\n",
    "                (used / gpu_jobs_df.loc[\n",
    "                    ((gpu_jobs_df['reqtime'] >= np.timedelta64(day,'D')) &\n",
    "                     (gpu_jobs_df['reqtime'] < np.timedelta64(day + 1,'D'))\n",
    "                    )\n",
    "                ]['jobid'].count() * 100)\n",
    "            ).round(2)\n",
    "        values.append(per)\n",
    "    return values"
   ]
  },
  {
   "cell_type": "code",
   "execution_count": 19,
   "id": "52400160",
   "metadata": {},
   "outputs": [],
   "source": [
    "def more_than_five(percent):\n",
    "    values = []\n",
    "    for x in percent:\n",
    "        used = gpu_jobs_df.loc[\n",
    "                ((gpu_jobs_df['reqtime'] > np.timedelta64(5,'D')) &\n",
    "                (gpu_jobs_df['usedtime'] >= gpu_jobs_df['reqtime'] * x)\n",
    "                )\n",
    "            ]['jobid'].count()\n",
    "        per = (\n",
    "            (used / gpu_jobs_df.loc[\n",
    "                gpu_jobs_df['reqtime'] > np.timedelta64(5,'D')\n",
    "            ]['jobid'].count() * 100\n",
    "            )\n",
    "        ).round(2)\n",
    "        values.append(per)\n",
    "    return values"
   ]
  },
  {
   "cell_type": "code",
   "execution_count": 107,
   "id": "0a1164bd",
   "metadata": {},
   "outputs": [],
   "source": [
    "percent_df = pd.DataFrame()\n",
    "\n",
    "percent_df['percentages'] = percentages\n",
    "percent_df['percentages'] = percent_df['percentages'] * 100\n",
    "\n",
    "percent_df['all_entries'] = all_used_percent(percentages)\n",
    "\n",
    "percent_df['less_than_day'] = less_than_day(percentages)\n",
    "\n",
    "percent_df['one_day'] = per_day(1, percentages)\n",
    "percent_df['two_days'] = per_day(2, percentages)\n",
    "percent_df['three_days'] = per_day(3, percentages)\n",
    "percent_df['four_days'] = per_day(4, percentages)\n",
    "percent_df['five_days'] = per_day(5, percentages)\n",
    "\n",
    "percent_df['more_than_five'] = more_than_five(percentages)\n",
    "\n",
    "percent_df = percent_df.transpose().reset_index()\n",
    "percent_df.columns = percent_df.iloc[0]\n",
    "percent_df = (percent_df\n",
    "              .drop(percent_df.index[0])\n",
    "              .rename(columns = {'percentages' : 'req_days'})\n",
    "             )"
   ]
  },
  {
   "cell_type": "code",
   "execution_count": 108,
   "id": "06528e8a",
   "metadata": {},
   "outputs": [
    {
     "data": {
      "text/html": [
       "<div>\n",
       "<style scoped>\n",
       "    .dataframe tbody tr th:only-of-type {\n",
       "        vertical-align: middle;\n",
       "    }\n",
       "\n",
       "    .dataframe tbody tr th {\n",
       "        vertical-align: top;\n",
       "    }\n",
       "\n",
       "    .dataframe thead th {\n",
       "        text-align: right;\n",
       "    }\n",
       "</style>\n",
       "<table border=\"1\" class=\"dataframe\">\n",
       "  <thead>\n",
       "    <tr style=\"text-align: right;\">\n",
       "      <th></th>\n",
       "      <th>req_days</th>\n",
       "      <th>90.0</th>\n",
       "      <th>80.0</th>\n",
       "      <th>70.0</th>\n",
       "      <th>60.0</th>\n",
       "      <th>1.0</th>\n",
       "      <th>0.1</th>\n",
       "      <th>0.01</th>\n",
       "    </tr>\n",
       "  </thead>\n",
       "  <tbody>\n",
       "    <tr>\n",
       "      <th>1</th>\n",
       "      <td>all_entries</td>\n",
       "      <td>1.27</td>\n",
       "      <td>1.50</td>\n",
       "      <td>1.75</td>\n",
       "      <td>2.05</td>\n",
       "      <td>27.80</td>\n",
       "      <td>77.96</td>\n",
       "      <td>98.26</td>\n",
       "    </tr>\n",
       "    <tr>\n",
       "      <th>2</th>\n",
       "      <td>less_than_day</td>\n",
       "      <td>0.83</td>\n",
       "      <td>1.01</td>\n",
       "      <td>1.20</td>\n",
       "      <td>1.43</td>\n",
       "      <td>25.98</td>\n",
       "      <td>77.73</td>\n",
       "      <td>99.59</td>\n",
       "    </tr>\n",
       "    <tr>\n",
       "      <th>3</th>\n",
       "      <td>one_day</td>\n",
       "      <td>2.63</td>\n",
       "      <td>2.97</td>\n",
       "      <td>3.08</td>\n",
       "      <td>3.30</td>\n",
       "      <td>55.22</td>\n",
       "      <td>79.53</td>\n",
       "      <td>95.77</td>\n",
       "    </tr>\n",
       "    <tr>\n",
       "      <th>4</th>\n",
       "      <td>two_days</td>\n",
       "      <td>1.56</td>\n",
       "      <td>1.73</td>\n",
       "      <td>1.87</td>\n",
       "      <td>2.56</td>\n",
       "      <td>20.55</td>\n",
       "      <td>67.11</td>\n",
       "      <td>88.74</td>\n",
       "    </tr>\n",
       "    <tr>\n",
       "      <th>5</th>\n",
       "      <td>three_days</td>\n",
       "      <td>1.61</td>\n",
       "      <td>1.65</td>\n",
       "      <td>1.75</td>\n",
       "      <td>1.84</td>\n",
       "      <td>21.03</td>\n",
       "      <td>64.00</td>\n",
       "      <td>94.23</td>\n",
       "    </tr>\n",
       "    <tr>\n",
       "      <th>6</th>\n",
       "      <td>four_days</td>\n",
       "      <td>10.43</td>\n",
       "      <td>10.48</td>\n",
       "      <td>11.14</td>\n",
       "      <td>11.65</td>\n",
       "      <td>23.14</td>\n",
       "      <td>77.77</td>\n",
       "      <td>92.30</td>\n",
       "    </tr>\n",
       "    <tr>\n",
       "      <th>7</th>\n",
       "      <td>five_days</td>\n",
       "      <td>3.37</td>\n",
       "      <td>3.99</td>\n",
       "      <td>4.94</td>\n",
       "      <td>5.79</td>\n",
       "      <td>38.57</td>\n",
       "      <td>90.64</td>\n",
       "      <td>95.37</td>\n",
       "    </tr>\n",
       "    <tr>\n",
       "      <th>8</th>\n",
       "      <td>more_than_five</td>\n",
       "      <td>0.00</td>\n",
       "      <td>0.00</td>\n",
       "      <td>0.00</td>\n",
       "      <td>25.00</td>\n",
       "      <td>100.00</td>\n",
       "      <td>100.00</td>\n",
       "      <td>100.00</td>\n",
       "    </tr>\n",
       "  </tbody>\n",
       "</table>\n",
       "</div>"
      ],
      "text/plain": [
       "0        req_days   90.0   80.0   70.0   60.0     1.0     0.1    0.01\n",
       "1     all_entries   1.27   1.50   1.75   2.05   27.80   77.96   98.26\n",
       "2   less_than_day   0.83   1.01   1.20   1.43   25.98   77.73   99.59\n",
       "3         one_day   2.63   2.97   3.08   3.30   55.22   79.53   95.77\n",
       "4        two_days   1.56   1.73   1.87   2.56   20.55   67.11   88.74\n",
       "5      three_days   1.61   1.65   1.75   1.84   21.03   64.00   94.23\n",
       "6       four_days  10.43  10.48  11.14  11.65   23.14   77.77   92.30\n",
       "7       five_days   3.37   3.99   4.94   5.79   38.57   90.64   95.37\n",
       "8  more_than_five   0.00   0.00   0.00  25.00  100.00  100.00  100.00"
      ]
     },
     "execution_count": 108,
     "metadata": {},
     "output_type": "execute_result"
    }
   ],
   "source": [
    "percent_df"
   ]
  },
  {
   "cell_type": "code",
   "execution_count": 112,
   "id": "1cfe4628",
   "metadata": {},
   "outputs": [
    {
     "data": {
      "text/plain": [
       "count                       283333\n",
       "mean     1 days 00:05:59.687223161\n",
       "std      1 days 11:29:35.285143482\n",
       "min                0 days 00:01:00\n",
       "25%                0 days 10:00:00\n",
       "50%                0 days 10:00:00\n",
       "75%                0 days 12:00:00\n",
       "max               15 days 00:00:00\n",
       "Name: reqtime, dtype: object"
      ]
     },
     "execution_count": 112,
     "metadata": {},
     "output_type": "execute_result"
    }
   ],
   "source": [
    "gpu_jobs_df['reqtime'].describe()"
   ]
  },
  {
   "cell_type": "code",
   "execution_count": 113,
   "id": "c784c614",
   "metadata": {},
   "outputs": [
    {
     "data": {
      "text/plain": [
       "count                       283333\n",
       "mean     0 days 01:34:19.081218919\n",
       "std      0 days 09:38:43.694361307\n",
       "min                0 days 00:00:00\n",
       "25%                0 days 00:00:22\n",
       "50%                0 days 00:03:19\n",
       "75%                0 days 00:09:06\n",
       "max                8 days 03:15:34\n",
       "Name: usedtime, dtype: object"
      ]
     },
     "execution_count": 113,
     "metadata": {},
     "output_type": "execute_result"
    }
   ],
   "source": [
    "gpu_jobs_df['usedtime'].describe()"
   ]
  },
  {
   "cell_type": "code",
   "execution_count": null,
   "id": "d49b4e8a",
   "metadata": {},
   "outputs": [],
   "source": []
  }
 ],
 "metadata": {
  "kernelspec": {
   "display_name": "Python 3 (ipykernel)",
   "language": "python",
   "name": "python3"
  },
  "language_info": {
   "codemirror_mode": {
    "name": "ipython",
    "version": 3
   },
   "file_extension": ".py",
   "mimetype": "text/x-python",
   "name": "python",
   "nbconvert_exporter": "python",
   "pygments_lexer": "ipython3",
   "version": "3.9.12"
  }
 },
 "nbformat": 4,
 "nbformat_minor": 5
}
