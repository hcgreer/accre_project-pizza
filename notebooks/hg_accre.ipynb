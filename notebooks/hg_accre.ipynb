{
 "cells": [
  {
   "cell_type": "code",
   "execution_count": 1,
   "id": "eb6b1d46",
   "metadata": {},
   "outputs": [],
   "source": [
    "import pandas as pd\n",
    "import numpy as np\n",
    "import seaborn as sns"
   ]
  },
  {
   "cell_type": "code",
   "execution_count": 2,
   "id": "6add35c6",
   "metadata": {},
   "outputs": [],
   "source": [
    "raw_df = pd.read_csv('../data/accre-gpu-jobs-2022-v2.csv', on_bad_lines='skip')"
   ]
  },
  {
   "cell_type": "code",
   "execution_count": 16,
   "id": "e027d44e",
   "metadata": {},
   "outputs": [],
   "source": [
    "raw_df.columns = raw_df.columns.str.lower()\n",
    "\n",
    "gpu_jobs_df = (raw_df\n",
    "               .loc[raw_df['state'] == 'COMPLETED']\n",
    "               .copy()\n",
    "              )\n",
    "\n",
    "gpu_jobs_df['reqtime'] = pd.to_timedelta(\n",
    "    gpu_jobs_df['reqtime'].str.replace('-',' days ')\n",
    ")\n",
    "\n",
    "gpu_jobs_df['usedtime'] = pd.to_timedelta(\n",
    "    gpu_jobs_df['usedtime'].str.replace('-',' days ')\n",
    ")"
   ]
  },
  {
   "cell_type": "code",
   "execution_count": 20,
   "id": "73ffebcb",
   "metadata": {},
   "outputs": [
    {
     "data": {
      "image/png": "[encoded data removed]",
      "text/plain": [
       "<Figure size 432x288 with 1 Axes>"
      ]
     },
     "metadata": {
      "needs_background": "light"
     },
     "output_type": "display_data"
    }
   ],
   "source": [
    "sns.boxplot(\n",
    "    x = (gpu_jobs_df\n",
    "         .loc[gpu_jobs_df['reqtime'] < np.timedelta64(1,'D')]['reqtime'] / np.timedelta64(1,'D')\n",
    "        )\n",
    ");"
   ]
  },
  {
   "cell_type": "code",
   "execution_count": 21,
   "id": "e63f8af1",
   "metadata": {},
   "outputs": [
    {
     "data": {
      "image/png": "[encoded data removed]",
      "text/plain": [
       "<Figure size 432x288 with 1 Axes>"
      ]
     },
     "metadata": {
      "needs_background": "light"
     },
     "output_type": "display_data"
    }
   ],
   "source": [
    "sns.boxplot(\n",
    "    x = (gpu_jobs_df\n",
    "         .loc[gpu_jobs_df['usedtime'] < np.timedelta64(1,'D')]['usedtime'] / np.timedelta64(1,'D')\n",
    "        )\n",
    ");"
   ]
  },
  {
   "cell_type": "code",
   "execution_count": 44,
   "id": "ca3d1f25",
   "metadata": {},
   "outputs": [
    {
     "data": {
      "image/png": "[encoded data removed]",
      "text/plain": [
       "<Figure size 432x288 with 1 Axes>"
      ]
     },
     "metadata": {
      "needs_background": "light"
     },
     "output_type": "display_data"
    }
   ],
   "source": [
    "sns.histplot(\n",
    "    x = (gpu_jobs_df\n",
    "         .loc[gpu_jobs_df['reqtime'] < np.timedelta64(1,'D')]['reqtime'] / np.timedelta64(1,'D')\n",
    "        ),\n",
    "    hue = gpu_jobs_df['partition'],\n",
    "    bins = 10\n",
    ");"
   ]
  },
  {
   "cell_type": "code",
   "execution_count": 43,
   "id": "f99a2f00",
   "metadata": {},
   "outputs": [
    {
     "data": {
      "image/png": "[encoded data removed]",
      "text/plain": [
       "<Figure size 432x288 with 1 Axes>"
      ]
     },
     "metadata": {
      "needs_background": "light"
     },
     "output_type": "display_data"
    }
   ],
   "source": [
    "sns.histplot(\n",
    "    x = (gpu_jobs_df\n",
    "         .loc[gpu_jobs_df['reqtime'] < np.timedelta64(1,'D')]['usedtime'] / np.timedelta64(1,'D')\n",
    "        ),\n",
    "    hue = gpu_jobs_df['partition'],\n",
    "    bins = 10\n",
    ");"
   ]
  },
  {
   "cell_type": "code",
   "execution_count": 74,
   "id": "722ab4b0",
   "metadata": {},
   "outputs": [],
   "source": [
    "def used_percent(percent):\n",
    "    for x in percent:\n",
    "        used = gpu_jobs_df.loc[\n",
    "            gpu_jobs_df['usedtime'] >= gpu_jobs_df['reqtime'] * x\n",
    "        ]['jobid'].count()\n",
    "    \n",
    "        per = (used / gpu_jobs_df['jobid'].count() * 100).round(2)\n",
    "    \n",
    "        print(per)"
   ]
  },
  {
   "cell_type": "code",
   "execution_count": 91,
   "id": "bbac8a10",
   "metadata": {},
   "outputs": [
    {
     "name": "stdout",
     "output_type": "stream",
     "text": [
      "1.27\n",
      "1.5\n",
      "1.75\n",
      "2.05\n",
      "27.8\n",
      "77.96\n",
      "98.26\n"
     ]
    }
   ],
   "source": [
    "percentages = [.9, .8, .7, .6, .01, .001, .0001]\n",
    "\n",
    "used_percent(percentages)"
   ]
  },
  {
   "cell_type": "code",
   "execution_count": 148,
   "id": "b4685b0a",
   "metadata": {},
   "outputs": [],
   "source": [
    "def used_percent_per_day(day = None, percent = .9):\n",
    "    values = []\n",
    "    for x in percent:\n",
    "        if day == None:\n",
    "            used = gpu_jobs_df.loc[\n",
    "                gpu_jobs_df['usedtime'] >= gpu_jobs_df['reqtime'] * x\n",
    "            ]['jobid'].count()\n",
    "            \n",
    "            per = (used / gpu_jobs_df['jobid'].count() * 100).round(2)\n",
    "        elif day == 0:\n",
    "            used = gpu_jobs_df.loc[\n",
    "                ((gpu_jobs_df['reqtime'] < np.timedelta64(1,'D')) &\n",
    "                (gpu_jobs_df['usedtime'] >= gpu_jobs_df['reqtime'] * x)\n",
    "                )\n",
    "            ]['jobid'].count()\n",
    "            \n",
    "            per = (\n",
    "                (used / gpu_jobs_df.loc[\n",
    "                    gpu_jobs_df['reqtime'] < np.timedelta64(1,'D')\n",
    "                ]['jobid'].count() * 100\n",
    "                )\n",
    "            ).round(2)\n",
    "        elif 1 <= day <= 5:\n",
    "            used = gpu_jobs_df.loc[\n",
    "                ((gpu_jobs_df['reqtime'] >= np.timedelta64(day,'D')) &\n",
    "                 (gpu_jobs_df['reqtime'] < np.timedelta64(day + 1,'D')) &\n",
    "                (gpu_jobs_df['usedtime'] >= gpu_jobs_df['reqtime'] * x)\n",
    "                )\n",
    "            ]['jobid'].count()\n",
    "            per = (\n",
    "                (used / gpu_jobs_df.loc[\n",
    "                    ((gpu_jobs_df['reqtime'] >= np.timedelta64(day,'D')) &\n",
    "                     (gpu_jobs_df['reqtime'] < np.timedelta64(day + 1,'D'))\n",
    "                    )\n",
    "                ]['jobid'].count() * 100)\n",
    "            ).round(2)\n",
    "        else:\n",
    "            used = gpu_jobs_df.loc[\n",
    "                ((gpu_jobs_df['reqtime'] > np.timedelta64(5,'D')) &\n",
    "                (gpu_jobs_df['usedtime'] >= gpu_jobs_df['reqtime'] * x)\n",
    "                )\n",
    "            ]['jobid'].count()\n",
    "            \n",
    "            per = (\n",
    "                (used / gpu_jobs_df.loc[\n",
    "                    gpu_jobs_df['reqtime'] > np.timedelta64(5,'D')\n",
    "                ]['jobid'].count() * 100\n",
    "                )\n",
    "            ).round(2)\n",
    "    \n",
    "        values.append(per)\n",
    "    return values"
   ]
  },
  {
   "cell_type": "code",
   "execution_count": 151,
   "id": "aa7e1fcc",
   "metadata": {},
   "outputs": [],
   "source": [
    "all_entires = used_percent_per_day(percent = percentages)\n",
    "less_than_day = used_percent_per_day(day = 0, percent = percentages)\n",
    "one_day = used_percent_per_day(day = 1, percent = percentages)\n",
    "two_day = used_percent_per_day(day = 2, percent = percentages)\n",
    "three_day = used_percent_per_day(day = 3, percent = percentages)\n",
    "four_day = used_percent_per_day(day = 4, percent = percentages)\n",
    "five_day = used_percent_per_day(day = 5, percent = percentages)\n",
    "more_than_five = used_percent_per_day(day = 6, percent = percentages)"
   ]
  },
  {
   "cell_type": "code",
   "execution_count": null,
   "id": "a4abf206",
   "metadata": {},
   "outputs": [],
   "source": []
  }
 ],
 "metadata": {
  "kernelspec": {
   "display_name": "Python 3 (ipykernel)",
   "language": "python",
   "name": "python3"
  },
  "language_info": {
   "codemirror_mode": {
    "name": "ipython",
    "version": 3
   },
   "file_extension": ".py",
   "mimetype": "text/x-python",
   "name": "python",
   "nbconvert_exporter": "python",
   "pygments_lexer": "ipython3",
   "version": "3.9.12"
  }
 },
 "nbformat": 4,
 "nbformat_minor": 5
}
