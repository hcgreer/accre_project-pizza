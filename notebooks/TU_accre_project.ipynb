{
 "cells": [
  {
   "cell_type": "markdown",
   "id": "9c822590",
   "metadata": {},
   "source": [
    "## The Advanced Computing Center for Research and Education\n",
    "\n",
    "The Advanced Computing Center for Research and Education (ACCRE) is a computer cluster serving the high-performance computing needs of research for Vanderbilt University. In this data question, you will be analyzing data on jobs run on ACCRE's hardware.\n",
    "\n",
    "The computing resources in the ACCRE cluster are divided into nodes. Each node is equipped with some number of CPUs, and some of the nodes contain GPUs (graphical processing units).  You have been provided a dataset, **accre-gpu-jobs-2022.csv**, which contains information on jobs submitted to ACCRE's GPU partitions. Traditionally GPUs were designed to power video games to perform calculations quickly. Because of the nature of their design, GPUs are being used more and more for non-graphics applications as well (e.g. for deep learning applications, molecular dynamics, image processing, and much more).\n",
    "\n",
    "Recently, more researchers are performing work that requires GPU acceleration. Your task in this project is to analyze the GPU jobs that have been run on ACCRE over the last few years in order to better understand what needs to be provisioned moving forward. \n",
    "\n",
    "ACCRE has three scheduler partitions that groups can get access to which consist of machines each with 4 GPU cards. Each partition is named after the nvidia processor generation that it contains, from oldest to newest: maxwell, pascal, and turing. GPU nodes are requested per-GPU, and users can request up to 4 GPUs per node. For each GPU the user is allocated up to one quarter of the machine's RAM and CPU cores. All of the current GPU-accelerated hardware is also connected to a special high-speed RoCE (RDMA over converged ethernet) network allowing for memory sharing on large-scale multi-GPU jobs, so users can also request multiple servers for analysis that requires more than four GPU cards."
   ]
  },
  {
   "cell_type": "code",
   "execution_count": 1,
   "id": "f345fed3",
   "metadata": {},
   "outputs": [],
   "source": [
    "import pandas as pd\n",
    "import re\n",
    "import numpy as np\n",
    "import matplotlib.pyplot as plt\n",
    "import seaborn as sns"
   ]
  },
  {
   "cell_type": "code",
   "execution_count": 2,
   "id": "f2987ce5",
   "metadata": {},
   "outputs": [
    {
     "name": "stderr",
     "output_type": "stream",
     "text": [
      "b'Skipping line 124084: expected 12 fields, saw 13\\nSkipping line 124809: expected 12 fields, saw 13\\n'\n"
     ]
    }
   ],
   "source": [
    "accre_df = pd.read_csv('../data/accre-gpu-jobs-2022-v2.csv', on_bad_lines='warn')"
   ]
  },
  {
   "cell_type": "markdown",
   "id": "1568a724",
   "metadata": {},
   "source": [
    "there are 2 bad lines, we'll ignore them for now..."
   ]
  },
  {
   "cell_type": "code",
   "execution_count": 3,
   "id": "04d4faac",
   "metadata": {},
   "outputs": [
    {
     "data": {
      "text/plain": [
       "(336950, 12)"
      ]
     },
     "execution_count": 3,
     "metadata": {},
     "output_type": "execute_result"
    }
   ],
   "source": [
    "accre_df.shape"
   ]
  },
  {
   "cell_type": "markdown",
   "id": "fcaad311",
   "metadata": {},
   "source": [
    "Found this out later, the REQTIME, USEDTIME and USEDMEM are objects, have to remove junk and convert them:"
   ]
  },
  {
   "cell_type": "code",
   "execution_count": 4,
   "id": "3ca9562c",
   "metadata": {},
   "outputs": [],
   "source": [
    "accre_df['USEDMEM'] = accre_df['USEDMEM'].str.replace(r'M','', regex=True).astype(float)\n",
    "\n",
    "accre_df['REQTIME'] = pd.to_timedelta(accre_df['REQTIME'].str.replace(r'-',' days ', regex=True))\n",
    "accre_df['USEDTIME'] = pd.to_timedelta(accre_df['USEDTIME'].str.replace(r'-',' days ', regex=True))"
   ]
  },
  {
   "cell_type": "markdown",
   "id": "5ae2f9d2",
   "metadata": {},
   "source": [
    "We (pizza group) also decided to split up the dataframe. Dropping all of the running and pending jobs first (being 1258)"
   ]
  },
  {
   "cell_type": "code",
   "execution_count": 5,
   "id": "3c9e8b78",
   "metadata": {},
   "outputs": [],
   "source": [
    "accre_df = accre_df[~accre_df['STATE'].isin(['RUNNING','PENDING'])]"
   ]
  },
  {
   "cell_type": "markdown",
   "id": "3662eaf7",
   "metadata": {},
   "source": [
    "up next, we decided to save the cancelled jobs in a separate dataframe. After that, just to make sure it contains only cancelled in various forms:\n",
    "\n",
    "`pd.unique(accre_cancelled['STATE'])`"
   ]
  },
  {
   "cell_type": "code",
   "execution_count": 6,
   "id": "53011099",
   "metadata": {},
   "outputs": [],
   "source": [
    "accre_cancelled = accre_df[~accre_df['STATE'].isin(['COMPLETED','FAILED','OUT_OF_MEMORY'])]"
   ]
  },
  {
   "cell_type": "markdown",
   "id": "c4c50d64",
   "metadata": {},
   "source": [
    "And finally, the dataframe that we will be using for most of our analysis (only status codes COMPLETED, FAILED or OUT OF MEMORY)"
   ]
  },
  {
   "cell_type": "code",
   "execution_count": 7,
   "id": "bb2a2dad",
   "metadata": {},
   "outputs": [],
   "source": [
    "accre_df = accre_df[accre_df['STATE'].isin(['COMPLETED','FAILED','OUT_OF_MEMORY'])]"
   ]
  },
  {
   "cell_type": "code",
   "execution_count": 8,
   "id": "82228c2b",
   "metadata": {},
   "outputs": [
    {
     "data": {
      "text/plain": [
       "(283776, 12)"
      ]
     },
     "execution_count": 8,
     "metadata": {},
     "output_type": "execute_result"
    }
   ],
   "source": [
    "accre_df.shape"
   ]
  },
  {
   "cell_type": "markdown",
   "id": "8ed5fb34",
   "metadata": {},
   "source": [
    "By doing all that, we got rid of 53174 rows!"
   ]
  },
  {
   "cell_type": "markdown",
   "id": "47adb51b",
   "metadata": {},
   "source": [
    "### Onto some exploration regarding to the very first point\n",
    "\n",
    "The main objectives of this project are to examine the following questions:\n",
    "1. What is the distribution of per-GPU main memory usage over all runtime-weighed jobs in each partition? Knowing this will help ACCRE to understand our users memory needs for future hardware purchases."
   ]
  },
  {
   "cell_type": "markdown",
   "id": "e0b9716a",
   "metadata": {},
   "source": [
    "We've actually done some of this analysis before; but after reformatting the notebook it's now here. How many jobs have used 0 memory (because they ran less than 2 min or otherwise):\n",
    "\n",
    "`accre_df.groupby('USEDMEM').count()`\n",
    "\n",
    "`accre_df[(accre_df['USEDMEM'] == '0') | (accre_df['USEDMEM'] == '0.00M')]`\n",
    "\n",
    "Turns out that was 336950 jobs (0 or 0.00M)"
   ]
  },
  {
   "cell_type": "code",
   "execution_count": 9,
   "id": "23b5e6ee",
   "metadata": {},
   "outputs": [],
   "source": [
    "accre_noM = accre_df[(accre_df['USEDMEM'] != '0') & (accre_df['USEDMEM'] != '0.00M')]"
   ]
  },
  {
   "cell_type": "code",
   "execution_count": 10,
   "id": "a4b76bb3",
   "metadata": {},
   "outputs": [
    {
     "data": {
      "text/plain": [
       "(283776, 12)"
      ]
     },
     "execution_count": 10,
     "metadata": {},
     "output_type": "execute_result"
    }
   ],
   "source": [
    "accre_noM.shape"
   ]
  },
  {
   "cell_type": "markdown",
   "id": "e0ea86fd",
   "metadata": {},
   "source": [
    "After the cleanup from earlier, we only got rid of 5919 jobs here. That is important because some of them had runtimes which would affect the analysis. Initially did some additional exploration into various errors and codes; omitted here."
   ]
  },
  {
   "cell_type": "code",
   "execution_count": 11,
   "id": "bb71a8bb",
   "metadata": {},
   "outputs": [
    {
     "data": {
      "text/html": [
       "<div>\n",
       "<style scoped>\n",
       "    .dataframe tbody tr th:only-of-type {\n",
       "        vertical-align: middle;\n",
       "    }\n",
       "\n",
       "    .dataframe tbody tr th {\n",
       "        vertical-align: top;\n",
       "    }\n",
       "\n",
       "    .dataframe thead th {\n",
       "        text-align: right;\n",
       "    }\n",
       "</style>\n",
       "<table border=\"1\" class=\"dataframe\">\n",
       "  <thead>\n",
       "    <tr style=\"text-align: right;\">\n",
       "      <th></th>\n",
       "      <th>JOBID</th>\n",
       "      <th>ACCOUNT</th>\n",
       "      <th>USER</th>\n",
       "      <th>USEDMEM</th>\n",
       "      <th>REQTIME</th>\n",
       "      <th>USEDTIME</th>\n",
       "      <th>NODES</th>\n",
       "      <th>CPUS</th>\n",
       "      <th>GPUS</th>\n",
       "      <th>PARTITION</th>\n",
       "      <th>EXITCODE</th>\n",
       "      <th>STATE</th>\n",
       "    </tr>\n",
       "  </thead>\n",
       "  <tbody>\n",
       "    <tr>\n",
       "      <th>332639</th>\n",
       "      <td>46247498</td>\n",
       "      <td>glasshouse</td>\n",
       "      <td>tommie</td>\n",
       "      <td>138663.87</td>\n",
       "      <td>5 days 00:00:00</td>\n",
       "      <td>0 days 18:01:08</td>\n",
       "      <td>2</td>\n",
       "      <td>24</td>\n",
       "      <td>8</td>\n",
       "      <td>turing</td>\n",
       "      <td>0:125</td>\n",
       "      <td>OUT_OF_MEMORY</td>\n",
       "    </tr>\n",
       "    <tr>\n",
       "      <th>333434</th>\n",
       "      <td>46329470</td>\n",
       "      <td>pasilla</td>\n",
       "      <td>venus</td>\n",
       "      <td>7.19</td>\n",
       "      <td>0 days 00:30:00</td>\n",
       "      <td>0 days 00:05:05</td>\n",
       "      <td>1</td>\n",
       "      <td>1</td>\n",
       "      <td>1</td>\n",
       "      <td>turing</td>\n",
       "      <td>0:125</td>\n",
       "      <td>OUT_OF_MEMORY</td>\n",
       "    </tr>\n",
       "    <tr>\n",
       "      <th>334513</th>\n",
       "      <td>46514679</td>\n",
       "      <td>glasshouse</td>\n",
       "      <td>arnoldo</td>\n",
       "      <td>24221.36</td>\n",
       "      <td>0 days 04:00:00</td>\n",
       "      <td>0 days 01:11:23</td>\n",
       "      <td>1</td>\n",
       "      <td>6</td>\n",
       "      <td>1</td>\n",
       "      <td>turing</td>\n",
       "      <td>0:125</td>\n",
       "      <td>OUT_OF_MEMORY</td>\n",
       "    </tr>\n",
       "  </tbody>\n",
       "</table>\n",
       "</div>"
      ],
      "text/plain": [
       "           JOBID     ACCOUNT     USER    USEDMEM         REQTIME  \\\n",
       "332639  46247498  glasshouse   tommie  138663.87 5 days 00:00:00   \n",
       "333434  46329470     pasilla    venus       7.19 0 days 00:30:00   \n",
       "334513  46514679  glasshouse  arnoldo   24221.36 0 days 04:00:00   \n",
       "\n",
       "              USEDTIME  NODES  CPUS  GPUS PARTITION EXITCODE          STATE  \n",
       "332639 0 days 18:01:08      2    24     8    turing    0:125  OUT_OF_MEMORY  \n",
       "333434 0 days 00:05:05      1     1     1    turing    0:125  OUT_OF_MEMORY  \n",
       "334513 0 days 01:11:23      1     6     1    turing    0:125  OUT_OF_MEMORY  "
      ]
     },
     "execution_count": 11,
     "metadata": {},
     "output_type": "execute_result"
    }
   ],
   "source": [
    "accre_noM[accre_noM['STATE'] == 'OUT_OF_MEMORY']"
   ]
  },
  {
   "cell_type": "markdown",
   "id": "24ca7dbd",
   "metadata": {},
   "source": [
    "kind of interesting that a job failed with only 7.19M usage and 5 minutes of run time."
   ]
  },
  {
   "cell_type": "code",
   "execution_count": 12,
   "id": "184d1136",
   "metadata": {},
   "outputs": [
    {
     "data": {
      "text/html": [
       "<div>\n",
       "<style scoped>\n",
       "    .dataframe tbody tr th:only-of-type {\n",
       "        vertical-align: middle;\n",
       "    }\n",
       "\n",
       "    .dataframe tbody tr th {\n",
       "        vertical-align: top;\n",
       "    }\n",
       "\n",
       "    .dataframe thead th {\n",
       "        text-align: right;\n",
       "    }\n",
       "</style>\n",
       "<table border=\"1\" class=\"dataframe\">\n",
       "  <thead>\n",
       "    <tr style=\"text-align: right;\">\n",
       "      <th></th>\n",
       "      <th>JOBID</th>\n",
       "      <th>ACCOUNT</th>\n",
       "      <th>USER</th>\n",
       "      <th>USEDMEM</th>\n",
       "      <th>REQTIME</th>\n",
       "      <th>USEDTIME</th>\n",
       "      <th>CPUS</th>\n",
       "      <th>GPUS</th>\n",
       "      <th>PARTITION</th>\n",
       "      <th>EXITCODE</th>\n",
       "      <th>STATE</th>\n",
       "    </tr>\n",
       "    <tr>\n",
       "      <th>NODES</th>\n",
       "      <th></th>\n",
       "      <th></th>\n",
       "      <th></th>\n",
       "      <th></th>\n",
       "      <th></th>\n",
       "      <th></th>\n",
       "      <th></th>\n",
       "      <th></th>\n",
       "      <th></th>\n",
       "      <th></th>\n",
       "      <th></th>\n",
       "    </tr>\n",
       "  </thead>\n",
       "  <tbody>\n",
       "    <tr>\n",
       "      <th>0</th>\n",
       "      <td>63</td>\n",
       "      <td>63</td>\n",
       "      <td>63</td>\n",
       "      <td>63</td>\n",
       "      <td>63</td>\n",
       "      <td>63</td>\n",
       "      <td>63</td>\n",
       "      <td>63</td>\n",
       "      <td>63</td>\n",
       "      <td>63</td>\n",
       "      <td>63</td>\n",
       "    </tr>\n",
       "    <tr>\n",
       "      <th>1</th>\n",
       "      <td>282887</td>\n",
       "      <td>282887</td>\n",
       "      <td>282887</td>\n",
       "      <td>282887</td>\n",
       "      <td>282887</td>\n",
       "      <td>282887</td>\n",
       "      <td>282887</td>\n",
       "      <td>282887</td>\n",
       "      <td>282887</td>\n",
       "      <td>282887</td>\n",
       "      <td>282887</td>\n",
       "    </tr>\n",
       "    <tr>\n",
       "      <th>2</th>\n",
       "      <td>330</td>\n",
       "      <td>330</td>\n",
       "      <td>330</td>\n",
       "      <td>330</td>\n",
       "      <td>330</td>\n",
       "      <td>330</td>\n",
       "      <td>330</td>\n",
       "      <td>330</td>\n",
       "      <td>330</td>\n",
       "      <td>330</td>\n",
       "      <td>330</td>\n",
       "    </tr>\n",
       "    <tr>\n",
       "      <th>3</th>\n",
       "      <td>363</td>\n",
       "      <td>363</td>\n",
       "      <td>363</td>\n",
       "      <td>363</td>\n",
       "      <td>363</td>\n",
       "      <td>363</td>\n",
       "      <td>363</td>\n",
       "      <td>363</td>\n",
       "      <td>363</td>\n",
       "      <td>363</td>\n",
       "      <td>363</td>\n",
       "    </tr>\n",
       "    <tr>\n",
       "      <th>4</th>\n",
       "      <td>48</td>\n",
       "      <td>48</td>\n",
       "      <td>48</td>\n",
       "      <td>48</td>\n",
       "      <td>48</td>\n",
       "      <td>48</td>\n",
       "      <td>48</td>\n",
       "      <td>48</td>\n",
       "      <td>48</td>\n",
       "      <td>48</td>\n",
       "      <td>48</td>\n",
       "    </tr>\n",
       "    <tr>\n",
       "      <th>5</th>\n",
       "      <td>57</td>\n",
       "      <td>57</td>\n",
       "      <td>57</td>\n",
       "      <td>57</td>\n",
       "      <td>57</td>\n",
       "      <td>57</td>\n",
       "      <td>57</td>\n",
       "      <td>57</td>\n",
       "      <td>57</td>\n",
       "      <td>57</td>\n",
       "      <td>57</td>\n",
       "    </tr>\n",
       "    <tr>\n",
       "      <th>6</th>\n",
       "      <td>8</td>\n",
       "      <td>8</td>\n",
       "      <td>8</td>\n",
       "      <td>8</td>\n",
       "      <td>8</td>\n",
       "      <td>8</td>\n",
       "      <td>8</td>\n",
       "      <td>8</td>\n",
       "      <td>8</td>\n",
       "      <td>8</td>\n",
       "      <td>8</td>\n",
       "    </tr>\n",
       "    <tr>\n",
       "      <th>7</th>\n",
       "      <td>12</td>\n",
       "      <td>12</td>\n",
       "      <td>12</td>\n",
       "      <td>12</td>\n",
       "      <td>12</td>\n",
       "      <td>12</td>\n",
       "      <td>12</td>\n",
       "      <td>12</td>\n",
       "      <td>12</td>\n",
       "      <td>12</td>\n",
       "      <td>12</td>\n",
       "    </tr>\n",
       "    <tr>\n",
       "      <th>9</th>\n",
       "      <td>1</td>\n",
       "      <td>1</td>\n",
       "      <td>1</td>\n",
       "      <td>1</td>\n",
       "      <td>1</td>\n",
       "      <td>1</td>\n",
       "      <td>1</td>\n",
       "      <td>1</td>\n",
       "      <td>1</td>\n",
       "      <td>1</td>\n",
       "      <td>1</td>\n",
       "    </tr>\n",
       "    <tr>\n",
       "      <th>10</th>\n",
       "      <td>5</td>\n",
       "      <td>5</td>\n",
       "      <td>5</td>\n",
       "      <td>5</td>\n",
       "      <td>5</td>\n",
       "      <td>5</td>\n",
       "      <td>5</td>\n",
       "      <td>5</td>\n",
       "      <td>5</td>\n",
       "      <td>5</td>\n",
       "      <td>5</td>\n",
       "    </tr>\n",
       "    <tr>\n",
       "      <th>15</th>\n",
       "      <td>2</td>\n",
       "      <td>2</td>\n",
       "      <td>2</td>\n",
       "      <td>2</td>\n",
       "      <td>2</td>\n",
       "      <td>2</td>\n",
       "      <td>2</td>\n",
       "      <td>2</td>\n",
       "      <td>2</td>\n",
       "      <td>2</td>\n",
       "      <td>2</td>\n",
       "    </tr>\n",
       "  </tbody>\n",
       "</table>\n",
       "</div>"
      ],
      "text/plain": [
       "        JOBID  ACCOUNT    USER  USEDMEM  REQTIME  USEDTIME    CPUS    GPUS  \\\n",
       "NODES                                                                        \n",
       "0          63       63      63       63       63        63      63      63   \n",
       "1      282887   282887  282887   282887   282887    282887  282887  282887   \n",
       "2         330      330     330      330      330       330     330     330   \n",
       "3         363      363     363      363      363       363     363     363   \n",
       "4          48       48      48       48       48        48      48      48   \n",
       "5          57       57      57       57       57        57      57      57   \n",
       "6           8        8       8        8        8         8       8       8   \n",
       "7          12       12      12       12       12        12      12      12   \n",
       "9           1        1       1        1        1         1       1       1   \n",
       "10          5        5       5        5        5         5       5       5   \n",
       "15          2        2       2        2        2         2       2       2   \n",
       "\n",
       "       PARTITION  EXITCODE   STATE  \n",
       "NODES                               \n",
       "0             63        63      63  \n",
       "1         282887    282887  282887  \n",
       "2            330       330     330  \n",
       "3            363       363     363  \n",
       "4             48        48      48  \n",
       "5             57        57      57  \n",
       "6              8         8       8  \n",
       "7             12        12      12  \n",
       "9              1         1       1  \n",
       "10             5         5       5  \n",
       "15             2         2       2  "
      ]
     },
     "execution_count": 12,
     "metadata": {},
     "output_type": "execute_result"
    }
   ],
   "source": [
    "accre_noM.groupby('NODES').count()"
   ]
  },
  {
   "cell_type": "code",
   "execution_count": 13,
   "id": "e9162ef6",
   "metadata": {},
   "outputs": [
    {
     "data": {
      "text/html": [
       "<div>\n",
       "<style scoped>\n",
       "    .dataframe tbody tr th:only-of-type {\n",
       "        vertical-align: middle;\n",
       "    }\n",
       "\n",
       "    .dataframe tbody tr th {\n",
       "        vertical-align: top;\n",
       "    }\n",
       "\n",
       "    .dataframe thead th {\n",
       "        text-align: right;\n",
       "    }\n",
       "</style>\n",
       "<table border=\"1\" class=\"dataframe\">\n",
       "  <thead>\n",
       "    <tr style=\"text-align: right;\">\n",
       "      <th></th>\n",
       "      <th>JOBID</th>\n",
       "      <th>ACCOUNT</th>\n",
       "      <th>USER</th>\n",
       "      <th>USEDMEM</th>\n",
       "      <th>REQTIME</th>\n",
       "      <th>USEDTIME</th>\n",
       "      <th>NODES</th>\n",
       "      <th>CPUS</th>\n",
       "      <th>GPUS</th>\n",
       "      <th>PARTITION</th>\n",
       "      <th>EXITCODE</th>\n",
       "      <th>STATE</th>\n",
       "    </tr>\n",
       "  </thead>\n",
       "  <tbody>\n",
       "    <tr>\n",
       "      <th>62122</th>\n",
       "      <td>37020263</td>\n",
       "      <td>pasilla</td>\n",
       "      <td>dola</td>\n",
       "      <td>2.53</td>\n",
       "      <td>0 days 00:20:00</td>\n",
       "      <td>0 days 00:00:03</td>\n",
       "      <td>15</td>\n",
       "      <td>120</td>\n",
       "      <td>60</td>\n",
       "      <td>pascal</td>\n",
       "      <td>0:0</td>\n",
       "      <td>COMPLETED</td>\n",
       "    </tr>\n",
       "    <tr>\n",
       "      <th>270301</th>\n",
       "      <td>44976228</td>\n",
       "      <td>pasilla</td>\n",
       "      <td>dola</td>\n",
       "      <td>7.41</td>\n",
       "      <td>0 days 00:20:00</td>\n",
       "      <td>0 days 00:00:02</td>\n",
       "      <td>15</td>\n",
       "      <td>120</td>\n",
       "      <td>60</td>\n",
       "      <td>pascal</td>\n",
       "      <td>0:0</td>\n",
       "      <td>COMPLETED</td>\n",
       "    </tr>\n",
       "  </tbody>\n",
       "</table>\n",
       "</div>"
      ],
      "text/plain": [
       "           JOBID  ACCOUNT  USER  USEDMEM         REQTIME        USEDTIME  \\\n",
       "62122   37020263  pasilla  dola     2.53 0 days 00:20:00 0 days 00:00:03   \n",
       "270301  44976228  pasilla  dola     7.41 0 days 00:20:00 0 days 00:00:02   \n",
       "\n",
       "        NODES  CPUS  GPUS PARTITION EXITCODE      STATE  \n",
       "62122      15   120    60    pascal      0:0  COMPLETED  \n",
       "270301     15   120    60    pascal      0:0  COMPLETED  "
      ]
     },
     "execution_count": 13,
     "metadata": {},
     "output_type": "execute_result"
    }
   ],
   "source": [
    "accre_noM[accre_noM['NODES'] == 15]"
   ]
  },
  {
   "cell_type": "markdown",
   "id": "08d8d24c",
   "metadata": {},
   "source": [
    "Another interesting observation here that there were 2 jobs, from the same account and user who required 15 nodes (60) gpus; much more than anyone else!"
   ]
  },
  {
   "cell_type": "markdown",
   "id": "84878039",
   "metadata": {},
   "source": [
    "Back to the question ... My understanding of the question 1) memory/gpu * time(job)/time(total)"
   ]
  },
  {
   "cell_type": "code",
   "execution_count": 14,
   "id": "ac111bb4",
   "metadata": {},
   "outputs": [
    {
     "data": {
      "text/plain": [
       "PARTITION\n",
       "maxwell   2642 days 03:08:29\n",
       "pascal    9780 days 21:19:05\n",
       "turing    6407 days 15:58:37\n",
       "Name: USEDTIME, dtype: timedelta64[ns]"
      ]
     },
     "execution_count": 14,
     "metadata": {},
     "output_type": "execute_result"
    }
   ],
   "source": [
    "accre_noM.groupby('PARTITION')['USEDTIME'].sum()"
   ]
  },
  {
   "cell_type": "code",
   "execution_count": 15,
   "id": "40d168bb",
   "metadata": {},
   "outputs": [],
   "source": [
    "accre_noM['TOT_USEDTIME_PART'] = accre_noM.groupby('PARTITION')['USEDTIME'].transform('sum').to_frame()"
   ]
  },
  {
   "cell_type": "code",
   "execution_count": 16,
   "id": "1bed3e98",
   "metadata": {},
   "outputs": [],
   "source": [
    "accre_noM['WEIGHTED_MEM_GPU'] = (\n",
    "    (accre_noM['USEDMEM']/ accre_noM['GPUS']) *\n",
    "    (accre_noM['USEDTIME']/accre_noM['TOT_USEDTIME_PART'])\n",
    ")"
   ]
  },
  {
   "cell_type": "code",
   "execution_count": 17,
   "id": "e6180a53",
   "metadata": {},
   "outputs": [
    {
     "data": {
      "image/png": "[encoded data removed]",
      "text/plain": [
       "<Figure size 432x288 with 1 Axes>"
      ]
     },
     "metadata": {
      "needs_background": "light"
     },
     "output_type": "display_data"
    }
   ],
   "source": [
    "plt.axis\n",
    "accre_noM['WEIGHTED_MEM_GPU'].plot(kind='hist', log='True');"
   ]
  },
  {
   "cell_type": "markdown",
   "id": "390d76fb",
   "metadata": {},
   "source": [
    "Very heavy skew visible above -> meaning that most jobs take only a fraction of total time (per partition) and/or use very little memory. Let's compare partitions."
   ]
  },
  {
   "cell_type": "code",
   "execution_count": 24,
   "id": "fe8a9cba",
   "metadata": {},
   "outputs": [
    {
     "data": {
      "text/plain": [
       "PARTITION\n",
       "maxwell    2297.826032\n",
       "pascal     2751.601922\n",
       "turing     9277.105272\n",
       "Name: WEIGHTED_MEM_GPU, dtype: float64"
      ]
     },
     "execution_count": 24,
     "metadata": {},
     "output_type": "execute_result"
    }
   ],
   "source": [
    "accre_noM.groupby('PARTITION')['WEIGHTED_MEM_GPU'].sum()"
   ]
  },
  {
   "cell_type": "markdown",
   "id": "f23aac33",
   "metadata": {},
   "source": [
    "Even though more time (overall) was spent on Pascal than Turing, the memory usage of the latter one prevails. It's also interesting how close together Maxwell and Pascal are. Also, using the describe below, we can see how heavily the data is skewed."
   ]
  },
  {
   "cell_type": "code",
   "execution_count": 23,
   "id": "b1d4edc5",
   "metadata": {},
   "outputs": [
    {
     "data": {
      "text/html": [
       "<div>\n",
       "<style scoped>\n",
       "    .dataframe tbody tr th:only-of-type {\n",
       "        vertical-align: middle;\n",
       "    }\n",
       "\n",
       "    .dataframe tbody tr th {\n",
       "        vertical-align: top;\n",
       "    }\n",
       "\n",
       "    .dataframe thead th {\n",
       "        text-align: right;\n",
       "    }\n",
       "</style>\n",
       "<table border=\"1\" class=\"dataframe\">\n",
       "  <thead>\n",
       "    <tr style=\"text-align: right;\">\n",
       "      <th></th>\n",
       "      <th>count</th>\n",
       "      <th>mean</th>\n",
       "      <th>std</th>\n",
       "      <th>min</th>\n",
       "      <th>25%</th>\n",
       "      <th>50%</th>\n",
       "      <th>75%</th>\n",
       "      <th>max</th>\n",
       "    </tr>\n",
       "    <tr>\n",
       "      <th>PARTITION</th>\n",
       "      <th></th>\n",
       "      <th></th>\n",
       "      <th></th>\n",
       "      <th></th>\n",
       "      <th></th>\n",
       "      <th></th>\n",
       "      <th></th>\n",
       "      <th></th>\n",
       "    </tr>\n",
       "  </thead>\n",
       "  <tbody>\n",
       "    <tr>\n",
       "      <th>maxwell</th>\n",
       "      <td>127160.0</td>\n",
       "      <td>0.018070</td>\n",
       "      <td>0.477414</td>\n",
       "      <td>0.0</td>\n",
       "      <td>2.426843e-07</td>\n",
       "      <td>0.000904</td>\n",
       "      <td>0.001294</td>\n",
       "      <td>42.982171</td>\n",
       "    </tr>\n",
       "    <tr>\n",
       "      <th>pascal</th>\n",
       "      <td>81544.0</td>\n",
       "      <td>0.033744</td>\n",
       "      <td>0.379766</td>\n",
       "      <td>0.0</td>\n",
       "      <td>5.820515e-05</td>\n",
       "      <td>0.000834</td>\n",
       "      <td>0.002996</td>\n",
       "      <td>26.793911</td>\n",
       "    </tr>\n",
       "    <tr>\n",
       "      <th>turing</th>\n",
       "      <td>75072.0</td>\n",
       "      <td>0.123576</td>\n",
       "      <td>1.181682</td>\n",
       "      <td>0.0</td>\n",
       "      <td>1.873841e-07</td>\n",
       "      <td>0.000754</td>\n",
       "      <td>0.002275</td>\n",
       "      <td>43.074130</td>\n",
       "    </tr>\n",
       "  </tbody>\n",
       "</table>\n",
       "</div>"
      ],
      "text/plain": [
       "              count      mean       std  min           25%       50%  \\\n",
       "PARTITION                                                              \n",
       "maxwell    127160.0  0.018070  0.477414  0.0  2.426843e-07  0.000904   \n",
       "pascal      81544.0  0.033744  0.379766  0.0  5.820515e-05  0.000834   \n",
       "turing      75072.0  0.123576  1.181682  0.0  1.873841e-07  0.000754   \n",
       "\n",
       "                75%        max  \n",
       "PARTITION                       \n",
       "maxwell    0.001294  42.982171  \n",
       "pascal     0.002996  26.793911  \n",
       "turing     0.002275  43.074130  "
      ]
     },
     "execution_count": 23,
     "metadata": {},
     "output_type": "execute_result"
    }
   ],
   "source": [
    "accre_noM.groupby('PARTITION')['WEIGHTED_MEM_GPU'].describe()"
   ]
  },
  {
   "cell_type": "code",
   "execution_count": 27,
   "id": "2ae2c174",
   "metadata": {},
   "outputs": [
    {
     "data": {
      "image/png": "[encoded data removed]",
      "text/plain": [
       "<Figure size 864x288 with 1 Axes>"
      ]
     },
     "metadata": {
      "needs_background": "light"
     },
     "output_type": "display_data"
    }
   ],
   "source": [
    "fig, ax = plt.subplots(figsize = (12,4))\n",
    "\n",
    "sns.boxplot(\n",
    "            data=accre_noM, \n",
    "            x='WEIGHTED_MEM_GPU', \n",
    "            y='PARTITION', \n",
    "            ax=ax\n",
    ")\n",
    "plt.xlabel('Runtime Weighted (per partition) Memory usage per GPU');"
   ]
  },
  {
   "cell_type": "code",
   "execution_count": 50,
   "id": "d42a1a8b",
   "metadata": {},
   "outputs": [
    {
     "data": {
      "image/png": "[encoded data removed]",
      "text/plain": [
       "<Figure size 576x864 with 5 Axes>"
      ]
     },
     "metadata": {
      "needs_background": "light"
     },
     "output_type": "display_data"
    }
   ],
   "source": [
    "#Trying to plot the above by making cuts at different values\n",
    "fig, axes = plt.subplots(5, sharex=True, figsize=(8, 12))\n",
    "axes = axes.flatten()\n",
    "fig.suptitle('Runtime Weighted (per partition) Memory usage per GPU')\n",
    "\n",
    "ax = sns.boxplot(\n",
    "        data=accre_noM.loc[accre_noM['WEIGHTED_MEM_GPU']>0.1], \n",
    "        x='WEIGHTED_MEM_GPU', \n",
    "        y='PARTITION',\n",
    "        orient='h',\n",
    "        ax=axes[0]\n",
    ")\n",
    "axes[0].set_xlabel('WEIGHTED_MEM_GPU > 0.1')\n",
    "\n",
    "ax = sns.boxplot(\n",
    "        data=accre_noM.loc[accre_noM['WEIGHTED_MEM_GPU']>0.5], \n",
    "        x='WEIGHTED_MEM_GPU', \n",
    "        y='PARTITION',\n",
    "        orient='h',\n",
    "        ax=axes[1]\n",
    ")\n",
    "axes[1].set_xlabel('WEIGHTED_MEM_GPU > 0.5')\n",
    "\n",
    "ax = sns.boxplot(\n",
    "        data=accre_noM.loc[accre_noM['WEIGHTED_MEM_GPU']>1], \n",
    "        x='WEIGHTED_MEM_GPU', \n",
    "        y='PARTITION',\n",
    "        orient='h',\n",
    "        ax=axes[2]\n",
    ")\n",
    "axes[2].set_xlabel('WEIGHTED_MEM_GPU > 1')\n",
    "\n",
    "ax = sns.boxplot(\n",
    "        data=accre_noM.loc[accre_noM['WEIGHTED_MEM_GPU']>3], \n",
    "        x='WEIGHTED_MEM_GPU', \n",
    "        y='PARTITION',\n",
    "        orient='h',\n",
    "        ax=axes[3]\n",
    ")\n",
    "axes[3].set_xlabel('WEIGHTED_MEM_GPU > 3')\n",
    "\n",
    "ax = sns.boxplot(\n",
    "        data=accre_noM.loc[accre_noM['WEIGHTED_MEM_GPU']>10], \n",
    "        x='WEIGHTED_MEM_GPU', \n",
    "        y='PARTITION',\n",
    "        orient='h',\n",
    "        ax=axes[4]\n",
    ")\n",
    "axes[4].set_xlabel('WEIGHTED_MEM_GPU > 10')\n",
    "\n",
    "fig = ax.get_figure()\n",
    "fig.tight_layout()\n",
    "fig.subplots_adjust(top=0.95)"
   ]
  },
  {
   "cell_type": "markdown",
   "id": "00179d83",
   "metadata": {},
   "source": [
    "\n",
    "2. What is the distribution of the number of GPUs in each job (runtime-weighted) for each partition? What fraction of runtime-weighted and GPU-weighted jobs are using more than 4 GPUs and thus probably using the RoCE networking? Is this fraction different for each partition?\n",
    "3. What is the total runtime usage per-gpu (i.e. multiply runtime by the number of gpus) in each of the 3 partitions over the last year?\n",
    "4. What is the distribution of different groups and users accessing each partition? In each partition, who are the top users, and do they represent a majority of the runtime-weighted jobs on the partition?\n",
    "5. Currently there is a 5 day limit on runtime for GPU jobs, although some users have been asking for extensions. What is the distribution of requested runtime and actual runtime on jobs on each partition? Do users really need more time, or are they simply always requesting the maximum?"
   ]
  }
 ],
 "metadata": {
  "kernelspec": {
   "display_name": "Python 3 (ipykernel)",
   "language": "python",
   "name": "python3"
  },
  "language_info": {
   "codemirror_mode": {
    "name": "ipython",
    "version": 3
   },
   "file_extension": ".py",
   "mimetype": "text/x-python",
   "name": "python",
   "nbconvert_exporter": "python",
   "pygments_lexer": "ipython3",
   "version": "3.9.12"
  }
 },
 "nbformat": 4,
 "nbformat_minor": 5
}
